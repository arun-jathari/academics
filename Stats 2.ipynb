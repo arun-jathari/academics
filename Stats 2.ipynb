{
 "cells": [
  {
   "cell_type": "markdown",
   "metadata": {},
   "source": [
    "## Binomial(n,p): Expression for probability"
   ]
  },
  {
   "cell_type": "markdown",
   "metadata": {},
   "source": [
    "$P(B(n,p)=k)=^nC_k p^k(1-p)^{n-k}$"
   ]
  },
  {
   "cell_type": "markdown",
   "metadata": {},
   "source": [
    "## Geometric distribution"
   ]
  },
  {
   "cell_type": "markdown",
   "metadata": {},
   "source": [
    "$P(G\\leq k)=P(G=1 $ or $ G=2$ or $...$ or $G=k)$  \n",
    "$P(G\\leq k)=p + (1-p)p+(1-p)^2p +...+(1-p)^{k-1}p$  \n",
    "$=1-(1-p)^k$  \n",
    "$P(G>k)=1-P(G\\leq k)=(1-p)^k$"
   ]
  },
  {
   "cell_type": "markdown",
   "metadata": {},
   "source": [
    "$a + ar +ar^2 +ar^3 + .... = \\displaystyle\\frac{a}{1-r}$  give that $0<r<1$   \n",
    "$a +a^2 +a^3 + .... = \\displaystyle\\frac{a}{1-a}$  give that $0<a<1$  \n"
   ]
  },
  {
   "cell_type": "markdown",
   "metadata": {},
   "source": [
    "## Poisson random variable"
   ]
  },
  {
   "cell_type": "markdown",
   "metadata": {},
   "source": [
    "Range: {$0,1,2,3,...$}  \n",
    "PMF: $f_x(k)=e^{-\\lambda}\\displaystyle\\frac{\\lambda^k}{k!}$  \n",
    "$e^{\\lambda}=1+\\lambda+\\lambda^2/2!+\\lambda^3/3!+...$"
   ]
  }
 ],
 "metadata": {
  "language_info": {
   "name": "python"
  },
  "orig_nbformat": 4
 },
 "nbformat": 4,
 "nbformat_minor": 2
}
