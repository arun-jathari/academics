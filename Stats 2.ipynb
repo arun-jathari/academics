{
 "cells": [
  {
   "cell_type": "markdown",
   "metadata": {},
   "source": [
    "## Binomial(n,p): Expression for probability"
   ]
  },
  {
   "cell_type": "markdown",
   "metadata": {},
   "source": [
    "$P(B(n,p)=k)=^nC_k p^k(1-p)^{n-k}$"
   ]
  },
  {
   "cell_type": "markdown",
   "metadata": {},
   "source": [
    "## Geometric distribution"
   ]
  },
  {
   "cell_type": "markdown",
   "metadata": {},
   "source": [
    "$P(G\\leq k)=P(G=1 $ or $ G=2$ or $...$ or $G=k)$  \n",
    "$P(G\\leq k)=p + (1-p)p+(1-p)^2p +...+(1-p)^{k-1}p$  \n",
    "$=1-(1-p)^k$  \n",
    "$P(G>k)=1-P(G\\leq k)=(1-p)^k$"
   ]
  },
  {
   "cell_type": "markdown",
   "metadata": {},
   "source": [
    "$a + ar +ar^2 +ar^3 + .... = \\displaystyle\\frac{a}{1-r}$  give that $0<r<1$   \n",
    "$a +a^2 +a^3 + .... = \\displaystyle\\frac{a}{1-a}$  give that $0<a<1$  \n"
   ]
  },
  {
   "cell_type": "markdown",
   "metadata": {},
   "source": [
    "## Poisson random variable"
   ]
  },
  {
   "cell_type": "markdown",
   "metadata": {},
   "source": [
    "Range: {$0,1,2,3,...$}  \n",
    "PMF: $f_x(k)=e^{-\\lambda}\\displaystyle\\frac{\\lambda^k}{k!}$  \n",
    "$e^{\\lambda}=1+\\lambda+\\lambda^2/2!+\\lambda^3/3!+...$"
   ]
  },
  {
   "cell_type": "markdown",
   "metadata": {},
   "source": [
    "# Week 5"
   ]
  },
  {
   "cell_type": "markdown",
   "metadata": {},
   "source": [
    "## Functions of continuous random variable"
   ]
  },
  {
   "cell_type": "markdown",
   "metadata": {},
   "source": [
    "### Why functions?"
   ]
  },
  {
   "cell_type": "markdown",
   "metadata": {},
   "source": [
    "* We may model one quantity as a random variable $X$. We may have to work with another closely related quantity\n",
    "* Eg 1\n",
    "    * Length of a square: $X$\n",
    "    * Area of the square: $Y=X^2$\n",
    "* Eg 2\n",
    "    * Volume of a liquid: $X$\n",
    "    * Density: $\\rho$\n",
    "    * Weight: $Y=\\rho X$\n",
    "* Given the distribution of $X$, it is useful to habe a method for finding the distribution of a function of $X$"
   ]
  },
  {
   "cell_type": "markdown",
   "metadata": {},
   "source": [
    "Example  \n",
    "Suppose $X\\approx $ Uniform[0,1]\n",
    "* $Y=2X \\in [0,2]$ is clearly a random variable\n",
    "* What is the distribution of $Y$?\n",
    "\n",
    "For $y\\in [0,2]$,  \n",
    "$F_Y(y)=P(Y\\leq y)=P(2X\\leq y) = P(X\\leq y/2)=\\int_{0}^{\\frac y2}f_X(x)dx=\\displaystyle\\frac y2$.  \n",
    "PDF of $Y$, $f_Y(y)=\\displaystyle\\frac{dF_Y(Y)}{dy}=\\frac 12$.  \n",
    "$Y\\approx $ Uniform[0,2]"
   ]
  },
  {
   "cell_type": "markdown",
   "metadata": {},
   "source": [
    "$Y=aX+b \\approx $ Uniform [b,b+a]"
   ]
  },
  {
   "cell_type": "markdown",
   "metadata": {},
   "source": [
    "### General case: CDF of g(X)"
   ]
  },
  {
   "cell_type": "markdown",
   "metadata": {},
   "source": [
    "* Suppose $X$ is a continuous random variable with CDF $F_X$ and PDF $f_X$\n",
    "* Suppose $g:\\mathbb{R}\\mapsto \\mathbb{R}$ is a (reasonable) function\n",
    "* Then, $Y=g(X)$ is a random variable with CDF $F_Y$ determined as follows:\n",
    "    * $F_Y(y)=P(Y\\leq y)=P(g(X)\\leq y)=P(X\\in \\{x:g(x)\\leq y\\})$\n",
    "* How to evaluate the above proabability?\n",
    "    * Convert the subset $A_y=\\{x:g(x)\\leq y\\}$ into intervals in real line\n",
    "    * Find the probability that $X$ falls in those intervals\n",
    "    * $F_Y(y)=P(X\\in A_y)=\\int_{A_y}f_X(x)dx$\n",
    "* If $F_Y$ has no jumps, you may be able to differentiate and find a PDF"
   ]
  },
  {
   "cell_type": "markdown",
   "metadata": {},
   "source": [
    "### Monotonic, differentiable functions"
   ]
  },
  {
   "cell_type": "markdown",
   "metadata": {},
   "source": [
    "Theorem:  \n",
    "Suppose $X$ is a continuous random variable with PDF $f_X$. Let $g(x)$ be monotonic for $x\\in $ supp($X$) with derivative $g'(x)=\\frac{dg(x)}{dx}$. Then, the PDF of $Y=g(X)$ is   \n",
    "$$f_Y(y)=\\displaystyle\\frac{1}{|g'(g^{-1}(y))|} f_X(g^{-1}(y))$$"
   ]
  },
  {
   "cell_type": "markdown",
   "metadata": {},
   "source": [
    "* Translation: $Y=X+a$  \n",
    "$$f_Y(y)=f_X(y-a)$$\n",
    "* Scaling: $Y=aX$  \n",
    "$$f_Y(y)=\\displaystyle\\frac 1{|a|}f_X(y/a)$$\n",
    "* Affine: $Y=aX+b$  \n",
    "$$f_Y(y)=\\displaystyle\\frac 1{|a|}f_X((y-b)/a)$$"
   ]
  },
  {
   "cell_type": "markdown",
   "metadata": {},
   "source": [
    "### Affine transformation of normal distributions"
   ]
  },
  {
   "cell_type": "markdown",
   "metadata": {},
   "source": [
    "* $X\\approx $ Normal(0,1)  \n",
    "$$f_X(x)=\\displaystyle\\frac{1}{\\sqrt{2\\pi}}exp(-x^2/2)$$\n",
    "&emsp;&emsp;&emsp;&emsp;$Y=\\sigma X+\\mu$\n",
    "$$f_Y(y)=\\displaystyle\\frac 1{\\sigma\\sqrt{2\\pi}}\\exp(-(y-\\mu)^2/2\\sigma^2)$$\n",
    "&emsp;&emsp;&emsp;&emsp;$Y\\approx$ Normal($\\mu,\\sigma^2$)\n",
    "* $X\\approx$ Normal($\\mu,\\sigma^2$)  \n",
    "    * $Y=(X-\\mu)/\\sigma\\approx$ Normal(0,1)\n",
    "\n",
    "> Note:  \n",
    "Affine transformation of a normal random variable is normal."
   ]
  },
  {
   "cell_type": "markdown",
   "metadata": {
    "vscode": {
     "languageId": "plaintext"
    }
   },
   "source": [
    "#### Problem1"
   ]
  },
  {
   "cell_type": "markdown",
   "metadata": {},
   "source": [
    "Let $X\\approx Exp(\\lambda)$. Find the PDF of $X^2$.  \n",
    "Sol:  \n",
    "$f_X(x)=\\begin{cases} \\lambda e^{-\\lambda x},& x>0\\\\ 0,& otherwise\\end{cases}$  \n",
    "Support $f(X)=\\{x:x>0\\}$  \n",
    "$g(x)=x^2$ (monotonic)  \n",
    "$g'(x)=2x \\implies y=x^2 \\implies x=\\sqrt{y}\\implies g^{-1}(y)=\\sqrt{y}$  \n",
    "we have $ Y=X^2$  \n",
    "$\\because f_Y(y)=\\displaystyle\\frac{1}{|g'(g^{-1}(y))|} f_X(g^{-1}(y))$  \n",
    "$f_Y(y)=\\displaystyle\\frac 1{2\\sqrt{y}}\\lambda e^{-\\lambda\\sqrt{y}},y>0$  \n"
   ]
  }
 ],
 "metadata": {
  "language_info": {
   "name": "python"
  },
  "orig_nbformat": 4
 },
 "nbformat": 4,
 "nbformat_minor": 2
}
