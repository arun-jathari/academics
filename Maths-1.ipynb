{
 "cells": [
  {
   "cell_type": "markdown",
   "metadata": {},
   "source": [
    "<style>\n",
    "r { color: Red }\n",
    "o { color: Orange }\n",
    "g { color: Green }\n",
    "bl { color: blue}\n",
    "</style>\n",
    "## Binary relations  \n",
    "* <r>Identity relation</r> <bl>$I\\sube A \\times A$\n",
    "    * $I = \\{(a,b)|(a,b) \\in A\\times A, a=b\\}$\n",
    "    * $I = \\{(a,b)|(a,a) \\in A\\times A\\}$\n",
    "    * $I = \\{(a,b)| a \\in A\\}$</bl>\n",
    "* <r>Reflexive relations</r><bl>\n",
    "    * $R \\sube A\\times A, I \\sube R$\n",
    "    * $\\{(a,b)|(a,b) \\in \\mathbb{N}\\times\\mathbb{N}, a, b>0, a|b\\}$\n",
    "        * $a|a\\text{~} \\forall\\text{~} a>0$</bl>\n",
    "* <r>Symmetric relations</r><bl>\n",
    "    * $(a,b) \\in  \\mathbb{R} \\iff (b,a)\\in\\mathbb{R}$\n",
    "    * $\\{(a,b)|(a,b)\\in\\mathbb{N}\\times\\mathbb{N},text{~}gcd(a,b)=1\\}$\n",
    "    * $\\{(a,b)|(a,b) \\in \\mathbb{N}\\times\\mathbb{N},\\text{~}|a-b|=2\\}$</bl>\n",
    "* <r>Transitive relations</r>\n",
    "    * If <bl>$(a,b) \\in \\mathbb{R}$</bl> and <bl>$(b,c) \\in \\mathbb{R}$</bl> then <bl>$(a,c) \\in \\mathbb{R}$</bl>\n",
    "    * <bl>$\\{(a,b)|(a,b) \\in \\mathbb{N}\\times\\mathbb{N},\\text{~}a|b\\}$</bl>\n",
    "        * If <bl>$a|b$</bl> and <bl>$b|c$</bl> then <bl>$a|c$</bl>\n",
    "    * <bl>$\\{(a,b)|(a,b) \\in \\mathbb{R}\\times\\mathbb{R},\\text{~}a<b\\}$</bl>\n",
    "        * If <bl>$a<b$</bl> and <bl>$b<c$</bl> then <bl>$a<c$</bl>\n",
    "* <r>Antisymmetric relations</r>\n",
    "    * If <bl>$(a,b) \\in \\mathbb{R}$</bl> and <bl>$a\\neq b$</bl> then <bl>$(b,a)  \\notin  \\mathbb{R}$</bl>\n",
    "    * <bl>$\\{(a,b)|(a,b) \\in \\mathbb{R}\\times\\mathbb{R},\\text{~}a<b\\}$</bl>\n",
    "        * If <bl>$a<b$</bl> then <bl>$b \\nless a$</bl>\n",
    "    * <bl>$M\\sube P\\times P$</bl> relates mother to childredn\n",
    "        * If <bl>$(p,c) \\in M$</bl> then <bl>$(c,p) \\notin M$</bl>"
   ]
  },
  {
   "cell_type": "markdown",
   "metadata": {},
   "source": [
    "<style>\n",
    "r { color: Red }\n",
    "o { color: Orange }\n",
    "g { color: Green }\n",
    "bl { color: blue}\n",
    "</style>\n",
    "## Equivalence relations\n",
    "* Reflexive, symmetric and transitive\n",
    "* Same remainder modulo <bl>5</bl>\n",
    "    * <bl>$7 \\mod 5=2, \\text{~}22 \\mod 5 =2$</bl>\n",
    "    * If <bl>$a \\mod 5 = b \\mod 5$</bl> then <bl>$(b-a)$</bl> is a multiple of <bl>$5$</bl>\n",
    "    * <bl>$\\mathbb{Z}\\mod 5 = \\{(a,b)|a,b \\in \\mathbb{Z},\\text{~}(b-a)\\mod 5 = 0\\}$</bl>\n",
    "    * Divides integers into <bl>$5$</bl> <r>Disjoint</r> groups/classes based on remainder when divided by <bl>$5$</bl> \n",
    "* An equivalence relation <r>partitions</r> a set\n",
    "* Groups of equivalent elements  are called <r>equivalence classes</r>"
   ]
  },
  {
   "cell_type": "markdown",
   "metadata": {},
   "source": [
    "## Function"
   ]
  },
  {
   "cell_type": "markdown",
   "metadata": {},
   "source": [
    "<style>\n",
    "r { color: Red }\n",
    "o { color: Orange }\n",
    "g { color: Green }\n",
    "bl { color: blue}\n",
    "</style>\n",
    "* A rule maps inputs to outputs\n",
    "    * rule: <bl>$x\\mapsto x^2$</bl>\n",
    "    * <bl>$sq(x) = x^2$</bl>\n",
    "* Input and output sets\n",
    "    * <r>Domain</r>: Input set\n",
    "        * <bl>$\\text{domain}(sq) = \\mathbb{R}$</bl>\n",
    "    * <r>Codomain</r>: Output set of possible values\n",
    "        * <bl>$\\text{codomain}(sq) = \\mathbb{R}$</bl>\n",
    "    * <r>Range</r>: Actual values that the output can take\n",
    "        * <bl>$\\text{range}(sq) = \\mathbb{R}_{\\geq 0} = \\{r|r\\in\\mathbb{R},\\text{~}r\\geq 0 \\}$</bl>\n",
    "* <bl>$f:X\\rightarrow Y$</bl>, domain of <bl>$f$</bl> is <bl>$X$</bl>, codomain is <bl>$Y$</bl>\n",
    "* Assosiate a relation <bl>$R_f$</bl> with each function <bl>$f$</bl>\n",
    "* <bl>$R_{sq} = \\{(x,y)|x,y\\in\\mathbb{R},\\text{~}y=x^2\\}$</bl>\n",
    "    * Additional notation: <bl>$y=x^2$</bl>\n",
    "* <bl>$R_f \\sub \\text{domain}(f)\\times\\text{range}(f)$</bl>\n",
    "* Properties of <bl>$R_f$</bl>\n",
    "    * Defined on the entire domain\n",
    "        * For each <bl>$x\\in\\text{domain}(f)$</bl>, there is a pair <bl>$(x,y) \\in R_f$</bl>\n",
    "    * Single-valued\n",
    "        * For each <bl>$x\\in\\text{domain}(f)$</bl>, there is exactly one <bl>$y\\in\\text{codomain}(f)$</bl> such that <bl>$(x,y)\\in R_f$</bl>\n",
    "* Drawing <bl>$f$</bl> as a graph is plotting <bl>$R_f$</bl><br><iframe src=\"https://www.desmos.com/calculator/lemot0fczu?embed\" width=\"250\" height=\"250\" style=\"border: 1px solid #ccc\" frameborder=0></iframe>"
   ]
  },
  {
   "cell_type": "code",
   "execution_count": 52,
   "metadata": {},
   "outputs": [
    {
     "data": {
      "image/png": "[encoded data removed]",
      "text/plain": [
       "<Figure size 216x216 with 1 Axes>"
      ]
     },
     "metadata": {
      "needs_background": "light"
     },
     "output_type": "display_data"
    }
   ],
   "source": [
    "# y = x^2\n",
    "import numpy as np\n",
    "import matplotlib.pyplot as plt\n",
    "fig = plt.figure(figsize=(3,3))\n",
    "x = np.linspace(-5,5,100)\n",
    "y = x**2\n",
    "plt.plot(x,y)\n",
    "plt.title('R_f: y = x^2')\n",
    "plt.ylim((-5,5))\n",
    "plt.xlim(-5,5)\n",
    "plt.xlabel('Domain x')\n",
    "plt.ylabel('Codomain y')\n",
    "plt.plot(x,[0]*x,'--r',alpha=0.5)\n",
    "plt.plot([0]*x,x,'--r',alpha=0.5)\n",
    "plt.show()"
   ]
  },
  {
   "cell_type": "markdown",
   "metadata": {},
   "source": [
    "<style>\n",
    "r { color: Red }\n",
    "o { color: Orange }\n",
    "g { color: Green }\n",
    "bl { color: blue}\n",
    "</style>\n",
    "* if <bl>$f(x) = 2x + 3$</bl>\n",
    "    * <bl>$2$</bl> is the <r>slope</r>\n",
    "    * <bl>$3$</bl> is <r>intercept</r> where the line crosses the y-axis when <bl>$x=0$</bl>\n",
    "* here \n",
    "    * Domain = <bl>$\\mathbb{R}$</bl>\n",
    "    * Codomain = Range = <bl>$\\mathbb{R}$</bl>\n",
    "-----\n",
    "* let <bl>$x\\mapsto\\sqrt{x}$</bl>\n",
    "* Is this a function?\n",
    "    * <bl>$5^2 = (-5)^2 = 25$</bl>\n",
    "    * <bl>$\\sqrt{25}$</bl> gives two options\n",
    "    * By convention, take positive square root\n",
    "* What is the domain?\n",
    "    * Depends on codomain\n",
    "    * Negative numbers do not have real square roots\n",
    "    * If codomain is <bl>$\\mathbb{R}$</bl>, domain is <bl>$\\mathbb{R}_{\\geq 0}$</bl>\n",
    "    * If codomain is the set <bl>$\\mathbb{C}$</bl> of complex numbers, domain is <bl>$\\mathbb{R}$</bl>\n",
    "<iframe src=\"https://www.desmos.com/calculator/4mznaidpvb?embed\" width=\"250\" height=\"250\" style=\"border: 1px solid #ccc\" frameborder=0></iframe>"
   ]
  },
  {
   "cell_type": "code",
   "execution_count": 60,
   "metadata": {},
   "outputs": [
    {
     "data": {
      "image/png": "[encoded data removed]",
      "text/plain": [
       "<Figure size 216x216 with 1 Axes>"
      ]
     },
     "metadata": {
      "needs_background": "light"
     },
     "output_type": "display_data"
    }
   ],
   "source": [
    "# y = sqrt(x)\n",
    "import warnings\n",
    "warnings.filterwarnings('ignore')\n",
    "# warnings.filterwarnings(action='once') # https://stackoverflow.com/questions/9031783/hide-all-warnings-in-ipython\n",
    "import numpy as np\n",
    "import matplotlib.pyplot as plt\n",
    "fig = plt.figure(figsize=(3,3))\n",
    "x = np.linspace(-5,5,100)\n",
    "y1 = x**(1/2)\n",
    "y2 = -x**(1/2)\n",
    "plt.plot(x,y1,'b')\n",
    "plt.plot(x,y2,'b')\n",
    "plt.title('R_f: y = sqrt(x)')\n",
    "plt.ylim((-5,5))\n",
    "plt.xlabel('Domain x')\n",
    "plt.ylabel('Codomain y')\n",
    "plt.plot(x,[0]*x,'--r',alpha=0.5)\n",
    "plt.plot([0]*x,x,'--r',alpha=0.5)\n",
    "plt.show()"
   ]
  },
  {
   "cell_type": "markdown",
   "metadata": {},
   "source": [
    "* **Injective**: Different inputs produces different outputs $\\text{\\textemdash}$ one-to-one\n",
    "    * If $x_1 \\neq x_2, f(x_1) \\neq f(x_2)$\n",
    "    * $f(x) = 3x + 5$ is injective\n",
    "    * $f(x) = 7x^2$ is not: for any $a, f(a) = f(-a)$\n",
    "* **Surjective**: Range is the codomain $\\text{\\textemdash}$ onto\n",
    "    * for every $y\\in \\text{codomain}(f)$, there is an $x\\in \\text{domain}(f)$ such that $f(x) = y$\n",
    "    * $f(x) = -7x +10$ is surjective\n",
    "    * $f(x) = 5x^2 + 3$ is not surjective for codomain $\\mathbb{R}$\n",
    "    * $f(x) = 7\\sqrt{x}$ is not sujective for codomain $\\mathbb{R}$\n",
    "* **Bijective**: 1 $\\text{\\textemdash}$ 1 correspondence between domain and codomain\n",
    "    * Every $x\\in \\text{domain}(f)$ maps to a distinct $y\\in \\text{codomain}(f)$\n",
    "    * Every $y\\in \\text{codomain}(f)$ has a unique pre-image $x\\in\\text{domain}(f)$ such that $y=f(x)$\n",
    "> **Theorem**  \n",
    "> A function is bijective if and only if it is injective and sujective\n",
    "* Suppose a function $f$ is injective and surjective \n",
    "    * Injectivity guarantees that $f$ satisfies the first condition of a bijection.\n",
    "    * Surjectivity says every $y\\in \\text{codomain}(f)$ has a pre-image. Injectivity guarantees this pre-image is unique.\n",
    "> To compare cardinality of infinite sets, use bijections "
   ]
  },
  {
   "cell_type": "markdown",
   "metadata": {},
   "source": [
    "**Relations**  \n",
    "* $A\\times B \\text{\\textemdash}$ Cartesian product, all pairs $(a,b), a\\in A$ and $b\\in B$\n",
    "* $A =\\{1,4,7\\}, B = \\{1,16,49\\}$\\\n",
    "  * $A\\times B = \\{(1,1),(1,16),(1,49),(4,1),(4,16),(4,49),(7,1),(7,16),(7,49)\\}$\n",
    "  * $B\\times A = \\{(1,1),(16,1),(49,1),(1,4),(16,4),(49,4),(1,7),(16,7),(49,7)\\}$\n",
    "* Can take Cartesian product of more than two sets\n",
    "  * $A\\times B\\times A = \\{(1,1,1),(1,1,4),(1,1,7),(1,16,1),(1,16,7),...,(7,49,1),(7,49,16),(7,49,49)\\}$\n",
    "* A relation picks out certain tuples in the Cartesian product\n",
    "  * $S\\sube A\\times B = \\{(1,1),(4,16),(7,49)\\}$\n",
    "  * $ S = \\{(a,b)|(a,b)\\in A \\times B, b = a^2\\}$"
   ]
  },
  {
   "cell_type": "markdown",
   "metadata": {},
   "source": [
    "### Fact about divisibility\n",
    "> Observation  \n",
    "> If $n|(a+b)$ and $n|a$, then $n|b$\n",
    "* Sinse $n|(a+b), a+b = u.n$\n",
    "* Since $n|a, a = v.n$\n",
    "* Therefore $ a+b = vn+b=un$\n",
    "* Hence $b = (u-v)n$"
   ]
  },
  {
   "cell_type": "markdown",
   "metadata": {},
   "source": [
    "**Euclid : There is no largest prime number**\n",
    "* Suppose the list of primes is finite, say $\\{p_1,p_2,...,p_k\\}$\n",
    "* Consider $n=p_1.p_2...p_k+1$.\n",
    "* If $n$ is a composite number, at least one prime $p_j$ is a factor, so $p_j|n$.\n",
    "* Since $p_j$ appears in the product $p_1.p_2...p_k$ we have $p_j|p_1.p_2...p_k$\n",
    "* From our observation about divisibility, if $p_j|n$ and $p_j|p_1.p_2...p_k$, we must also have $p_j|1$, which is not possible\n",
    "* So $n$ must also be a prime, which is clearly bigger than $p_k$"
   ]
  },
  {
   "cell_type": "markdown",
   "metadata": {},
   "source": [
    "The **Prime Number Theorem** says that $\\pi(x)$ is approximately $\\frac{x}{\\log(x)}$ for `large values of` $x$  \n",
    "Large prime numbers are used in modern cryptography"
   ]
  },
  {
   "cell_type": "markdown",
   "metadata": {},
   "source": [
    "**Russell's Paradox:** Cannot have \"set of all sets\"  \n",
    "* it says not every collection can be called a set\n",
    "* Collection that is not a set is sometimes called a `class`"
   ]
  },
  {
   "cell_type": "markdown",
   "metadata": {},
   "source": [
    "# Rectangular Coordinate System\n"
   ]
  },
  {
   "cell_type": "markdown",
   "metadata": {},
   "source": [
    "## Distance Formula\n",
    "* By Pythagorean Theorem.  \n",
    "$PR^2 = QR^2 + PQ^2$  \n",
    "$PR = \\sqrt{(x_2-x_1)^2+(y_2-y_1)^2}$"
   ]
  },
  {
   "cell_type": "markdown",
   "metadata": {},
   "source": [
    "## Section Formula  \n",
    "* Given that, the Point $P$ cuts the line segment $AB$ in the $m:n$ ratio. Our goal is to find the coordinates of $P$.  \n",
    "$A\\operatorname*{\\text{\\textemdash}}\\limits_m P_{(x,y)} \\operatorname*{\\text{\\textemdash}}\\limits_n B$  "
   ]
  },
  {
   "cell_type": "markdown",
   "metadata": {},
   "source": [
    "<img src='media\\maths section formula.drawio.svg'>"
   ]
  },
  {
   "cell_type": "markdown",
   "metadata": {},
   "source": [
    "$\\displaystyle\\frac mn = \\frac{AP}{PB} = \\frac{AQ}{PR} = \\frac{PQ}{BR}$<br>  \n",
    "$\\displaystyle\\frac mn = \\frac{x-x_1}{x_2-x} = \\frac{y-y_1}{y_2-y}$<br>  \n",
    "$\\displaystyle x = \\frac{mx_2+nx_1}{m+n}, y = \\frac{my_2+ny_1}{m+n}$"
   ]
  },
  {
   "cell_type": "markdown",
   "metadata": {},
   "source": [
    "## Area of a Triangle using coordinates\n",
    "<img src = 'media\\math Area of Triangle.drawio.svg'>  \n",
    "\n",
    "$A(\\triangle ABC) = A(\\Box ADFC)-A(\\Box ADEB)-A(\\Box BEFC)$  \n",
    "\n",
    "$A(\\Box ADFC) = \\frac 12(AD + CF)\\times DF = \\frac 12(y_1 + y_3)(x_3-x_1)$  \n",
    "\n",
    "$A(\\Box ADEB) = \\frac 12(AD + EB)\\times DE = \\frac 12(y_1 + y_2)(x_2-x_1)$  \n",
    "\n",
    "$A(\\Box BEFC) = \\frac 12(BE + CF)\\times EF = \\frac 12(y_2 + y_3)(x_3-x_2)$  \n",
    "\n",
    "$A\\triangle ABC) = \\frac 12|x_1(y_2-y_3)+x_2(y_3-y_1)+x_3(y_1-y_2)|$\n",
    "> this formula will be valid when we considered all the vertices in anti-clockwise "
   ]
  },
  {
   "cell_type": "markdown",
   "metadata": {},
   "source": [
    "## Slope of a line\n",
    "* rate of change of y-coordiantes w.r.t x-coordinates  \n",
    "$m=\\displaystyle\\frac{y_1-y_2}{x_1-x_2} = \\tan{\\theta}$   \n",
    "where $\\theta$ is inclination of the line with positive X-axis, measured in anticlockwise direction  \n",
    "* $0\\degree \\leq \\theta \\leq 180\\degree$\n",
    "> If $\\theta$ is the inclination of a line $l$, then $\\tan{\\theta}$ is called the slope or gradient of line $l$.  \n",
    "> If $\\theta \\neq 90\\degree$, then $m=\\tan{\\theta}$\n"
   ]
  },
  {
   "cell_type": "markdown",
   "metadata": {},
   "source": [
    "## Parallel\n",
    "Let $l_1$ and $l_2$ be two non-vertical lines with slopes $m_1$ and $m_2$ with inclinations $\\alpha$ and $\\beta$ respectively  \n",
    "* If $l_1$ is parallel to $l_2$, then $\\alpha = \\beta$.\n",
    "* It is clear that $\\tan{\\alpha} = \\tan{\\beta}$.\n",
    "* Hence $m_1 = m_2$\n",
    "> Two non-vertical lines $l_1$ and $l_2$ are parallel if and only if their slopes are equal\n",
    "\n",
    "## Perpendicular Lines\n",
    "Let $l_1$ and $l_2$ be two non-vertical lines with slopes $m_1$ and $m_2$ with inclinations $\\alpha$ and $\\beta$ respectively.\n",
    "* If $l_1$ is perpendicular to $l_2$, then $90+\\alpha = \\beta$.\n",
    "* Now, $\\tan{\\beta} = \\tan(90 + \\alpha) = -\\cot\\alpha = -1/\\tan\\alpha$\n",
    "* Hence, $m_2 = -1/m_1$ or $m_1m_2 = -1$.\n",
    "> Two non-vertical lines $l_1$ and $l_2$ are perpendicular if and only if $m_1m_2 = -1$\n",
    "\n",
    "## Angle between two lines\n",
    "<img src='media\\angle btw lines.drawio.svg'>  \n",
    "\n",
    "Let $l_1$ and $l_2$ be two non-vertical lines with slopes $m_1$ and $m_2$ with inclinations $\\alpha_1$ and $\\alpha_2$ respectively.<br>  \n",
    "  \n",
    "Suppose $l_1$ and $l_2$ intersect and let $\\phi$ and $\\theta$ be the adjacent angles formed by $l_1$ and $l_2$<br>  \n",
    "\n",
    "Now, $\\theta = \\alpha_2-\\alpha_1$, for $\\alpha_1, \\alpha_2 \\neq 90\\degree$<br>  \n",
    "\n",
    "Then  \n",
    "$\\tan\\theta = \\tan(\\alpha_2-\\alpha_1) = \\displaystyle\\frac{\\tan\\alpha_2-\\tan\\alpha_1}{1+\\tan\\alpha_1\\tan\\alpha_2} = \\frac{m_2-m_1}{1+m_1m_2}, m_1m_2 \\neq -1$,<br>  \n",
    "$\\displaystyle \\tan\\phi = \\tan(180-\\theta) = -\\tan\\theta = \\frac{m_1-m_2}{1+m_1m_2}$"
   ]
  },
  {
   "cell_type": "markdown",
   "metadata": {},
   "source": [
    "## Representation of a Line\n",
    "### Point-Slope Form  \n",
    "For a non-vertical line $l$, with slope $m$ and a fixed point $P(x_0,y_0)$ on the line  \n",
    "* Let $Q(x,y)$ be an arbitrary point on line $l$. Then, the slope of the line is given by<br>   \n",
    "$\\displaystyle m = \\frac{y-y_0}{x-x_0}$  \n",
    "$\\text{~~~~}\\downarrow$<br>  \n",
    "$(y-y_0) = m(x-x_0)$<br>  \n",
    "\n",
    "### Two-Point Form\n",
    "Let the line $l$ pass through the points $P(x_1,y_1)$ and $Q(x_2,y_2)$.  \n",
    "Assume that $R(x,y)$ is an arbitrary point on the line $l$.  \n",
    "$\\implies P,Q\\text{~}\\&\\text{~}R$ are collinear.\n",
    "$\\implies$ Slope of $PR = $ Slope of $PQ$.<br>  \n",
    "$\\therefore \\displaystyle\\frac{y-y_1}{x-x_1} = \\frac{y_2-y_1}{x_2-x_1}$<br>  \n",
    "$\\text{~~~~~~~~~~~~}\\downarrow$<br>  \n",
    "$(y-y_1) = \\displaystyle\\frac{y_2-y_1}{x_2-x_1}(x-x_1)$  \n",
    "\n",
    "### Slope-Intercept Form\n",
    "Let a line $l$ with slope $m$ cut Y-axis at $c$. Then $c$ is called the y-intercept of the line $l$.  \n",
    "That is, the point $(0,c)$ lies on the line $l$.<br>  \n",
    "$\\therefore y-c = mx$ or $y=mx+c$<br>  \n",
    "\n",
    "Let a line $l$ with slope $m$ cut X-axis at $d$. Then $d$ is called X-intercept of the line $l$.  \n",
    "That is, the point $(d,0)$ lies on the line $l$.<br>  \n",
    "$\\therefore y = m(x-d)$  \n",
    "\n",
    "### Intercept Form\n",
    "Suppose a line makes X-intercept at $a$ and Y-intercept at $b$. Then the two points on the lne are $(a,0)$ and $(0,b)$.  \n",
    "Using two-point form,<br>  \n",
    "$(y-0) = \\displaystyle\\frac{b-0}{0-a}(x-a)$ or $\\displaystyle\\frac xa + \\frac yb =1$"
   ]
  },
  {
   "cell_type": "markdown",
   "metadata": {},
   "source": [
    "### General Equation of a Line\n",
    "|Different forms of Equaation of Line|Representation|General Form $Ax+By+C = 0$|\n",
    "|---|---|---|\n",
    "|Slope-Point Form|$(y-y_0) = m(x-x_0)$|$\\displaystyle m=-\\frac AB, y_0 -mx_0=-\\frac CB$<br><br>|\n",
    "|Slope-Intercept Form|$y=mx+c$ or $y = m(x-d)$|$\\displaystyle m=-\\frac AB, c=-\\frac CB$ or $\\displaystyle d=-\\frac CA$<br><br>|\n",
    "|Two-Point Form|$(y-y_1) = \\displaystyle\\frac{y_2-y_1}{x_2-x_1}(x-x_1)$|$\\displaystyle\\frac{y_2-y_1}{x_2-x_1}=-\\frac AB,y_1 + \\frac AB x_1 = -\\frac CB$<br><br>|\n",
    "|Intercept Form|$\\displaystyle\\frac xa + \\frac yb =1$|$\\displaystyle a = -\\frac CA, b = -\\frac CB$<br><br>|  \n",
    "  \n",
    "<br><br>  \n",
    "> Any equation of the form $Ax+By+C = 0$, where $A, B\\neq 0$ simultaneously, is called general linear equation or general equation of a line."
   ]
  },
  {
   "cell_type": "markdown",
   "metadata": {},
   "source": [
    "### Equation of parallel and perpendicular lines in general form\n",
    "two lines $a_1x+b_1y+c_1=0$ and $a_2x+b_2y+c_2=0$  \n",
    "* parallel if $a_1b_2=a_2b_1$  \n",
    "* perpendicular if $a_1a_2+b_1b_2=0$  \n",
    "> use $m_1=m_2$ for parallel and $m_1m_2=-1$ for pependicular"
   ]
  },
  {
   "cell_type": "markdown",
   "metadata": {},
   "source": [
    "### Distance of a Point from a Line\n",
    "Find distance of the point $P(x_1,y_1)$ from the line $l$ having equation $Ax+By+C=0$<br>  \n",
    "$ PM = \\displaystyle\\frac{|Ax_1+By_1+C|}{\\sqrt{A^2+B^2}}$\n",
    "> use intercept form and try area of the triangle"
   ]
  },
  {
   "cell_type": "markdown",
   "metadata": {},
   "source": [
    "### Distance between two Parallel Lines\n",
    "Let $l_1$ and $l_2$ be two paralllel lines with slopes $m$.<br>  \n",
    "$d = \\displaystyle\\frac{|c_1-c_2|}{\\sqrt{1+m^2}}$ (in slope intercept form $y=mx+c$)  \n",
    "Similarly in genelral form ($Ax+By+C=0$), $d = \\displaystyle\\frac{|C_1-C_2|}{\\sqrt{A^2+B^2}}$\n",
    "> use the slope intercept form and use the point-line distance fromula"
   ]
  },
  {
   "cell_type": "markdown",
   "metadata": {},
   "source": [
    "# Quadratic Functions\n",
    "* $f(x) = ax^2+bx+c$ where $a\\neq 0$\n",
    "* The graph of any quadratic function is called `parabola`\n",
    "* The point at which the axis of symmetry intersects the parabola is called the `vertex`\n",
    "> * Y-intercept of a quadratic function is $c$  \n",
    "> * The equation of axis of symmetry: $x=-b/(2a)$\n",
    ">   * X-coordinate of the vertex: $-b/(2a)$\n",
    "> * slope of parabola $ = 2ax+b$"
   ]
  },
  {
   "cell_type": "markdown",
   "metadata": {},
   "source": [
    "### Vertex form (h,k)\n",
    "let $y=ax^2+bx+c$ then  \n",
    "vertex $=(\\frac{-b}{2a},c-\\frac{b^2}{4a}) = (h,k)$<br>  \n",
    "> $\\therefore y=a(x-h)^2+k$"
   ]
  },
  {
   "cell_type": "markdown",
   "metadata": {},
   "source": [
    "### Maximum and Minimum Values\n",
    "* The y-coordinate of the vertex of a given quadratic function is the **minimum or maximum** value attained by the function\n",
    "> $f(x) = ax^2+bx+c$ where $a\\neq 0$\n",
    "> * Opens up and has minimum value, if $a>0$\n",
    "> * Opens down and has maximum value if $a<0$\n",
    "> * $\\text{Domain}=\\mathbb{R}$ and $\\text{Codomain}=\\mathbb{R}$\n",
    "> * The range of a quadratic function is  \n",
    "$\\text{~~~~~}\\displaystyle\\mathbb{R}\\cap\\{f(x)|f(x)\\geq f_{min}\\}$  or $\\displaystyle\\mathbb{R}\\cap\\{f(x)|f(x)\\leq f_{max}\\}$"
   ]
  },
  {
   "cell_type": "markdown",
   "metadata": {},
   "source": [
    "## Roots of Eqations and Zeros of Functions\n",
    "* X-intercepts of the $ax^2+bx+c = 0$ are the roots of the equation"
   ]
  },
  {
   "cell_type": "markdown",
   "metadata": {},
   "source": [
    "### Intercept form\n",
    "Let $y=f(x)=a(x-p)(x-q)$, where $p$ and $q$ represent x-intercepts for the function.  \n",
    "Then the form $y=a(x-p)(x-q)$ is called the intercpet form  \n",
    "E.g., $y=3(x-1)(x-5)$"
   ]
  },
  {
   "cell_type": "markdown",
   "metadata": {},
   "source": [
    "### Standard form to Inetercept form\n",
    "E.g. $f(x)=5x^2-13x+6$ to intercept form  \n",
    "**Applying `FOIL Method`**  \n",
    "$5x^2-13x+6 = (ax+b)(cx+d) = acx^2+(ad+bc)x+bd$  \n",
    "$\\therefore ac = 5, ad+bc=-13$ and $bd = 6$. That is, $abcd = 30$ and $ad+bc=-13$  \n",
    "factorize $30 = 2\\times 3\\times 5 = 10\\times 3=(-10)(-3)$. That is $ad = -10$ and $bc = -3$  \n",
    "$5x^2-13x+6 = 5x^2-10x-3x+6 = 5x(x-2)-3(x-2) = (5x-3)(x-2)=5(x-\\frac 35)(x-2)$<br>  \n",
    "\n",
    "**New method: Completing the Square**  \n",
    "$x^2+10x=24$  \n",
    "Observe that $(x+a)^2 = x^2+2ax+a^2$. Using this write $10=2\\times 5$ and add $25$ on both sides of the equation to get  \n",
    "$x^2+10x+25=24+25=49$  \n",
    "$(x+5)^2 = 7^2$  \n",
    "$(x+5)= \\pm 7$  \n",
    "$\\therefore x = -5+7=2$ and $x=-5-7=-12$ are the roots of the quadratic equation"
   ]
  },
  {
   "cell_type": "markdown",
   "metadata": {},
   "source": [
    "## Quadratic Equations with Irrational Roots\n",
    "$x^2-4x+4=32$  \n",
    "$\\implies (x-2)^2 = 32$.  \n",
    "$\\therefore (x-2) = \\pm\\sqrt{32}=\\pm 4\\sqrt{2}$  \n",
    "$\\implies x=2\\pm 4\\sqrt{2}$ are the roots of the quadratic equation\n",
    "<br>  \n",
    "\n",
    "$x = \\displaystyle\\frac{-b\\pm\\sqrt{b^2-4ac}}{2a}$"
   ]
  },
  {
   "cell_type": "markdown",
   "metadata": {},
   "source": [
    "|Value of the discriminant|Type and number of roots|\n",
    "|---|---|\n",
    "|$b^2-4ac>0$ and $b^2-4ac$ is a perfect square<br>$b^2-4ac>0$ and $b^2-4ac$ isn't a perfect square|$2$ real, rational roots.<br>$2$ real, irrational roots|\n",
    "|$b^2-4ac=0$|$1$ real, rational root.|\n",
    "|$b^2-4ac<0$|No real root|"
   ]
  },
  {
   "cell_type": "markdown",
   "metadata": {},
   "source": [
    "# Polynomials  \n",
    "Poly+Nomen = many+name\n",
    "* Each term is called monomial \n",
    "* A polynomial having two terms is called binomial\n",
    "* A polynonial with three terms is called trinomial  \n",
    "\n",
    "$a_nx^n+a_{n-1}x^{n-1}+\\dots+a_1x+a_0=\\sum_{m=0}^n a_mx^m$\n",
    "\n",
    "$x^2+4x+2\\text{~~} \\checkmark$  \n",
    "$x+x^{1/2}\\text{~~} \\bcancel\\checkmark $ is not a polynomial because the $2^{nd}$ monomial has rational exponent  \n",
    "$ x+y+xy+x^3\\text{~~}\\checkmark$"
   ]
  },
  {
   "cell_type": "markdown",
   "metadata": {},
   "source": [
    "### Degree of the Polynomial\n",
    "$3x^3+4x^2y^2+10y+1 \\rightarrow$ its degree is $4$\n",
    "* the exponent on the variable in a term is called the degree of that variable in that term\n",
    "* the degree of that term is the sum of the degrees of the variables in that term\n",
    "* the degree of the polynomial is the largest degree of any one of the terms with non-zero coefficients"
   ]
  },
  {
   "cell_type": "markdown",
   "metadata": {},
   "source": [
    "## Graphs of Polynomial\n",
    "### Characterization of Graphs of Polynomial functions\n",
    "* Polynomial functions of second degree or higher have graphs that do not have sharp corners That is, the graphs are smooth curves.\n",
    "* Polynomial functions also display graphs that have no breaks. Curves with no breaks are called continuous"
   ]
  },
  {
   "cell_type": "markdown",
   "metadata": {},
   "source": [
    "> * For `zeros` with even multiplicities, the graphs touch or are `tangent` to the x-axis\n",
    "> * For zeros with odd multiplicities, the graphs cross or `intersect` the x-axis"
   ]
  },
  {
   "cell_type": "markdown",
   "metadata": {},
   "source": [
    "> Sum of the multiplicities will always be $\\leq$ degree of the polynomial"
   ]
  },
  {
   "cell_type": "markdown",
   "metadata": {},
   "source": [
    "> Hypothesize that a polynomial of degree $n$ can have at most $n-1$ turning points"
   ]
  },
  {
   "cell_type": "markdown",
   "metadata": {},
   "source": [
    "## Intermediate Value Theorem\n",
    "Let $f$ be a polynomial function. The `Intermediate Value Theorem` states that if $f(a)$ and $f(b)$ have opposite signs, then there exists at least one value $c$ between $a$ and $b$ for which $f(c)=0$"
   ]
  },
  {
   "cell_type": "markdown",
   "metadata": {},
   "source": [
    "# Week 5"
   ]
  },
  {
   "cell_type": "markdown",
   "metadata": {},
   "source": [
    "## Exponential Functions\n"
   ]
  },
  {
   "cell_type": "markdown",
   "metadata": {},
   "source": [
    "* One-to-One Functions\n",
    "* Exponential Function\n",
    "* The Natural Exponential Function"
   ]
  },
  {
   "cell_type": "markdown",
   "metadata": {},
   "source": [
    "|Domain(A)|Codomain(B)|Function?|\n",
    "|-|-|-|\n",
    "|one $x$|More than <br>one $f(x)$|Not a function|\n",
    "|More than <br>one $x$|one $f(x)$|It is a function but,<br> it is not reversible|\n",
    "|one $x$|one $f(x)$|It is a function|"
   ]
  },
  {
   "cell_type": "markdown",
   "metadata": {},
   "source": [
    "__Theorem__ (`The Horizontal Line Test`)  \n",
    "_If any horizontal line intersects the graph of a function $f$ in at most one point, then $f$ is one-to-one._\n",
    "  \n",
    "Theorem:  \n",
    "If $f$ is an increasing or decreasing function then $f$ is one-to-one"
   ]
  },
  {
   "cell_type": "markdown",
   "metadata": {},
   "source": [
    "### One-to-One Function"
   ]
  },
  {
   "cell_type": "markdown",
   "metadata": {},
   "source": [
    "A function $f:A\\mapsto B$ is called one-to-one  \n",
    "if, for any $x_1\\neq x_2 \\in A$,  \n",
    "then $f(x_1)\\neq f(x_2)$<br>  \n",
    "\n",
    "also $f(x_1)=f(x_2) \\iff x_1=x_2$\n",
    "  \n",
    "E.g.  \n",
    "  1. $f(x)=|x| =\\begin{cases} x, & x\\geq 0\\\\ -x, & x<0\\end{cases}$<br>\n",
    "  vertical line test pases but failes in horizontal line test<br>\n",
    "  i.e., It is not one-to-one<br><iframe src=\"https://www.desmos.com/calculator/tsz8hf9fxc?embed\" width=\"250\" height=\"250\" style=\"border: 1px solid #ccc\" frameborder=0></iframe>\n",
    "  2. $f(x) = x$ or $x^3$  \n",
    "  $x_1\\neq x_2 \\implies f(x_1)\\neq f(x_2)$  \n",
    "  It is one-to-one function<br><iframe src=\"https://www.desmos.com/calculator/wdsgaxh5fi?embed\" width=\"250\" height=\"250\" style=\"border: 1px solid #ccc\" frameborder=0></iframe>\n"
   ]
  },
  {
   "cell_type": "code",
   "execution_count": 34,
   "metadata": {},
   "outputs": [
    {
     "data": {
      "image/png": "[encoded data removed]",
      "text/plain": [
       "<Figure size 216x216 with 1 Axes>"
      ]
     },
     "metadata": {
      "needs_background": "light"
     },
     "output_type": "display_data"
    }
   ],
   "source": [
    "import matplotlib.pyplot as plt\n",
    "import numpy as np\n",
    "fig=plt.figure(figsize=(3,3))\n",
    "x = np.linspace(-5,5,100)\n",
    "y1 = x[x>=0]\n",
    "y2 = -x[x<=0]\n",
    "plt.plot(x[x>=0],y1,c='b')\n",
    "plt.plot(x[x<0],y2,c='b')\n",
    "plt.title('y=|x|')\n",
    "h = [0]*100\n",
    "v = [0]*100\n",
    "plt.plot(x,h,'--r',alpha=0.5)\n",
    "plt.plot(v,x,'--r',alpha=0.5)\n",
    "plt.show()"
   ]
  },
  {
   "cell_type": "code",
   "execution_count": 62,
   "metadata": {},
   "outputs": [
    {
     "data": {
      "image/png": "[encoded data removed]",
      "text/plain": [
       "<Figure size 216x216 with 1 Axes>"
      ]
     },
     "metadata": {
      "needs_background": "light"
     },
     "output_type": "display_data"
    }
   ],
   "source": [
    "fig=plt.figure(figsize=(3,3))\n",
    "x = np.linspace(-5,5,100)\n",
    "y1 = x\n",
    "y2 = x**3\n",
    "plt.plot(x,y1,'b')\n",
    "plt.plot(x,y2,'g')\n",
    "plt.plot(x,[0]*x,'--r',alpha=0.5)\n",
    "plt.plot([0]*x,x,'--r',alpha=0.5)\n",
    "plt.title('y=x and y=x^3')\n",
    "plt.ylim(-5,5)\n",
    "plt.show()"
   ]
  },
  {
   "cell_type": "markdown",
   "metadata": {},
   "source": [
    "> __Theorem:__  \n",
    "> If $f$ is an increasing or dereasing function then $f$ is one-to-one"
   ]
  },
  {
   "cell_type": "markdown",
   "metadata": {},
   "source": [
    "### Exponential Function\n"
   ]
  },
  {
   "cell_type": "markdown",
   "metadata": {},
   "source": [
    "$a^r\\text{~~~}a>0, r\\in\\mathbb{Q}$  \n",
    "1. Why $a>0?$  \n",
    "    * $a=-1$\n",
    "    * $a^{1/2} = (-1)^{1/2}=i\\in\\mathbb{C}$\n",
    "2. What if $r\\in\\mathbb{R-Q}$ (Irrational)  \n",
    "    * $2^{\\sqrt{2}}, 5^{\\pi}$\n",
    "  \n",
    "> $a^x$ is well defined for $x\\in\\mathbb{R}$\n",
    "\n",
    "* Laws of Exponents  \n",
    "For $s,t\\in \\mathbb{R}$ and $a,b>0$,  \n",
    "1.   $a^sa^t = a^{s+t}$  \n",
    "2.   $(a^s)^t = a^{st}$  \n",
    "3.   $(ab)^s = a^sb^s$  \n",
    "> Definition:  \n",
    "> An exponential function in standard form is given by $f(x)=a^x$, where $a>0$, $a\\neq 1$.  \n",
    "$0<a<1 \\text{~~and~~} a>1$\n",
    "\n",
    "Observations  \n",
    "1. Domain of $f$ is $\\mathbb{R}$\n",
    "2. $a\\neq 1$? <br>$\\because f(x) = 1^x = 1$ (constant)"
   ]
  },
  {
   "cell_type": "markdown",
   "metadata": {},
   "source": [
    "<iframe src=\"https://www.desmos.com/calculator/9kdxfjjcs8?embed\" width=\"250\" height=\"250\" style=\"border: 1px solid #ccc\" frameborder=0></iframe>  <br>  \n",
    "\n",
    "above plot is for $2^x, 3^x, 5^x$\n",
    "\n",
    "<iframe src=\"https://www.desmos.com/calculator/qxqnh3ftmp?embed\" width=\"250\" height=\"250\" style=\"border: 1px solid #ccc\" frameborder=0></iframe><br>  \n",
    "\n",
    "above plot is for $2^{-x}, 3^{-x}, 5^{-x}$  <br>\n",
    "  \n",
    "In summary we can conclude that $a^x$ will always be greater than $0$ and y-intercept is $(0,1)$ given that $a>0$  <br>\n",
    "\n",
    "Fact:  \n",
    "Every $f(x) = a^x, 0<a<1$ has same properties as $5^{-x}=(1/5)^x$"
   ]
  },
  {
   "cell_type": "markdown",
   "metadata": {},
   "source": [
    "### Summary\n"
   ]
  },
  {
   "cell_type": "markdown",
   "metadata": {},
   "source": [
    "\n",
    "| $f(x)=a^x$ | $0<a<1$ | $a>1$ |\n",
    "|--|--|--|\n",
    "|Domain| $\\mathbb{R}$ | $\\mathbb{R}$ |\n",
    "|Range| $(0,\\infin)$ | $(0,\\infin)$ |\n",
    "|x-intercept|Nil|Nil|\n",
    "|y-intercept| $(0,1)$ | $(0,1)$ |\n",
    "|Horizontal Asymptote| $y=0$ | $y=0$ |\n",
    "|increase / decrease| decreasing| increasing|\n",
    "|End behaviour|||\n",
    "| $x\\rightarrow\\infin$ | $f(x)\\rightarrow 0$ | $f(x)\\rightarrow\\infin$ |\n",
    "| $x\\rightarrow -\\infin$ | $f(x)\\rightarrow\\infin$ | $f(x)\\rightarrow 0$ |"
   ]
  },
  {
   "cell_type": "markdown",
   "metadata": {},
   "source": [
    "## The Natural Exponential Function $e$"
   ]
  },
  {
   "cell_type": "markdown",
   "metadata": {},
   "source": [
    "From the theory of limits, it is known that  \n",
    "$$\\bigg(1+\\frac 1n \\bigg)^n \\rightarrow e \\text{~~~as~~~} n\\rightarrow\\infin$$  \n",
    "Existence of ' $e$ ' is studied in calculus.  \n",
    "$e$ is irrational number.  \n",
    "$e\\approx 2.71828...$ (Euler's number)\n",
    "\n",
    "| $n$ | $\\bigg(1+\\frac 1n \\bigg)^n$ |\n",
    "|--|--|\n",
    "|1|2|\n",
    "|10|2.5937|\n",
    "|100|2.7048|\n",
    "|1000|2.7169|\n",
    "|10,000|2.7181|\n",
    "|1,00,000|2.7182|\n",
    "| $\\vdots$ | $\\vdots$ |\n",
    "| $\\infin$ | $e$ |\n",
    "  \n",
    "__Interest Rate Calculation__\n",
    "\n",
    "Continuous Compounding (taking ratios w.r.t $e$ )  \n",
    "- Invest 1₹ for 1Yr then bank will offer 1% interest $\\implies (1+\\frac 1{100})^1$\n",
    "- If the intrest is revised quaterly then $\\implies (1+\\frac{0.01}4)^4$\n",
    "- If the intrest is revised monthly then $\\implies (1+\\frac{0.01}{12})^{12}$  \n",
    "$\\text{~~~~~}\\vdots$  \n",
    "$(1+\\frac {0.01}n)^n \\text{~~~} n\\rightarrow\\infin$  \n",
    "\n",
    "$\\implies A\\times e^{0.01t}$ (Where $A$ is amt, $t$ is time period of investment)  \n",
    "<br>\n",
    "$\\therefore (1+\\frac xn)^{nt} \\rightarrow e^{xt}$  \n",
    "<br>\n",
    "Definition:\n",
    "The natural exponential function is defined as $f(x)=e^x$  <br>\n",
    "\n",
    "__Properties:__  \n",
    "Domain of $f=\\mathbb{R}$ , Range $=(0,\\infin)$ & $e>1$  \n",
    "<iframe src=\"https://www.desmos.com/calculator/22ncfufyep?embed\" width=\"500\" height=\"500\" style=\"border: 1px solid #ccc\" frameborder=0></iframe>  \n",
    "\n",
    "- $e$ is the slope of the tangent line to $f(x)=e^x$ at $(1,e)$\n",
    "- The area under the $f(x) = e^x$ from $(-\\infin,1)$ is $e$ .\n",
    "- For $f(x)=\\frac 1x$, $x\\in(1,e)$, the area under the curve is 1.\n",
    "<iframe src=\"https://www.desmos.com/calculator/eghqbgcnb2?embed\" width=\"250\" height=\"250\" style=\"border: 1px solid #ccc\" frameborder=0></iframe>"
   ]
  },
  {
   "cell_type": "markdown",
   "metadata": {},
   "source": [
    "__Example__  \n",
    "Let R be the percent of people who respond to affiliate links uncer YouTube descriptions & purchase the product in t minutes is given by $R(t) = 50-100e^{-0.25}$.   \n",
    "a) What is the percentage of people responding after 10 minutes?  \n",
    "- $R(10) = 50-100e^{-0.2\\times 10} = 36.46$  \n",
    "\n",
    "b) What is the highest percent expected?  \n",
    "- <iframe src=\"https://www.desmos.com/calculator/yiyj928hyt?embed\" width=\"200\" height=\"200\" style=\"border: 1px solid #ccc\" frameborder=0></iframe>  \n",
    "\n",
    "\n",
    "c) How long before R(t) exceeds 30%?\n",
    "- <iframe src=\"https://www.desmos.com/calculator/8hsoowwut8?embed\" width=\"200\" height=\"200\" style=\"border: 1px solid #ccc\" frameborder=0></iframe>\n",
    "\n",
    "$R(t)=30$  \n",
    "$30=50-100e^{-0.2t}$  \n",
    "$20=100e^{-0.2t}$  \n",
    "$\\frac 15 = e^{-0.2t}$ ----STOP"
   ]
  },
  {
   "cell_type": "markdown",
   "metadata": {},
   "source": [
    "## Composite Functions"
   ]
  },
  {
   "cell_type": "markdown",
   "metadata": {},
   "source": [
    "consider following offers in a super market  \n",
    "$\\text{Offers}\\begin{cases} \\text{85\\% of price} \\\\ \\text{3000₹ off} \\end{cases}$  \n",
    "lets assume we are allowed to take both the offers as  \n",
    "$\\text{85\\% of price} - \\text{3000₹ off}$  \n",
    "<br>\n",
    "Let $x$ denote the item price (MRP)  \n",
    "$f(x)=0.85x$  \n",
    "$g(x)=x-3000$  \n",
    "<br>\n",
    "$\\therefore h(x) = 0.85x-3000$  \n",
    "$h(x) = f(x) - 3000$  \n",
    "$h(x) = g(f(x))$  \n",
    "$h(x) = (g\\circ f)(x)$  <br>\n",
    "\n",
    "__The composition of the functions__ $f$ & $g$ is denoted $f\\circ g$ & is defined by  \n",
    "$(f\\circ g)(x) = f(g(x))$  \n",
    "The domain of the composite function $f\\circ g$ is the set of all $x$ such that\n",
    "- $x$ is in the domain of $g$\n",
    "- $g(x)$ is in the domain of $f$.  \n",
    "\n",
    "$(f\\circ g)(x)=f(g(x))$"
   ]
  },
  {
   "cell_type": "markdown",
   "metadata": {},
   "source": [
    "Example: Given $f(x)=3x-4$, $g(x)=x^2$, find  \n",
    "a) $(g\\circ f)(x)$  \n",
    "- $(g\\circ f)(x) = g(f(x))  = (f(x))^2  = (3x-4)^2$  \n",
    "\n",
    "b) $(f\\circ g)(x)$\n",
    "- $(f\\circ g)(x) = f(g(x)) = 3g(x)-4 = 3(x^2)-4$"
   ]
  },
  {
   "cell_type": "markdown",
   "metadata": {},
   "source": [
    "### Determination of the domain for composit function  "
   ]
  },
  {
   "cell_type": "markdown",
   "metadata": {},
   "source": [
    "$(f\\circ g)(x) = f(g(x))$  \n",
    "The following values must be excluded from input x.\n",
    "- $x\\notin \\text{Dom}(g) \\implies x\\notin \\text{Dom}(f\\circ g)$\n",
    "- $\\{x|g(x)\\notin\\text{Dom}(f)\\}$ must not be included in $\\text{Dom}(f\\circ g)$.\n",
    "\n",
    "Example: $f(x) = \\frac 2{x-1}, g(x)=\\frac 3x$  \n",
    "$(f\\circ g)(x) \\text{~~~}\\& \\text{~~~Dom}(f\\circ g)$  \n",
    "$(f\\circ g)(x) = f(g(x)) = \\frac 2{g(x)-1} = \\frac 2{\\frac 3x -1}=\\frac{2x}{3-x}$  \n",
    "- __Rule 1.__ $x\\notin\\text{Dom}(g) \\implies x\\notin\\text{Dom}(f\\circ g)$  \n",
    "$g(x)=\\frac 3x \\implies x\\neq 0$  \n",
    "$x=0 \\notin\\text{Dom}(g) \\implies x=0 \\notin \\text{Dom}(f\\circ g)$\n",
    "\n",
    "- __Rule 2.__ $g(x)\\notin\\text{Dom}(f)$  \n",
    "$f(x)=\\frac 2{x-1} \\implies x\\neq 1 \\implies g(x)\\neq 1$\n",
    "\n",
    "$\\text{Dom}(f\\circ g) = \\{x|x\\neq 0, x\\neq 3\\}$"
   ]
  },
  {
   "cell_type": "markdown",
   "metadata": {},
   "source": [
    "## Inverse Functions"
   ]
  },
  {
   "cell_type": "markdown",
   "metadata": {},
   "source": [
    "$(f\\circ g)=x=(g\\circ f) \\implies f^{-1}=g \\text{ ~or~ } g^{-1}=f$  \n",
    "$\\text{Dom}(f)=\\text{Range}(g) \\iff \\text{Range}(f)=\\text{Dom}(g)$ "
   ]
  },
  {
   "cell_type": "markdown",
   "metadata": {},
   "source": [
    "> Theorem The graphs of $f$ & $f^{-1}$ are symmetric across $y=x$ line"
   ]
  },
  {
   "cell_type": "markdown",
   "metadata": {},
   "source": [
    "# Week 6"
   ]
  },
  {
   "cell_type": "markdown",
   "metadata": {},
   "source": [
    "## Logarithmic Functions"
   ]
  },
  {
   "cell_type": "markdown",
   "metadata": {},
   "source": [
    "Recall $f(x)=a^x$ $(a>0,a\\neq 1)$ is one-to-one, it has its inverse<br>  \n",
    "\n",
    "Definition:  \n",
    "The logarithmic function ( to the base $a$) in standard form is $y=\\log_{a}(x)$  \n",
    "and is defined to be the inverse of $f(x)=a^x$<br>  \n",
    "\n",
    "$\\boxed{y=\\log_ax\\iff x=a^y}$<br>  \n",
    "\n",
    "proof:  \n",
    "$a^{\\log_ax}=x \\text{~~i.e.,~~} f(f^{-1}(x))=x$  \n",
    "$\\log_aa^x=x \\text{~~i.e.,~~} f^{-1}(f(x))=x$<br>  \n",
    "\n",
    "$**\\text{Dom}(a^x) = \\text{Range}(\\log_ax) =\\mathbb{R}$  \n",
    "$**\\text{Dom}(log_ax) = \\text{Range}(a^x)=(0,\\infin)$<br>  \n",
    "\n",
    "Example: $f(x)=\\log_4(1-x)$. Find the domain of $f$  \n",
    "$\\because \\text{Dom}(\\log_4x)=(0,\\infin)$  \n",
    "$\\therefore 1-x>0 \\iff 1>x$  \n",
    "$\\implies \\text{Dom}(f) = (-\\infin, 1)$<br>  \n",
    "\n",
    "Example: $g(x)=\\log_3(\\frac{1+x}{1-x}), x\\neq1$.  $\\text{Dom}(g)=?$  \n",
    "$\\because \\text{Dom}(log_3x)=(0,\\infin)$  \n",
    "$\\therefore (\\frac{1+x}{1-x})>0$  \n",
    "$1-x>0 \\implies x<1$  \n",
    "$1+x>0 \\implies x>-1$  \n",
    "$\\therefore \\text{Dom}(g)=(-1,1)$<br>  \n",
    "\n",
    "Example $(1.3)^m = 2$  \n",
    "$\\log_{1.3}(1.3)^m=\\log_{1.3}2$  \n",
    "$\\therefore m=\\log_{1.3}2$<br>  \n",
    "\n",
    "> note $a^u=a^v (a>0,a\\neq1)$  \n",
    "$\\implies u=v$  \n",
    "\n",
    "Example $\\log_3(\\frac 19)$  \n",
    "$\\implies \\log_3(3^{-2})$  \n",
    "$\\therefore \\implies -2$"
   ]
  },
  {
   "cell_type": "markdown",
   "metadata": {},
   "source": [
    "__Graph__ $f(x)=\\log_ax$<br>  \n",
    "\n",
    "$0<a<1$  \n",
    "<iframe src=\"https://www.desmos.com/calculator/7qennnatpz?embed\" width=\"250\" height=\"250\" style=\"border: 1px solid #ccc\" frameborder=0></iframe>  \n",
    "\n",
    "red $\\rightarrow \\log_ax$  \n",
    "blue $\\rightarrow a^x$<br>  \n",
    "\n",
    "$a>1$  \n",
    "<iframe src=\"https://www.desmos.com/calculator/8iyzj8ahnc?embed\" width=\"250\" height=\"250\" style=\"border: 1px solid #ccc\" frameborder=0></iframe>  \n",
    "\n",
    "red $\\rightarrow \\log_ax$  \n",
    "blue $\\rightarrow a^x$<br>  "
   ]
  },
  {
   "cell_type": "markdown",
   "metadata": {},
   "source": [
    "__Properties__ for $f(x)=\\log_a(x)$  \n",
    "- $\\text{Dom}(f)=(0,\\infin) \\text{~~~~~~~~} \\text{Range}(f)=\\mathbb{R}$  \n",
    "- $x$-intercept: $(1,0)$  \n",
    "- $y$-intercept: Nil  \n",
    "- Vertical asymptote at $x=0 (y-axis)$  \n",
    "- $f$ is one-to-one & passes through $(1,0)$ & $(a,1)$  \n",
    "- $0<a<1$,  $f$ is decreasing\n",
    "- $a>1$, $f$ is increasing\n",
    "\n",
    "Example: Draw graphs of the functions  \n",
    "$f(x)=-\\log_4(x+1)$  \n",
    "<iframe src=\"https://www.desmos.com/calculator/tui7khpjcj?embed\" width=\"200\" height=\"200\" style=\"border: 1px solid #ccc\" frameborder=0></iframe>  \n",
    "\n",
    "$g(x)=\\log_{1/4}(-x)+1$  \n",
    "<iframe src=\"https://www.desmos.com/calculator/regmyofifh?embed\" width=\"200\" height=\"200\" style=\"border: 1px solid #ccc\" frameborder=0></iframe>"
   ]
  },
  {
   "cell_type": "markdown",
   "metadata": {},
   "source": [
    "## The Natural Logarithmic Function\n"
   ]
  },
  {
   "cell_type": "markdown",
   "metadata": {},
   "source": [
    "Definition: The natural logarithmic function is  \n",
    "$f(x)=\\log_e(x)$,  \n",
    "where the base is \"$e$\".<br>  \n",
    "\n",
    "It is always denoted by $\\ln(x)$ i.e., $f(x)=\\ln(x)$.<br>  \n",
    "\n",
    "Remark:  \n",
    "$\\ln(e^x) = x, \\text{~~~~~~~~}\\forall x\\in\\mathbb{R}=\\text{Dom}(e^x)$  \n",
    "$e^{(\\ln x)}=x, \\text{~~~~~~~~}\\forall x\\in(0,\\infin)=\\text{Dom}(\\ln x)$<br>  \n",
    "\n",
    "__Common Logarithm__  \n",
    "$\\log x=\\log_{10}(x)$  \n",
    "$\\ln x=\\log_ex$"
   ]
  },
  {
   "cell_type": "markdown",
   "metadata": {},
   "source": [
    "### Solving Exponential Equations"
   ]
  },
  {
   "cell_type": "markdown",
   "metadata": {},
   "source": [
    "__Example 1__  Solve $2^{x+1}=64$  \n",
    "$2^{x+1}=64=16\\times 4=2^4\\times 2^2 = 2^6$  \n",
    "$2^{x+1}=2^6\\iff 2^x=2^5$  \n",
    "$\\iff \\log_22^x = \\log_22^5$  \n",
    "$\\iff x=5$<br>  \n",
    "\n",
    "__Example 2__ Solve $e^{-x^2}=(e^x)^2\\centerdot\\frac 1{e^3}$  \n",
    "$e^{-x^2}=e^{2x-3}$  \n",
    "$-x^2=2x-3$  \n",
    "$0=x^2+2x-3\\iff 0=(x+3)(x-1)$  \n",
    "$x=-3,1$<br>  \n",
    "\n",
    "__Example 3__ Solve $9^x-2\\centerdot 3^{x+1}-27=0$  \n",
    "$9^x-2 3^{x+1}-27=0$  \n",
    "$(3^x)^2-6(3^x)-27=0$  \n",
    "$t^2-6t-27=0$  \n",
    "$t^2-9t+3t-27=0 \\iff (t-9)(t+3)=0$  \n",
    "$(3^x-9)(3^x+3)=0$  \n",
    "$x=9 \\text{~~~Or~~~} \\cancel{3^x=-3}$  \n",
    "$\\therefore x=2$<br>  \n",
    "\n",
    "__Example 4__ Solve $5^{x-2}=3^{3x+2}$  \n",
    "$\\ln(5^{x-2})=\\ln(3^{3x+2})$  \n",
    "$(x-2)\\ln(5)=(3x+2)\\ln(3)$  \n",
    "$-2(\\ln(5)+\\ln(3))=3x(\\ln(3))-x\\ln(5)$  \n",
    "$-2(\\ln(15))=x[3\\ln(3)-ln(5))]$  \n",
    "$x=\\displaystyle\\frac{-2\\ln(15)}{\\ln(27)-ln(5)} = \\frac{\\ln(1/225)}{\\ln(27/5)}$<br>  \n",
    "\n",
    "__Example 5__  Solve $x+e^x=2$  \n",
    "$x+e^x=2$  \n",
    "$e^x=2-x$  \n",
    "$x=\\ln(2-x)$  \n",
    "$\\ln(2-x)-x=0$ use graphing tool to find the point where it cuts the x-axis  \n",
    "$\\therefore x\\approx 0.443$"
   ]
  },
  {
   "cell_type": "markdown",
   "metadata": {},
   "source": [
    "## Properties of Logarithmic Function"
   ]
  },
  {
   "cell_type": "markdown",
   "metadata": {},
   "source": [
    "$a\\in(0,1) \\text{Or} a>1$  \n",
    "Recall  \n",
    "$\\log_a1=0\\text{~~~~~~}$ since $\\log_ax$ passes through $(1,0)$  \n",
    "$\\log_aa=1\\text{~~~~~~}$  $\\log_ax$ passes through $(a,1)$  \n",
    "$a^{\\log_ax}=x=\\log_a(a^x)=x$"
   ]
  },
  {
   "cell_type": "markdown",
   "metadata": {},
   "source": [
    "### Laws of Logarithm\n",
    "Let $r\\in\\mathbb{R}, 0<a<1 \\text{~~~Or~~~} a>1; \\text{~~~~M,N}>0.$  \n",
    "Then  \n",
    "1. $\\log_a{(MN)}=\\log_aM+\\log_aN$  \n",
    "2. $\\log_a{(M/N)}=\\log_aM-\\log_aN$\n",
    "3. $\\log_a{(1/N)}=-\\log_aN$\n",
    "4. $\\log_a{(M^r)}=r\\log_aM$  \n",
    "$r\\in N = \\{0,1,2,...\\}$  \n",
    "\n",
    "### Applications of Laws of logarithm\n",
    "Simplify using logs.  \n",
    "$\\log_a\\bigg[\\displaystyle\\frac{x^3 \\sqrt{x^2+1}}{(x+3)^4}\\bigg]$  \n",
    "$=\\log_a(x^3(x^2+1)^{1/2})-\\log_a[(x+3)^4]$  \n",
    "$=\\log_a(x^3)+\\log_a[(x^2+1)^{1/2}]-4\\log_a(x+3)$  \n",
    "$=3\\log_a(x)+\\frac 12 \\log_a(x^2+1)-4\\log_a(x+3)$  "
   ]
  },
  {
   "cell_type": "markdown",
   "metadata": {},
   "source": [
    "> Theorem Leg $0<a<1 \\text{~~~Or~~~} a>1$ and $M,N>0$.  \n",
    "$M=N\\iff\\log_aM=\\log_aN$"
   ]
  },
  {
   "cell_type": "markdown",
   "metadata": {},
   "source": [
    "### Change of base Rule\n",
    "> Theorem If $0<a<1 \\text{~~~Or~~~} a>1$ & $0<b<1 \\text{~~~Or~~~} b>1$  \n",
    "Then, for $x>0$, $\\log_ax=\\displaystyle\\frac{\\log_bx}{\\log_ba}$"
   ]
  },
  {
   "cell_type": "markdown",
   "metadata": {},
   "source": [
    "# Week 7"
   ]
  },
  {
   "cell_type": "markdown",
   "metadata": {},
   "source": [
    "## Function of one variable"
   ]
  },
  {
   "cell_type": "markdown",
   "metadata": {},
   "source": [
    "### Trigonometric functions : other functions and identities\n",
    "Important identities:  \n",
    "- $\\sin(-x)=-\\sin(x)$\n",
    "- $\\cos(-x)=cos(x)$\n",
    "- $\\tan(-x)=-tan(x)$\n",
    "- $\\sin^2(x)+\\cos^2(x)=1$\n",
    "- $\\frac{\\sin(x)}{\\cos(x)}=\\tan(x)$\n",
    "- $\\frac 1{\\cos(x)}=\\sec(x)$\n",
    "- $\\frac 1{\\sin(x)}=\\cosec(x)$"
   ]
  },
  {
   "cell_type": "markdown",
   "metadata": {},
   "source": [
    "### Arithmetic operations on functions\n",
    "Let $D\\sub \\mathbb{R}$ and $f:D\\rightarrow\\mathbb{R}, g:D\\rightarrow\\mathbb{R}$ be functions on $D$.\n",
    "1) The sum function $f+g$ is defined on $D$ by  \n",
    "$(f+g)(x)=f(x)+g(x), x\\in D$\n",
    "2) The product function $fg$ is defined on $D$ by  \n",
    "$fg(x)=f(x)g(x), x\\in D$\n",
    "3) Let $c\\in\\mathbb{R}$. The function $cf$ is defined on $D$ by  \n",
    "$(cf)(x)=cf(x), x\\in D$\n",
    "4) If $g(x)\\neq 0, x\\in D$, the quotient $f/g$ is defined on $D$ by  \n",
    "$(f/g)(x) = f(x)/g(x), x\\in D$."
   ]
  },
  {
   "cell_type": "markdown",
   "metadata": {},
   "source": [
    "### Functions obtained by composition\n",
    "Let $D\\sub \\mathbb{R}$ and $f:D\\rightarrow \\mathbb{R}$ be a function  \n",
    "Let $g:E\\rightarrow\\mathbb{R}$ be a function on $E$ where $\\text{Range}(f)\\sub E \\sub \\mathbb{R}$.  \n",
    "Then for each $x\\in D, f(x) \\in E$ and therefore $g(f(x))$ yields a well-defined number in $\\mathbb{R}$.  \n",
    "Thus, we obtain a function $g\\circ f: D\\rightarrow \\mathbb{R}$ called the composition of $f$ and $g$ defined as $g\\circ f(x)=g(f(x)), x\\in\\mathbb{R}$.<br>  \n",
    "\n",
    "Example: $f(x)=x^2+1$ is a function from $\\mathbb{R}$ to $\\mathbb{R}$. $g(x)=\\sqrt{x}$ is a function from $D=\\{x\\in\\mathbb{R}|x\\geq 0\\}$ to $\\mathbb{R}$.  \n",
    "Then $(g\\circ f)(x)=\\sqrt{x^2+1}$<br>  \n",
    "\n",
    "$\\text{Range}(f)=\\{y\\in\\mathbb{R}|y=x^2+1 \\text{~~for some~~}x\\}$  \n",
    "$\\text{~~~~~~~~~~~~~~~~~~~~~}=[1,\\infin)\\sube \\text{Dom}(g)=[0,\\infin)$"
   ]
  },
  {
   "cell_type": "markdown",
   "metadata": {},
   "source": [
    "## Curves\n"
   ]
  },
  {
   "cell_type": "markdown",
   "metadata": {},
   "source": [
    "A `curve` is a figure that is obtained as th path of a moving point.  \n",
    "A curve can be thought of as a figure obtained by bending a line at various places.<br>  \n",
    "\n",
    "Th intuition of a tangent line to a curve  \n",
    "- a tangent line to a curve C at a point $p$ (on C) is a line which represents the _instantaneous_ direction in which the curve C moves at the point $p$.  \n",
    "- Traditionally, it was thought of as a line which just touches the curves at that point.\n",
    "- Often, a tangent line to a curve C at a point $p$ (on C) has the porperty that is passes through the point $p$ but does not intersect the curve C in any other point close to the point $p$, and lines parallel and close to it either do not intersect C close to $p$, or intersect the curve C in two (or more) points close to $p$.\n",
    "\n",
    "__What is a Tangent (line) to a function?__  \n",
    "Let $f:D\\rightarrow\\mathbb{R}$ be a function where $D$ is a subset of $\\mathbb{R}$. Assume that $\\Gamma(f)$, the graph of $f$ is a curve. Let $x\\in D$.  \n",
    "Then a `tangent (line) to f at x` isa tangent(line) to $\\Gamma(f)$ at the point $(x,f(x))$."
   ]
  },
  {
   "cell_type": "markdown",
   "metadata": {},
   "source": [
    "## Limits of a sequence"
   ]
  },
  {
   "cell_type": "markdown",
   "metadata": {},
   "source": [
    "Example: The limit of a sequence  \n",
    "Consider the sequence of number $2-\\frac 1n$ as $n$ increases.   \n",
    "- $2-\\frac 1{200} = 1.99501$\n",
    "\n",
    "The sequence $2-\\frac 1{n^2}$ as $n$ increases:  \n",
    "- $2-\\frac 1{50^2} = 1.9996$\n",
    "\n",
    "The sequence $2-\\displaystyle\\frac 1{(1+\\log(n))^{1.1}}$ as $n$ increases:\n",
    "- $2-\\displaystyle\\frac 1{(1+\\log(2001))^{1.1}} = 1.90628$<br>   \n",
    "\n",
    "__What is the limit ofa sequence?__  \n",
    "Let $\\{a_n\\}$ be a sequence of real numbers. We say that $\\{a_n\\}$ has limit $a\\in\\mathbb{R}$ if as $n$ increases, the numbers $a_n$ come closer and closer to $a$.<br>  \n",
    "\n",
    "Other equivalent terminology:  \n",
    "1. $\\{a_n\\}$ tends to $a$.\n",
    "2. $\\{a_n\\}$ converges to $a$.\n",
    "3. $\\lim\\limits_{n\\rightarrow\\infin}a_n=a$.\n",
    "4. $a_n\\rightarrow a$.\n",
    "5. $a_n\\text{~~~}\\underrightarrow{n\\rightarrow\\infin}\\text{~~~}a$.\n",
    "6. $\\lim a_n=a$.\n",
    "7. $\\lim\\limits_{n\\rightarrow \\infin}\\{a_n\\}=a$.\n",
    "8. $\\lim\\{a_n\\}=a$."
   ]
  },
  {
   "cell_type": "markdown",
   "metadata": {},
   "source": [
    "### Convergent and divergent sequences"
   ]
  },
  {
   "cell_type": "markdown",
   "metadata": {},
   "source": [
    "A sequence $\\{a_n\\}$ is called `convergent` if it converges to some limit (i.e. a real number).  \n",
    "Example: the sequence $\\{\\frac 1n \\}$ is convergent and has limit $0$.<br>  \n",
    "\n",
    "A sequence $\\{a_n\\}$ is called `divergent` if it is not convergent.  \n",
    "Example: the sequence $\\{(-1)^n\\}$ is divergent.<br>  \n",
    "\n",
    "__Subsequences__  \n",
    "A subsequence ofa sequence is a new sequence formed by (possibly) excluding some entries of a sequence.  \n",
    "Example:  \n",
    "Sequence: $-1 \\bm{1} -1 \\bm{1} -1 \\bm{1} -1 \\bm{1} -1 \\bm{1} -1 \\bm{1} -1 \\bm{1} ...$  \n",
    "Subsequence: $1 1 1 1 1 1 1 1 1 1 1 ...$"
   ]
  },
  {
   "cell_type": "markdown",
   "metadata": {},
   "source": [
    "More examples:  \n",
    "1. The sequence $\\{n\\}$ is divergent.\n",
    "2. The sequence $\\{-n\\}$ is divergent.\n",
    "3. Let $x\\in\\mathbb{R}$. Then the sequence $\\bigg\\{\\displaystyle\\sum_{k=0}^n\\frac{x^k}{k!}\\bigg\\}$ is convergent and converges to $e^x$.\n",
    "4. Let $x\\in\\mathbb{R}$. Then $\\bigg\\{\\bigg(1+\\displaystyle\\frac xn\\bigg)^n\\bigg\\}$ converges to $e^x$.\n",
    "5. The sequence $\\bigg\\{n\\bigg(\\displaystyle\\frac{\\sqrt{2\\pi n}}{n!}\\bigg)^{\\frac 1n}\\bigg\\}$ converges to $e$.\n",
    "6. The sequence $\\bigg\\{\\displaystyle\\frac n{\\sqrt[n]{n!}}\\bigg\\}$ converges to $e$."
   ]
  },
  {
   "cell_type": "markdown",
   "metadata": {},
   "source": [
    "### Useful rules regarding convergence of sequences"
   ]
  },
  {
   "cell_type": "markdown",
   "metadata": {},
   "source": [
    "1. If $a_n\\rightarrow a$, then every subsequence of $\\{a_n\\}$ also converges to $a$.\n",
    "2. If $a_n\\rightarrow a$ and $b_n\\rightarrow b$, then $a_n+b_n\\rightarrow a+b$.\n",
    "3. If $a_n\\rightarrow a$ and $c\\in\\mathbb{R}$, then $ca_n\\rightarrow ca$.\n",
    "4. If $a_n\\rightarrow a$ and $b_n\\rightarrow b$, then $a_n-b_n\\rightarrow a-b$.\n",
    "5. If $a_n\\rightarrow a$ and $b_n\\rightarrow b$, then $a_nb_n\\rightarrow ab$.\n",
    "6. If $a_n\\rightarrow a$ and $f$ is a polynomial function in one variable, then $f(a_n)\\rightarrow f(a)$.\n",
    "7. If $a_n\\rightarrow a$ and $b_n\\rightarrow b$ and $b\\neq 0$, then $\\displaystyle\\frac{a_n}{b_n}\\rightarrow\\frac ab$.\n",
    "8. If $a_n\\rightarrow a$ and $c\\in\\mathbb{R}$, then $c^{a_n}\\rightarrow c^a$.\n",
    "9. If $a_n\\rightarrow a$ and $c\\in\\mathbb{R}$ such that $a_n>0 \\forall n$ and $a,c>0$, then $\\log_c(a_n)\\rightarrow\\log_c(a)$.\n",
    "10. `The sandwhich principle:` If $a_n\\rightarrow a$ and $b_n\\rightarrow a$ and $\\{c_n\\}$ is a sequene such that $a_n\\leq c_n\\leq b_n$, then $c_n\\rightarrow a$."
   ]
  },
  {
   "cell_type": "markdown",
   "metadata": {},
   "source": [
    "Some examples of applying the rules  \n",
    "1. $\\displaystyle\\bigg\\{\\frac{(-1)^n}n\\bigg\\}$ converges to 0.  \n",
    "$\\frac 1n = b_n \\rightarrow 0 \\text{~~~}\\&\\text{~~~} \\frac {-1}n=a_n\\rightarrow 0$  \n",
    "$\\therefore a_n\\leq c_n\\leq b_n \\implies 0\\leq c_n \\leq 0 \\implies c_n\\rightarrow 0$\n",
    "2. $\\displaystyle\\bigg\\{\\frac{\\frac 1{\\ln{(1+n)}}+\\frac{5n^2}{1+n^2}}{(1+\\frac 1n)^{2n}}\\bigg\\}$ converges to ?  \n",
    "$\\ln(1+n)\\rightarrow\\infin \\implies \\frac 1{\\ln(1+n)}\\rightarrow 0$.  \n",
    "$\\displaystyle\\frac{5n^2}{1+n^2}\\implies \\frac 5{\\frac 1{n^2}+1}\\rightarrow\\frac 51 = 5 (\\because 1+\\frac 1{n^2}\\rightarrow 1)$  \n",
    "$(1+\\frac 1n)^{2n}=\\{(1+\\frac 1n)^n\\}^2\\rightarrow e^2$"
   ]
  },
  {
   "cell_type": "markdown",
   "metadata": {},
   "source": [
    "### Limits for functions of one variable  \n",
    "Recall that for any convergent sequence $a_n\\rightarrow a$, we obtain that $a_n^2\\rightarrow a^2$.  \n",
    "Consider the function $f(x)=x^2$. Then we can rewrite the above statement as  \n",
    "$$f(a_n)\\rightarrow f(a) \\text{~~~whenever~~~}a_n\\rightarrow a$$  \n",
    "In contrast, consider the floor function $g(x)=\\lfloor x \\rfloor$.  \n",
    "If one takes a sequence $a_n$ decreasing to $2$, then indeed $g(a_n)\\rightarrow g(2)=2$.  \n",
    "However, if one takes a sequence $a_n$ increasing to $2$, then $g(a_n)\\rightarrow 1$.  \n",
    "Note also that for $g(x)$ this happens at each integer value and if $a$ is a non-integer value, then indeed $$g(a_n)\\rightarrow g(a) \\text{~~~whenever~~~} a_n\\rightarrow a$$"
   ]
  },
  {
   "cell_type": "markdown",
   "metadata": {},
   "source": [
    "...."
   ]
  },
  {
   "cell_type": "markdown",
   "metadata": {},
   "source": [
    "### Some known limits\n",
    "1. $\\lim\\limits_{x\\rightarrow 0}\\displaystyle\\frac{sin(x)}x=1$\n",
    "2. $\\lim\\limits_{x\\rightarrow 0}\\displaystyle\\frac{\\log_e(1+x)}x=1$.\n",
    "3. $\\lim\\limits_{x\\rightarrow\\infin}\\displaystyle\\frac{a+be^x}{c+de^x}=\\frac bd$\n",
    "4. $\\lim\\limits_{x\\rightarrow 0}\\displaystyle\\frac{e^x-1}x=1$"
   ]
  },
  {
   "cell_type": "markdown",
   "metadata": {},
   "source": [
    "# Week 8"
   ]
  },
  {
   "cell_type": "markdown",
   "metadata": {},
   "source": [
    "## Recall\n",
    "Recall that a sequence $\\{a_n\\}$ has limit (or tends to) $a,$ if $a_n$ eventually comes closer and closer to $a$ as $n$ increases.  \n",
    "<br>\n",
    "Notation: $\\lim{a_n} = a$ or $a_n\\rightarrow a$.  \n",
    "<br>\n",
    "Recall that the limit of a function $f(x)$ at $a$ from the left (resp. right) exists if there is a real number $M$ such that $f(a_n)\\rightarrow M$ for `all sequences` $a_n$ such that $a_n\\rightarrow a$ and $a_n < a$ (resp. $a_n>a$ ).  \n",
    "<br>\n",
    "__Statement__: `the limit of` $f$ `at` $a$ `from the left (resp. right) exists and equal` $M$ .  \n",
    "__Math notation__: $\\lim\\limits_{x\\rightarrow a^{-}}{f(x)}=M$ (resp. $\\lim\\limits_{x\\rightarrow a^+}f(x)=M$ ).\n",
    "\n",
    "Examples to remember:  \n",
    "$\\text{~~~~~~~~~~~~~~~~~~~~~~~~~~~~~~~~~~~~}f(x)=x^2 \\text{~~~~~~~~~~~~~~~~~~~~~~~~} f(x)=\\lfloor x \\rfloor$\n",
    "$f(x) = \\displaystyle\\frac 1x \\text{~~~~~~~~~~~~~~~~~~~~~~~~~} f(x) = \\begin{cases} 1 & \\text{if }  x  \\text{ is a rational number}\\\\\n",
    "0 & \\text{if } x \\text{ is not a rational number}\\end{cases}$  \n",
    "\n",
    "Recall that the limit of a function $f(x)$ at $a$ exists if both right and left limits exist and are equal.  \n",
    "<br>\n",
    "In that case, the number (say M) which is the common left and right limit is called the limit of the $f(x)$ at $a$.  \n",
    "<br>\n",
    "__In words__: `the limit of` $f$ `at` $a$ `exists and equals` $M$ .  \n",
    "__Math notation__: $\\lim\\limits_{x\\rightarrow a}f(x)=M$ .  \n",
    "<br>\n",
    "__Definition__: $f$ `is continuous at` $a$ if the limit of $f$ at $a$ exists and $\\lim\\limits_{x\\rightarrow a}f(x)=f(a)$ . $f$ is continuous at $a$ is equivalent to $f(a_n)\\rightarrow f(a)$ whenever $a_n\\rightarrow a$ .  \n",
    "<br>\n",
    "Recall also that we have defined the notion of the `limit as` $x$ `tends to` $\\infin$ (resp. $-\\infin$ ) `denoted by` $\\lim\\limits_{x\\rightarrow \\infin}f(x)$ (resp. $\\lim\\limits_{x\\rightarrow -\\infin}f(x)$) ."
   ]
  },
  {
   "cell_type": "markdown",
   "metadata": {},
   "source": [
    "## Useful rules regarding continuity of a function at a point\n",
    "1. If $\\lim\\limits_{x\\rightarrow a}f(x) = F,\\text{~} \\lim\\limits_{x\\rightarrow a}g(x)=G, \\text{ then } \\lim\\limits_{x\\rightarrow a}(f+g)(x)=F+G$ .\n",
    "2. If $\\lim\\limits_{x\\rightarrow a}f(x) = F \\text{ and } c\\in\\mathbb{R}, \\text{ then } \\lim\\limits_{x\\rightarrow a}(cf)(x)=cF$ .\n",
    "3. If $\\lim\\limits_{x\\rightarrow a}f(x)=F, \\text{~}\\lim\\limits_{x\\rightarrow a}g(x)=G, \\text{ then } \\lim\\limits_{x\\rightarrow a}(f-g)(x)=F-G$ .\n",
    "4. If $\\lim\\limits_{x\\rightarrow a}f(x)=F, \\text{~}\\lim\\limits_{x\\rightarrow a}g(x)=G, \\text{ then }\\lim\\limits_{x\\rightarrow a}(fg)(x)=FG$ .\n",
    "5. If $\\lim\\limits_{x\\rightarrow a}f(x)=F, \\text{~}\\lim\\limits_{x\\rightarrow a}g(x)=G\\neq 0, \\text{ then the function }\\displaystyle\\frac fg \\text{ is defined in at least a small interval around } a \\text{ and } \\lim\\limits_{x\\rightarrow a}\\frac fg (x)=\\frac FG$ .  \n",
    "6. `The sandwich principle:` If $\\lim\\limits_{x\\rightarrow a}f(x)=L, \\text{~} \\lim\\limits_{x\\rightarrow a}g(x)=L, \\text{ and } h(x) \\text{ is a function such that } f(x)\\leq h(x) \\leq g(x)$ ."
   ]
  },
  {
   "cell_type": "markdown",
   "metadata": {},
   "source": [
    "### Examples:\n",
    "1. $f(x)=5x^3+0.45x^2-2x+100$\n",
    "2. $\\lim\\limits_{x\\rightarrow 0}\\displaystyle\\frac{5x^3+0.45x^2-2x+100}{x^2-5x+6}$\n",
    "3. $\\lim\\limits_{x\\rightarrow 0}\\displaystyle\\frac{sin(x)}x$"
   ]
  }
 ],
 "metadata": {
  "interpreter": {
   "hash": "57baa5815c940fdaff4d14510622de9616cae602444507ba5d0b6727c008cbd6"
  },
  "kernelspec": {
   "display_name": "Python 3.7.8 64-bit",
   "language": "python",
   "name": "python3"
  },
  "language_info": {
   "codemirror_mode": {
    "name": "ipython",
    "version": 3
   },
   "file_extension": ".py",
   "mimetype": "text/x-python",
   "name": "python",
   "nbconvert_exporter": "python",
   "pygments_lexer": "ipython3",
   "version": "3.7.8"
  },
  "orig_nbformat": 4
 },
 "nbformat": 4,
 "nbformat_minor": 2
}
