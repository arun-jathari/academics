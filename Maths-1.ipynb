{
 "cells": [
  {
   "cell_type": "markdown",
   "metadata": {},
   "source": [
    "<style>\n",
    "r { color: Red }\n",
    "o { color: Orange }\n",
    "g { color: Green }\n",
    "bl { color: blue}\n",
    "</style>\n",
    "## Binary relations  \n",
    "* <r>Identity relation</r> <bl>$I\\sube A \\times A$\n",
    "    * $I = \\{(a,b)|(a,b) \\in A\\times A, a=b\\}$\n",
    "    * $I = \\{(a,b)|(a,a) \\in A\\times A\\}$\n",
    "    * $I = \\{(a,b)| a \\in A\\}$</bl>\n",
    "* <r>Reflexive relations</r><bl>\n",
    "    * $R \\sube A\\times A, I \\sube R$\n",
    "    * $\\{(a,b)|(a,b) \\in \\mathbb{N}\\times\\mathbb{N}, a, b>0, a|b\\}$\n",
    "        * $a|a\\text{~} \\forall\\text{~} a>0$</bl>\n",
    "* <r>Symmetric relations</r><bl>\n",
    "    * $(a,b) \\in  \\mathbb{R} \\iff (b,a)\\in\\mathbb{R}$\n",
    "    * $\\{(a,b)|(a,b)\\in\\mathbb{N}\\times\\mathbb{N},text{~}gcd(a,b)=1\\}$\n",
    "    * $\\{(a,b)|(a,b) \\in \\mathbb{N}\\times\\mathbb{N},\\text{~}|a-b|=2\\}$</bl>\n",
    "* <r>Transitive relations</r>\n",
    "    * If <bl>$(a,b) \\in \\mathbb{R}$</bl> and <bl>$(b,c) \\in \\mathbb{R}$</bl> then <bl>$(a,c) \\in \\mathbb{R}$</bl>\n",
    "    * <bl>$\\{(a,b)|(a,b) \\in \\mathbb{N}\\times\\mathbb{N},\\text{~}a|b\\}$</bl>\n",
    "        * If <bl>$a|b$</bl> and <bl>$b|c$</bl> then <bl>$a|c$</bl>\n",
    "    * <bl>$\\{(a,b)|(a,b) \\in \\mathbb{R}\\times\\mathbb{R},\\text{~}a<b\\}$</bl>\n",
    "        * If <bl>$a<b$</bl> and <bl>$b<c$</bl> then <bl>$a<c$</bl>\n",
    "* <r>Antisymmetric relations</r>\n",
    "    * If <bl>$(a,b) \\in \\mathbb{R}$</bl> and <bl>$a\\neq b$</bl> then <bl>$(b,a)  \\notin  \\mathbb{R}$</bl>\n",
    "    * <bl>$\\{(a,b)|(a,b) \\in \\mathbb{R}\\times\\mathbb{R},\\text{~}a<b\\}$</bl>\n",
    "        * If <bl>$a<b$</bl> then <bl>$b \\nless a$</bl>\n",
    "    * <bl>$M\\sube P\\times P$</bl> relates mother to childredn\n",
    "        * If <bl>$(p,c) \\in M$</bl> then <bl>$(c,p) \\notin M$</bl>"
   ]
  },
  {
   "cell_type": "markdown",
   "metadata": {},
   "source": [
    "<style>\n",
    "r { color: Red }\n",
    "o { color: Orange }\n",
    "g { color: Green }\n",
    "bl { color: blue}\n",
    "</style>\n",
    "## Equivalence relations\n",
    "* Reflexive, symmetric and transitive\n",
    "* Same remainder modulo <bl>5</bl>\n",
    "    * <bl>$7 \\mod 5=2, \\text{~}22 \\mod 5 =2$</bl>\n",
    "    * If <bl>$a \\mod 5 = b \\mod 5$</bl> then <bl>$(b-a)$</bl> is a multiple of <bl>$5$</bl>\n",
    "    * <bl>$\\mathbb{Z}\\mod 5 = \\{(a,b)|a,b \\in \\mathbb{Z},\\text{~}(b-a)\\mod 5 = 0\\}$</bl>\n",
    "    * Divides integers into <bl>$5$</bl> <r>Disjoint</r> groups/classes based on remainder when divided by <bl>$5$</bl> \n",
    "* An equivalence relation <r>partitions</r> a set\n",
    "* Groups of equivalent elements  are called <r>equivalence classes</r>"
   ]
  },
  {
   "cell_type": "markdown",
   "metadata": {},
   "source": [
    "## Function"
   ]
  },
  {
   "cell_type": "markdown",
   "metadata": {},
   "source": [
    "<style>\n",
    "r { color: Red }\n",
    "o { color: Orange }\n",
    "g { color: Green }\n",
    "bl { color: blue}\n",
    "</style>\n",
    "* A rule maps inputs to outputs\n",
    "    * rule: <bl>$x\\mapsto x^2$</bl>\n",
    "    * <bl>$sq(x) = x^2$</bl>\n",
    "* Input and output sets\n",
    "    * <r>Domain</r>: Input set\n",
    "        * <bl>$\\text{domain}(sq) = \\mathbb{R}$</bl>\n",
    "    * <r>Codomain</r>: Output set of possible values\n",
    "        * <bl>$\\text{codomain}(sq) = \\mathbb{R}$</bl>\n",
    "    * <r>Range</r>: Actual values that the output can take\n",
    "        * <bl>$\\text{range}(sq) = \\mathbb{R}_{\\geq 0} = \\{r|r\\in\\mathbb{R},\\text{~}r\\geq 0 \\}$</bl>\n",
    "* <bl>$f:X\\rightarrow Y$</bl>, domain of <bl>$f$</bl> is <bl>$X$</bl>, codomain is <bl>$Y$</bl>\n",
    "* Assosiate a relation <bl>$R_f$</bl> with each function <bl>$f$</bl>\n",
    "* <bl>$R_{sq} = \\{(x,y)|x,y\\in\\mathbb{R},\\text{~}y=x^2\\}$</bl>\n",
    "    * Additional notation: <bl>$y=x^2$</bl>\n",
    "* <bl>$R_f \\sub \\text{domain}(f)\\times\\text{range}(f)$</bl>\n",
    "* Properties of <bl>$R_f$</bl>\n",
    "    * Defined on the entire domain\n",
    "        * For each <bl>$x\\in\\text{domain}(f)$</bl>, there is a pair <bl>$(x,y) \\in R_f$</bl>\n",
    "    * Single-valued\n",
    "        * For each <bl>$x\\in\\text{domain}(f)$</bl>, there is exactly one <bl>$y\\in\\text{codomain}(f)$</bl> such that <bl>$(x,y)\\in R_f$</bl>\n",
    "* Drawing <bl>$f$</bl> as a graph is plotting <bl>$R_f$</bl>"
   ]
  },
  {
   "cell_type": "code",
   "execution_count": 19,
   "metadata": {},
   "outputs": [
    {
     "data": {
      "image/png": "[encoded data removed]",
      "text/plain": [
       "<Figure size 432x288 with 1 Axes>"
      ]
     },
     "metadata": {
      "needs_background": "light"
     },
     "output_type": "display_data"
    }
   ],
   "source": [
    "# y = x^2\n",
    "import numpy as np\n",
    "import matplotlib.pyplot as plt\n",
    "x = np.linspace(-10,10,100)\n",
    "y = x**2\n",
    "plt.plot(x,y)\n",
    "plt.title('R_f: y = x^2')\n",
    "plt.ylim((-10,10))\n",
    "plt.xlabel('Domain x')\n",
    "plt.ylabel('Codomain y')\n",
    "plt.plot(x,[0]*x)\n",
    "plt.show()"
   ]
  },
  {
   "cell_type": "markdown",
   "metadata": {},
   "source": [
    "<style>\n",
    "r { color: Red }\n",
    "o { color: Orange }\n",
    "g { color: Green }\n",
    "bl { color: blue}\n",
    "</style>\n",
    "* if <bl>$f(x) = 2x + 3$</bl>\n",
    "    * <bl>$2$</bl> is the <r>slope</r>\n",
    "    * <bl>$3$</bl> is <r>intercept</r> where the line crosses the y-axis when <bl>$x=0$</bl>\n",
    "* here \n",
    "    * Domain = <bl>$\\mathbb{R}$</bl>\n",
    "    * Codomain = Range = <bl>$\\mathbb{R}$</bl>\n",
    "-----\n",
    "* let <bl>$x\\mapsto\\sqrt{x}$</bl>\n",
    "* Is this a function?\n",
    "    * <bl>$5^2 = (-5)^2 = 25$</bl>\n",
    "    * <bl>$\\sqrt{25}$</bl> gives two options\n",
    "    * By convention, take positive square root\n",
    "* What is the domain?\n",
    "    * Depends on codomain\n",
    "    * Negative numbers do not have real square roots\n",
    "    * If codomain is <bl>$\\mathbb{R}$</bl>, domain is <bl>$\\mathbb{R}_{\\geq 0}$</bl>\n",
    "    * If codomain is the set <bl>$\\mathbb{C}$</bl> of complex numbers, domain is <bl>$\\mathbb{R}$</bl>"
   ]
  },
  {
   "cell_type": "code",
   "execution_count": 21,
   "metadata": {},
   "outputs": [
    {
     "data": {
      "image/png": "[encoded data removed]",
      "text/plain": [
       "<Figure size 432x288 with 1 Axes>"
      ]
     },
     "metadata": {
      "needs_background": "light"
     },
     "output_type": "display_data"
    }
   ],
   "source": [
    "# y = sqrt(x)\n",
    "import numpy as np\n",
    "import matplotlib.pyplot as plt\n",
    "x = np.linspace(0,10,100)\n",
    "y = x**(1/2)\n",
    "plt.plot(x,y)\n",
    "plt.title('R_f: y = sqrt(x)')\n",
    "plt.ylim((-10,10))\n",
    "plt.xlabel('Domain x')\n",
    "plt.ylabel('Codomain y')\n",
    "plt.plot(x,[0]*x)\n",
    "plt.show()"
   ]
  },
  {
   "cell_type": "markdown",
   "metadata": {},
   "source": [
    "* **Injective**: Different inputs produces different outputs $\\text{\\textemdash}$ one-to-one\n",
    "    * If $x_1 \\neq x_2, f(x_1) \\neq f(x_2)$\n",
    "    * $f(x) = 3x + 5$ is injective\n",
    "    * $f(x) = 7x^2$ is not: for any $a, f(a) = f(-a)$\n",
    "* **Surjective**: Range is the codomain $\\text{\\textemdash}$ onto\n",
    "    * for every $y\\in \\text{codomain}(f)$, there is an $x\\in \\text{domain}(f)$ such that $f(x) = y$\n",
    "    * $f(x) = -7x +10$ is surjective\n",
    "    * $f(x) = 5x^2 + 3$ is not surjective for codomain $\\mathbb{R}$\n",
    "    * $f(x) = 7\\sqrt{x}$ is not sujective for codomain $\\mathbb{R}$\n",
    "* **Bijective**: 1 $\\text{\\textemdash}$ 1 correspondence between domain and codomain\n",
    "    * Every $x\\in \\text{domain}(f)$ maps to a distinct $y\\in \\text{codomain}(f)$\n",
    "    * Every $y\\in \\text{codomain}(f)$ has a unique pre-image $x\\in\\text{domain}(f)$ such that $y=f(x)$\n",
    "> **Theorem**  \n",
    "> A function is bijective if and only if it is injective and sujective\n",
    "* Suppose a function $f$ is injective and surjective \n",
    "    * Injectivity guarantees that $f$ satisfies the first condition of a bijection.\n",
    "    * Surjectivity says every $y\\in \\text{codomain}(f)$ has a pre-image. Injectivity guarantees this pre-image is unique.\n",
    "> To compare cardinality of infinite sets, use bijections "
   ]
  },
  {
   "cell_type": "markdown",
   "metadata": {},
   "source": [
    "**Relations**  \n",
    "* $A\\times B \\text{\\textemdash}$ Cartesian product, all pairs $(a,b), a\\in A$ and $b\\in B$\n",
    "* $A =\\{1,4,7\\}, B = \\{1,16,49\\}$\\\n",
    "  * $A\\times B = \\{(1,1),(1,16),(1,49),(4,1),(4,16),(4,49),(7,1),(7,16),(7,49)\\}$\n",
    "  * $B\\times A = \\{(1,1),(16,1),(49,1),(1,4),(16,4),(49,4),(1,7),(16,7),(49,7)\\}$\n",
    "* Can take Cartesian product of more than two sets\n",
    "  * $A\\times B\\times A = \\{(1,1,1),(1,1,4),(1,1,7),(1,16,1),(1,16,7),...,(7,49,1),(7,49,16),(7,49,49)\\}$\n",
    "* A relation picks out certain tuples in the Cartesian product\n",
    "  * $S\\sube A\\times B = \\{(1,1),(4,16),(7,49)\\}$\n",
    "  * $ S = \\{(a,b)|(a,b)\\in A \\times B, b = a^2\\}$"
   ]
  },
  {
   "cell_type": "markdown",
   "metadata": {},
   "source": [
    "### Fact about divisibility\n",
    "> Observation  \n",
    "> If $n|(a+b)$ and $n|a$, then $n|b$\n",
    "* Sinse $n|(a+b), a+b = u.n$\n",
    "* Since $n|a, a = v.n$\n",
    "* Therefore $ a+b = vn+b=un$\n",
    "* Hence $b = (u-v)n$"
   ]
  },
  {
   "cell_type": "markdown",
   "metadata": {},
   "source": [
    "**Euclid : There is no largest prime number**\n",
    "* Suppose the list of primes is finite, say $\\{p_1,p_2,...,p_k\\}$\n",
    "* Consider $n=p_1.p_2...p_k+1$.\n",
    "* If $n$ is a composite number, at least one prime $p_j$ is a factor, so $p_j|n$.\n",
    "* Since $p_j$ appears in the product $p_1.p_2...p_k$ we have $p_j|p_1.p_2...p_k$\n",
    "* From our observation about divisibility, if $p_j|n$ and $p_j|p_1.p_2...p_k$, we must also have $p_j|1$, which is not possible\n",
    "* So $n$ must also be a prime, which is clearly bigger than $p_k$"
   ]
  },
  {
   "cell_type": "markdown",
   "metadata": {},
   "source": [
    "The **Prime Number Theorem** says that $\\pi(x)$ is approximately $\\frac{x}{\\log(x)}$ for large values of $x$  \n",
    "Large prime numbers are used in modern cryptography"
   ]
  },
  {
   "cell_type": "markdown",
   "metadata": {},
   "source": [
    "**Russell's Paradox:** Cannot have \"set of all sets\"  \n",
    "* it says not every collection can be called a set\n",
    "* Collection that is not a set is sometimes called a `class`"
   ]
  },
  {
   "cell_type": "markdown",
   "metadata": {},
   "source": [
    "# Rectangular Coordinate System\n"
   ]
  },
  {
   "cell_type": "markdown",
   "metadata": {},
   "source": [
    "## Distance Formula\n",
    "* By Pythagorean Theorem.  \n",
    "$PR^2 = QR^2 + PQ^2$  \n",
    "$PR = \\sqrt{(x_2-x_1)^2+(y_2-y_1)^2}$"
   ]
  },
  {
   "cell_type": "markdown",
   "metadata": {},
   "source": [
    "## Section Formula  \n",
    "* Given that, the Point $P$ cuts the line segment $AB$ in the $m:n$ ratio. Our goal is to find the coordinates of $P$.  \n",
    "$A\\operatorname*{\\text{\\textemdash}}\\limits_m P_{(x,y)} \\operatorname*{\\text{\\textemdash}}\\limits_n B$  "
   ]
  },
  {
   "cell_type": "markdown",
   "metadata": {},
   "source": [
    "<img src='media\\maths section formula.drawio.svg'>"
   ]
  },
  {
   "cell_type": "markdown",
   "metadata": {},
   "source": [
    "$\\displaystyle\\frac mn = \\frac{AP}{PB} = \\frac{AQ}{PR} = \\frac{PQ}{BR}$<br>  \n",
    "$\\displaystyle\\frac mn = \\frac{x-x_1}{x_2-x} = \\frac{y-y_1}{y_2-y}$<br>  \n",
    "$\\displaystyle x = \\frac{mx_2+nx_1}{m+n}, y = \\frac{my_2+ny_1}{m+n}$"
   ]
  },
  {
   "cell_type": "markdown",
   "metadata": {},
   "source": [
    "## Area of a Triangle using coordinates\n",
    "<img src = 'media\\math Area of Triangle.drawio.svg'>  \n",
    "\n",
    "$A(\\triangle ABC) = A(\\Box ADFC)-A(\\Box ADEB)-A(\\Box BEFC)$  \n",
    "\n",
    "$A(\\Box ADFC) = \\frac 12(AD + CF)\\times DF = \\frac 12(y_1 + y_3)(x_3-x_1)$  \n",
    "\n",
    "$A(\\Box ADEB) = \\frac 12(AD + EB)\\times DE = \\frac 12(y_1 + y_2)(x_2-x_1)$  \n",
    "\n",
    "$A(\\Box BEFC) = \\frac 12(BE + CF)\\times EF = \\frac 12(y_2 + y_3)(x_3-x_2)$  \n",
    "\n",
    "$A\\triangle ABC) = \\frac 12|x_1(y_2-y_3)+x_2(y_3-y_1)+x_3(y_1-y_2)|$\n",
    "> this formula will be valid when we considered all the vertices in anti-clockwise "
   ]
  },
  {
   "cell_type": "markdown",
   "metadata": {},
   "source": [
    "## Slope of a line\n",
    "* rate of change of y-coordiantes w.r.t x-coordinates  \n",
    "$m=\\displaystyle\\frac{y_1-y_2}{x_1-x_2} = \\tan{\\theta}$   \n",
    "where $\\theta$ is inclination of the line with positive X-axis, measured in anticlockwise direction  \n",
    "* $0\\degree \\leq \\theta \\leq 180\\degree$\n",
    "> If $\\theta$ is the inclination of a line $l$, then $\\tan{\\theta}$ is called the slope or gradient of line $l$.  \n",
    "> If $\\theta \\neq 90\\degree$, then $m=\\tan{\\theta}$\n"
   ]
  },
  {
   "cell_type": "markdown",
   "metadata": {},
   "source": [
    "## Parallel\n",
    "Let $l_1$ and $l_2$ be two non-vertical lines with slopes $m_1$ and $m_2$ with inclinations $\\alpha$ and $\\beta$ respectively  \n",
    "* If $l_1$ is parallel to $l_2$, then $\\alpha = \\beta$.\n",
    "* It is clear that $\\tan{\\alpha} = \\tan{\\beta}$.\n",
    "* Hence $m_1 = m_2$\n",
    "> Two non-vertical lines $l_1$ and $l_2$ are parallel if and only if their slopes are equal\n",
    "\n",
    "## Perpendicular Lines\n",
    "Let $l_1$ and $l_2$ be two non-vertical lines with slopes $m_1$ and $m_2$ with inclinations $\\alpha$ and $\\beta$ respectively.\n",
    "* If $l_1$ is perpendicular to $l_2$, then $90+\\alpha = \\beta$.\n",
    "* Now, $\\tan{\\beta} = \\tan(90 + \\alpha) = -\\cot\\alpha = -1/\\tan\\alpha$\n",
    "* Hence, $m_2 = -1/m_1$ or $m_1m_2 = -1$.\n",
    "> Two non-vertical lines $l_1$ and $l_2$ are perpendicular if and only if $m_1m_2 = -1$\n",
    "\n",
    "## Angle between two lines\n",
    "<img src='media\\angle btw lines.drawio.svg'>  \n",
    "\n",
    "Let $l_1$ and $l_2$ be two non-vertical lines with slopes $m_1$ and $m_2$ with inclinations $\\alpha_1$ and $\\alpha_2$ respectively.<br>  \n",
    "  \n",
    "Suppose $l_1$ and $l_2$ intersect and let $\\phi$ and $\\theta$ be the adjacent angles formed by $l_1$ and $l_2$<br>  \n",
    "\n",
    "Now, $\\theta = \\alpha_2-\\alpha_1$, for $\\alpha_1, \\alpha_2 \\neq 90\\degree$<br>  \n",
    "\n",
    "Then  \n",
    "$\\tan\\theta = \\tan(\\alpha_2-\\alpha_1) = \\displaystyle\\frac{\\tan\\alpha_2-\\tan\\alpha_1}{1+\\tan\\alpha_1\\tan\\alpha_2} = \\frac{m_2-m_1}{1+m_1m_2}, m_1m_2 \\neq -1$,<br>  \n",
    "$\\displaystyle \\tan\\phi = \\tan(180-\\theta) = -\\tan\\theta = \\frac{m_1-m_2}{1+m_1m_2}$"
   ]
  },
  {
   "cell_type": "markdown",
   "metadata": {},
   "source": [
    "## Representation of a Line\n",
    "### Point-Slope Form  \n",
    "For a non-vertical line $l$, with slope $m$ and a fixed point $P(x_0,y_0)$ on the line  \n",
    "* Let $Q(x,y)$ be an arbitrary point on line $l$. Then, the slope of the line is given by<br>   \n",
    "$\\displaystyle m = \\frac{y-y_0}{x-x_0}$  \n",
    "$\\text{~~~~}\\downarrow$<br>  \n",
    "$(y-y_0) = m(x-x_0)$<br>  \n",
    "\n",
    "### Two-Point Form\n",
    "Let the line $l$ pass through the points $P(x_1,y_1)$ and $Q(x_2,y_2)$.  \n",
    "Assume that $R(x,y)$ is an arbitrary point on the line $l$.  \n",
    "$\\implies P,Q\\text{~}\\&\\text{~}R$ are collinear.\n",
    "$\\implies$ Slope of $PR = $ Slope of $PQ$.<br>  \n",
    "$\\therefore \\displaystyle\\frac{y-y_1}{x-x_1} = \\frac{y_2-y_1}{x_2-x_1}$<br>  \n",
    "$\\text{~~~~~~~~~~~~}\\downarrow$<br>  \n",
    "$(y-y_1) = \\displaystyle\\frac{y_2-y_1}{x_2-x_1}(x-x_1)$  \n",
    "\n",
    "### Slope-Intercept Form\n",
    "Let a line $l$ with slope $m$ cut Y-axis at $c$. Then $c$ is called the y-intercept of the line $l$.  \n",
    "That is, the point $(0,c)$ lies on the line $l$.<br>  \n",
    "$\\therefore y-c = mx$ or $y=mx+c$<br>  \n",
    "\n",
    "Let a line $l$ with slope $m$ cut X-axis at $d$. Then $d$ is called X-intercept of the line $l$.  \n",
    "That is, the point $(d,0)$ lies on the line $l$.<br>  \n",
    "$\\therefore y = m(x-d)$  \n",
    "\n",
    "### Intercept Form\n",
    "Suppose a line makes X-intercept at $a$ and Y-intercept at $b$. Then the two points on the lne are $(a,0)$ and $(0,b)$.  \n",
    "Using two-point form,<br>  \n",
    "$(y-0) = \\displaystyle\\frac{b-0}{0-a}(x-a)$ or $\\displaystyle\\frac xa + \\frac yb =1$"
   ]
  },
  {
   "cell_type": "markdown",
   "metadata": {},
   "source": [
    "### General Equation of a Line\n",
    "|Different forms of Equaation of Line|Representation|General Form $Ax+By+C = 0$|\n",
    "|---|---|---|\n",
    "|Slope-Point Form|$(y-y_0) = m(x-x_0)$|$\\displaystyle m=-\\frac AB, y_0 -mx_0=-\\frac CB$<br><br>|\n",
    "|Slope-Intercept Form|$y=mx+c$ or $y = m(x-d)$|$\\displaystyle m=-\\frac AB, c=-\\frac CB$ or $\\displaystyle d=-\\frac CA$<br><br>|\n",
    "|Two-Point Form|$(y-y_1) = \\displaystyle\\frac{y_2-y_1}{x_2-x_1}(x-x_1)$|$\\displaystyle\\frac{y_2-y_1}{x_2-x_1}=-\\frac AB,y_1 + \\frac AB x_1 = -\\frac CB$<br><br>|\n",
    "|Intercept Form|$\\displaystyle\\frac xa + \\frac yb =1$|$\\displaystyle a = -\\frac CA, b = -\\frac CB$<br><br>|  \n",
    "  \n",
    "<br><br>  \n",
    "> Any equation of the form $Ax+By+C = 0$, where $A, B\\neq 0$ simultaneously, is called general linear equation or general equation of a line."
   ]
  },
  {
   "cell_type": "markdown",
   "metadata": {},
   "source": [
    "### Equation of parallel and perpendicular lines in general form\n",
    "two lines $a_1x+b_1y+c_1=0$ and $a_2x+b_2y+c_2=0$  \n",
    "* parallel if $a_1b_2=a_2b_1$  \n",
    "* perpendicular if $a_1a_2+b_1b_2=0$  \n",
    "> use $m_1=m_2$ for parallel and $m_1m_2=-1$ for pependicular"
   ]
  },
  {
   "cell_type": "markdown",
   "metadata": {},
   "source": [
    "### Distance of a Point from a Line\n",
    "Find distance of the point $P(x_1,y_1)$ from the line $l$ having equation $Ax+By+C=0$<br>  \n",
    "$ PM = \\displaystyle\\frac{|Ax_1+By_1+C|}{\\sqrt{A^2+B^2}}$\n",
    "> use intercept form and try area of the triangle"
   ]
  },
  {
   "cell_type": "markdown",
   "metadata": {},
   "source": [
    "### Distance between two Parallel Lines\n",
    "Let $l_1$ and $l_2$ be two paralllel lines with slopes $m$.<br>  \n",
    "$d = \\displaystyle\\frac{|c_1-c_2|}{\\sqrt{1+m^2}}$ (in slope intercept form $y=mx+c$)  \n",
    "Similarly in genelral form ($Ax+By+C=0$), $d = \\displaystyle\\frac{|C_1-C_2|}{\\sqrt{A^2+B^2}}$\n",
    "> use the slope intercept form and use the point-line distance fromula"
   ]
  },
  {
   "cell_type": "markdown",
   "metadata": {},
   "source": [
    "# Quadratic Functions\n",
    "* $f(x) = ax^2+bx+c$ where $a\\neq 0$\n",
    "* The graph of any quadratic function is called `parabola`\n",
    "* The point at which the axis of symmetry intersects the parabola is called the `vertex`\n",
    "> * Y-intercept of a quadratic function is $c$  \n",
    "> * The equation of axis of symmetry: $x=-b/(2a)$\n",
    ">   * X-coordinate of the vertex: $-b/(2a)$\n",
    "> * slope of parabola $ = 2ax+b$"
   ]
  },
  {
   "cell_type": "markdown",
   "metadata": {},
   "source": [
    "### Vertex form (h,k)\n",
    "let $y=ax^2+bx+c$ then  \n",
    "vertex $=(\\frac{-b}{2a},c-\\frac{b^2}{4a}) = (h,k)$<br>  \n",
    "> $\\therefore y=a(x-h)^2+k$"
   ]
  },
  {
   "cell_type": "markdown",
   "metadata": {},
   "source": [
    "### Maximum and Minimum Values\n",
    "* The y-coordinate of the vertex of a given quadratic function is the **minimum or maximum** value attained by the function\n",
    "> $f(x) = ax^2+bx+c$ where $a\\neq 0$\n",
    "> * Opens up and has minimum value, if $a>0$\n",
    "> * Opens down and has maximum value if $a<0$\n",
    "> * $\\text{Domain}=\\mathbb{R}$ and $\\text{Codomain}=\\mathbb{R}$\n",
    "> * The range of a quadratic function is  \n",
    "$\\text{~~~~~}\\displaystyle\\mathbb{R}\\cap\\{f(x)|f(x)\\geq f_{min}\\}$  or $\\displaystyle\\mathbb{R}\\cap\\{f(x)|f(x)\\leq f_{max}\\}$"
   ]
  },
  {
   "cell_type": "markdown",
   "metadata": {},
   "source": [
    "## Roots of Eqations and Zeros of Functions\n",
    "* X-intercepts of the $ax^2+bx+c = 0$ are the roots of the equation"
   ]
  },
  {
   "cell_type": "markdown",
   "metadata": {},
   "source": [
    "### Intercept form\n",
    "Let $y=f(x)=a(x-p)(x-q)$, where $p$ and $q$ represent x-intercepts for the function.  \n",
    "Then the form $y=a(x-p)(x-q)$ is called the intercpet form  \n",
    "E.g., $y=3(x-1)(x-5)$"
   ]
  },
  {
   "cell_type": "markdown",
   "metadata": {},
   "source": [
    "### Standard form to Inetercept form\n",
    "E.g. $f(x)=5x^2-13x+6$ to intercept form  \n",
    "**Applying `FOIL Method`**  \n",
    "$5x^2-13x+6 = (ax+b)(cx+d) = acx^2+(ad+bc)x+bd$  \n",
    "$\\therefore ac = 5, ad+bc=-13$ and $bd = 6$. That is, $abcd = 30$ and $ad+bc=-13$  \n",
    "$30 = 2\\times 3\\times 5 = 10\\times 3=(-10)(-3)$. That is $ad = -10$ and $bc = -3$  \n",
    "$5x^2-13x+6 = 5x^2-10x-3x+6 = 5x(x-2)-3(x-2) = (5x-3)(x-2)=5(x-\\frac 35)(x-2)$<br>  \n",
    "\n",
    "**New method: Completing the Square**  \n",
    "$x^2+10x=24$  \n",
    "Observe that $(x+a)^2 = x^2+2ax+a^2$. Using this write $10=2\\times 5$ and add $25$ on both sides of the equation to get  \n",
    "$x^2+10x+25=24+25=49$  \n",
    "$(x+5)^2 = 7^2$  \n",
    "$(x+5)= \\pm 7$  \n",
    "$\\therefore x = -5+7=2$ and $x=-5-7=-12$ are the roots of the quadratic equation"
   ]
  },
  {
   "cell_type": "markdown",
   "metadata": {},
   "source": [
    "## Quadratic Equations with Irrational Roots\n",
    "$x^2-4x+4=32$  \n",
    "$\\implies (x-2)^2 = 32$.  \n",
    "$\\therefore (x-2) = \\pm\\sqrt{32}=\\pm 4\\sqrt{2}$  \n",
    "$\\implies x=2\\pm 4\\sqrt{2}$ are the roots of the quadratic equation\n",
    "<br>  \n",
    "\n",
    "$x = \\displaystyle\\frac{-b\\pm\\sqrt{b^2-4ac}}{2a}$"
   ]
  },
  {
   "cell_type": "markdown",
   "metadata": {},
   "source": [
    "|Value of the discriminant|Type and number of roots|\n",
    "|---|---|\n",
    "|$b^2-4ac>0$ and $b^2-4ac$ is a perfect square<br>$b^2-4ac>0$ and $b^2-4ac$ isn't a perfect square|$2$ real, rational roots.<br>$2$ real, irrational roots|\n",
    "|$b^2-4ac=0$|$1$ real, rational root.|\n",
    "|$b^2-4ac<0$|No real root|"
   ]
  },
  {
   "cell_type": "markdown",
   "metadata": {},
   "source": [
    "# Polynomials  \n",
    "Poly+Nomen = many+name\n",
    "* Each term is called monomial \n",
    "* A polynomial having two terms is called binomial\n",
    "* A polynonial with three terms is called trinomial  \n",
    "\n",
    "$a_nx^n+a_{n-1}x^{n-1}+\\dots+a_1x+a_0=\\sum_{m=0}^n a_mx^m$\n",
    "\n",
    "$x^2+4x+2\\text{~~} \\checkmark$  \n",
    "$x+x^{1/2}\\text{~~} \\bcancel\\checkmark $ is not a polynomial because the $2^{nd}$ monomial has rational exponent  \n",
    "$ x+y+xy+x^3\\text{~~}\\checkmark$"
   ]
  },
  {
   "cell_type": "markdown",
   "metadata": {},
   "source": [
    "### Degree of the Polynomial\n",
    "$3x^3+4x^2y^2+10y+1 \\rightarrow$ its degree is $4$\n",
    "* the exponent on the variable in a term is called the degree of that variable in that term\n",
    "* the degree of that term is the sum of the degrees of the variables in that term\n",
    "* the degree of the polynomial is the largest degree of any one of the terms with non-zero coefficients"
   ]
  },
  {
   "cell_type": "markdown",
   "metadata": {},
   "source": [
    "## Graphs of Polynomial\n",
    "### Characterization of Graphs of Polynomial functions\n",
    "* Polynomial functions of second degree or higher have graphs that do not have sharp corners That is, the graphs are smooth curves.\n",
    "* Polynomial functions also display graphs that have no breaks. Curves with no breaks are called continuous"
   ]
  },
  {
   "cell_type": "markdown",
   "metadata": {},
   "source": [
    "> * For `zeros` with even multiplicities, the graphs touch or are `tangent` to the x-axis\n",
    "> * For zeros with odd multiplicities, the graphs cross or `intersect` the x-axis"
   ]
  },
  {
   "cell_type": "markdown",
   "metadata": {},
   "source": [
    "> Sum of the multiplicities will always be $\\leq$ degree of the polynomial"
   ]
  },
  {
   "cell_type": "code",
   "execution_count": 35,
   "metadata": {},
   "outputs": [
    {
     "name": "stdout",
     "output_type": "stream",
     "text": [
      "   3     2\n",
      "1 x - 3 x + 3 x - 1\n"
     ]
    }
   ],
   "source": []
  },
  {
   "cell_type": "code",
   "execution_count": 36,
   "metadata": {},
   "outputs": [
    {
     "data": {
      "text/plain": [
       "[<matplotlib.lines.Line2D at 0x1fba85e9948>]"
      ]
     },
     "execution_count": 36,
     "metadata": {},
     "output_type": "execute_result"
    },
    {
     "data": {
      "image/png": "[encoded data removed]",
      "text/plain": [
       "<Figure size 432x288 with 1 Axes>"
      ]
     },
     "metadata": {
      "needs_background": "light"
     },
     "output_type": "display_data"
    }
   ],
   "source": [
    "import numpy as np\n",
    "import matplotlib.pyplot as plt\n",
    "x = np.linspace(-50,50,50)\n",
    "y = ((x-1)**2)*((x+2)**3)\n",
    "p11 = np.poly1d([1],True)\n",
    "p12 = np.polymul(p11,p11)\n",
    "p21 = np.poly1d([-2],True)\n",
    "p22 = np.polymul(p21,p21)\n",
    "p23 = np.polymul(p21,p22)\n",
    "p31 = np.poly1d([-4],True)\n",
    "\n",
    "f = np.polymul(p12,p23)\n",
    "f = np.polymul(f,p31)\n",
    "plt.plot(x,f(x))"
   ]
  }
 ],
 "metadata": {
  "interpreter": {
   "hash": "57baa5815c940fdaff4d14510622de9616cae602444507ba5d0b6727c008cbd6"
  },
  "kernelspec": {
   "display_name": "Python 3.7.8 64-bit",
   "language": "python",
   "name": "python3"
  },
  "language_info": {
   "codemirror_mode": {
    "name": "ipython",
    "version": 3
   },
   "file_extension": ".py",
   "mimetype": "text/x-python",
   "name": "python",
   "nbconvert_exporter": "python",
   "pygments_lexer": "ipython3",
   "version": "3.7.8"
  },
  "orig_nbformat": 4
 },
 "nbformat": 4,
 "nbformat_minor": 2
}
