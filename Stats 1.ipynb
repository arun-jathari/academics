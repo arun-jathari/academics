{
 "cells": [
  {
   "cell_type": "markdown",
   "metadata": {},
   "source": [
    "# Statistics\n",
    "*Definition*  \n",
    "Statistics is the art of learning from data. It is concerned with the collection of data, their subsequent description, and their analysis which often leads to the drawing of conclusions  \n",
    "  \n",
    "**Major branches**  \n",
    "1. **Description**\n",
    "The part of statistics concerned with the description and summarization of data is called `descriptive statistics`\n",
    "2. **Inference**  \n",
    "The part of statistics concerned with the drawing of coclusions from data is called inferential statistics.\n",
    "    * To be able to draw a conclusion from the data, we must take into account the possibility of chance introduction to probability."
   ]
  },
  {
   "cell_type": "markdown",
   "metadata": {},
   "source": [
    "**Population and sample**  \n",
    "* The total collection of all the elements that we are interested in is called a `population`.\n",
    "* A subgroup of the population that will be studied in detail is called a `sample`."
   ]
  },
  {
   "cell_type": "markdown",
   "metadata": {},
   "source": [
    "**Purpose of statistical analysis**  \n",
    "* If the purpose of the analysis is to examine and explore information for its own intrinsic interest only, the study is descriptive.\n",
    "* If the information is obtained from a sample of a population and the purpose of the study is to use that infrormation to draw conclusions about the population, the study is inferential.\n",
    "* A descriptive study may be performed either on a sample or on a population.\n",
    "* when an inference is made about the population, based on information obtained from the sample, does the study become inferential?"
   ]
  },
  {
   "cell_type": "markdown",
   "metadata": {},
   "source": [
    "**Data collection**\n",
    "* Data available: published data.\n",
    "    * https://data.gov.in\n",
    "* Data not available: need to collect, generate data."
   ]
  },
  {
   "cell_type": "markdown",
   "metadata": {},
   "source": [
    "**Dataset**\n",
    "* A structured collection of Data\n",
    "* it is a collection of values-could be numbers, names, roll numbers"
   ]
  },
  {
   "cell_type": "markdown",
   "metadata": {},
   "source": [
    "**Variables and cases**\n",
    "* Case ( observation ): A unit from which data are collected\n",
    "* Variable:\n",
    "    * Intuitive: A variable is that \"varies\".\n",
    "    * Formally: A characteristic or attribute that varies across all units.\n",
    "* *Rows represent cases:* for each case, same attribute is recorded\n",
    "* *Columns represent variables:* For each variables, same type of value for each case is recorded."
   ]
  },
  {
   "cell_type": "markdown",
   "metadata": {},
   "source": [
    "**Categorical and numerical variables**\n",
    "* **Categorical data**\n",
    "    * Also called qualitative variables.\n",
    "    * Identify group membership\n",
    "* **Numerical data**\n",
    "    * Also called quantitative variables.\n",
    "    * Describe numerical properties of cases\n",
    "    * Have measurement units\n",
    "* **Measurement units**: Scale that defines the meaning of numerical data, such as wieghts measured in kilograms, prices in rupees heights in centimeters, etc.\n",
    "    * The data that make up a numerical variable in a data table must share a common unit."
   ]
  },
  {
   "cell_type": "markdown",
   "metadata": {},
   "source": [
    "<img src='media\\Stats1 Data types.drawio.svg'>"
   ]
  },
  {
   "cell_type": "markdown",
   "metadata": {},
   "source": [
    "**Cross-sectional and time-series data**\n",
    "* Time series - data recorded over time\n",
    "* Timeplot - graph of a time series showing values in chronological order\n",
    "* Cross-sectional - data observed at the same time\n",
    "> Check whether data is collected at a point of time (cross-sectional data) or over time (time-series data)"
   ]
  },
  {
   "cell_type": "markdown",
   "metadata": {},
   "source": [
    "## Scales of measurement\n",
    "* Data collection requries one of the following scales of measurement: nominal, ordianl, interval or ratio.  \n",
    "\n",
    "**Nominal scale of measurement**\n",
    "* When the data for a variable consist of labels or names used to identify the charactersitic of an observation, the scale of measurement is considered a `nominal` scale.  \n",
    "  * e.g., Name, Board, Gender, Blood group etc\n",
    "* Sometimes nominal variable might be numerically coded.\n",
    "  * e.g., We might code Men as 1 and Women as 2. Or Code Men as 3 and Women as 1. Both codes are valid.\n",
    "* There is no ordering in the variable.\n",
    "> Nominal: name categories without implying order\n",
    "  \n",
    "**Ordinal scale of measurement**\n",
    "* Data exhibits properties of nominal data and the order or rank of data is meaningful, the scale of measurment is considered a `ordinal` scale.\n",
    "* Each customer who visists a restaurant provides a service rating of excellent, good, or poor.\n",
    "  * The data obtained are the labels - excellent, good, or poor - the data have the properties of nominal data.\n",
    "  * In addition, the data can be ranked, or ordered, with respect to the service quality.\n",
    "> Ordinal - name categories that can be ordered\n",
    "  \n",
    "**Interval scale of measurement**\n",
    "* If the data have all the properties of an ordinal data and the interval between values is expressed in terms of a fixed unit of measure, then the scale of measurment is `interval` scale.\n",
    "* Interval data are always numeric, Can find out difference between any two values.\n",
    "* Ratios of values have no meaning here because the value of zero is arbitratry\n",
    "* E.g. temperature\n",
    "  * Suppose the response to a question on how hot the day is comfortable and uncomfortable, then the temperature as a variable is `nominal`\n",
    "  * Suppose the answer to measuring the temperature of a liquid is cold, warm, hot - the variable is `ordinal`\n",
    "  * Example: Consider a AC room where temperature is set at $20\\degree C$ and the temperature outside the room is $40\\degree C$. It is correct to say that the difference in temperature is $20\\degree C$, but it is incorrect to say that the outdoors is twice as hot as indoors.\n",
    "  * Temperature in dgreees Fahrenheit or degrees centigrade is an interval variable. No absolute zero.\n",
    "  \n",
    "\n",
    "  ||Celsius|Fahrenheit|\n",
    "  |---|---|---|\n",
    "  |Freezing point|0|32|\n",
    "  |Boiling point|100|212|\n",
    "> Interval: numerical values that can be added/substracted (no absolute zero)\n",
    "\n",
    "**Ratio scale of measurement**\n",
    "* If the data have all the properties of interval data and the ratio of two values is meaningful, then the scale of measurement is `ratio` scale\n",
    "  * E.g., height, weight, age, marks, etc.\n",
    "> Ratio: numerical values that can be added, subtracted, multiplied or divided ( makes ratio comparisons possible)\n"
   ]
  },
  {
   "cell_type": "markdown",
   "metadata": {},
   "source": [
    "|characteristics|Scale of measurment|Examples|\n",
    "|---|---|---|\n",
    "|True zero exists<br>ratios possible|**Ratio Scale**|`Numerical Data`<br>Age, height, weight, marks etc.|\n",
    "||$\\downarrow\\downarrow\\downarrow$||\n",
    "|No absolute zero.<br>Difference exists|**Interval Scale**|Temperature, GPA etc.|\n",
    "||$\\downarrow\\downarrow\\downarrow$||\n",
    "|Named + ordered categories|**Ordinal Scale**|`Categorical Data`<br>Ranking, rating etc.|\n",
    "||$\\downarrow\\downarrow\\downarrow$||\n",
    "|Named categories|**Nominal Scale**|Name, Blood group etc.|"
   ]
  },
  {
   "cell_type": "markdown",
   "metadata": {},
   "source": [
    "<img src='media\\Datset data types.drawio.svg'>"
   ]
  },
  {
   "cell_type": "markdown",
   "metadata": {},
   "source": [
    "## Frequency distribution\n",
    "* A `frequency distribution` of qualitative data is a listing of the distinct values and their frequencies\n",
    "* Each row of a frequency table lists a category along with the number of cases in this category.\n",
    "\n",
    "E.g. A,A,B,C,A,D,A,B,D,C\n",
    "|Category|Tally mark|Frequency|Relative frequency|\n",
    "|---|---|---|---|\n",
    "|A|\\|\\|\\|\\||4|0.4|\n",
    "|B|\\|\\||2|0.2|\n",
    "|C|\\|\\||2|0.2|\n",
    "|D|\\|\\||2|0.2|\n",
    "|**Total**||10|1|"
   ]
  },
  {
   "cell_type": "markdown",
   "metadata": {},
   "source": [
    "# Charts of categorical data\n",
    "* The two most common displays of a categorical variable are a bar chart and a pie chart.\n",
    "* Both describe a categorical variable by displaying its frequency table."
   ]
  },
  {
   "cell_type": "markdown",
   "metadata": {},
   "source": [
    "## Pie charts\n",
    "* A pie chart is a circle divided into pieces proportional to the relative frequencies of the qualitative data."
   ]
  },
  {
   "cell_type": "code",
   "execution_count": 36,
   "metadata": {},
   "outputs": [
    {
     "data": {
      "image/png": "[encoded data removed]",
      "text/plain": [
       "<Figure size 720x360 with 1 Axes>"
      ]
     },
     "metadata": {},
     "output_type": "display_data"
    }
   ],
   "source": [
    "# Import libraries\n",
    "from matplotlib import pyplot as plt\n",
    "import numpy as np\n",
    " \n",
    " \n",
    "# Creating dataset\n",
    "cars = ['AUDI', 'BMW', 'FORD',\n",
    "        'TESLA', 'JAGUAR', 'MERCEDES']\n",
    " \n",
    "data = [23, 17, 35, 29, 12, 41]\n",
    " \n",
    "# Creating plot\n",
    "fig = plt.figure(figsize =(10, 5))\n",
    "plt.pie(data, labels = cars)\n",
    " \n",
    "# show plot\n",
    "plt.show()"
   ]
  },
  {
   "cell_type": "markdown",
   "metadata": {},
   "source": [
    "## Bar chart\n",
    "* A bar chart displays the distinct values of the qualitative data on a horizontal axis and the relative frequencies (or frequencies or percents) of those values on a vertical axis. The frequency/relative frequency of each distinct value is represented by a vertical bar whose height is equal to the frequency/relative frequency of that value. The bars should be positioned so that they do not touch each other."
   ]
  },
  {
   "cell_type": "code",
   "execution_count": 35,
   "metadata": {},
   "outputs": [
    {
     "data": {
      "image/png": "[encoded data removed]",
      "text/plain": [
       "<Figure size 720x360 with 1 Axes>"
      ]
     },
     "metadata": {
      "needs_background": "light"
     },
     "output_type": "display_data"
    }
   ],
   "source": [
    "# Import libraries\n",
    "from matplotlib import pyplot as plt\n",
    "import numpy as np\n",
    " \n",
    " \n",
    "# Creating dataset\n",
    "cars = ['AUDI', 'BMW', 'FORD',\n",
    "        'TESLA', 'JAGUAR', 'MERCEDES']\n",
    " \n",
    "data = [23, 17, 35, 29, 12, 41]\n",
    " \n",
    "# Creating plot\n",
    "fig = plt.figure(figsize =(10, 5))\n",
    "plt.bar(x = cars,height = data)\n",
    " \n",
    "# show plot\n",
    "plt.show()"
   ]
  },
  {
   "cell_type": "markdown",
   "metadata": {},
   "source": [
    "## Pareto charts\n",
    "* When the categories in a bar chart are sorted by frequency, the bar chart is sometimes called a `Pareto chart`. Pareto charts are popular in quality control to identify problems in a business process.\n",
    "    * If the categorical variable is ordinal, then the bar chart must preserve the ordering."
   ]
  },
  {
   "cell_type": "code",
   "execution_count": 34,
   "metadata": {},
   "outputs": [
    {
     "data": {
      "image/png": "[encoded data removed]",
      "text/plain": [
       "<Figure size 720x360 with 2 Axes>"
      ]
     },
     "metadata": {
      "needs_background": "light"
     },
     "output_type": "display_data"
    }
   ],
   "source": [
    "# Import libraries\n",
    "from matplotlib import pyplot as plt\n",
    "import numpy as np\n",
    "import pandas as pd \n",
    " \n",
    "# Creating dataset\n",
    "cars = ['AUDI', 'BMW', 'FORD',\n",
    "        'TESLA', 'JAGUAR', 'MERCEDES']\n",
    " \n",
    "data = [23, 17, 35, 29, 12, 41]\n",
    "df1 = pd.DataFrame({'cars':cars,'data':data}).sort_values(by='data',ascending=False)\n",
    "df2 = pd.DataFrame({'Size':['Small','Medium','Large'],'Freq':[7,8,5]})\n",
    " \n",
    "# Creating plot\n",
    "fig, ax = plt.subplots(1,2,figsize=(10,5))\n",
    "ax[0].bar(x = df1.cars,height = df1.data)\n",
    "ax[1].bar(x=df2.Size,height=df2.Freq)\n",
    "\n",
    "# plot accessories\n",
    "ax[0].set_xticks(df1.cars,df1.cars,rotation=90)\n",
    "ax[0].set_title('Pareto Charts (Nominal Data)')\n",
    "ax[1].set_title('Pareto Charts (Ordinal Data)')\n",
    "\n",
    "# show plot\n",
    "plt.show()"
   ]
  },
  {
   "cell_type": "markdown",
   "metadata": {},
   "source": [
    "**Many Categories**\n",
    "* A bar chart or pie chart with too many categories might conceal the more important categories. In some case, grouping other categories together might be helpful."
   ]
  },
  {
   "cell_type": "markdown",
   "metadata": {},
   "source": [
    "**The area principle**\n",
    "* Displays of data must obey a fundamental rule called the area principle.\n",
    "* The area principle says that the area occupied by a part of the graph should correspond to the amount of data it represents.\n",
    "* Violations of the `area principle` are a common way to mislead with statistics."
   ]
  },
  {
   "cell_type": "markdown",
   "metadata": {},
   "source": [
    "**Misleading graphs: voilating area principle**\n",
    "* Decorated graphics: Charts decorated to attract attention often violate the area principle\n",
    "* Every bar should be on a baseline for comparision\n",
    "* Should obey area principle and accurate  \n",
    "\n",
    "**Misleading graphs: truncated graphs**\n",
    "* Another common voilation is when the baseline of a bar chart is not at zero\n",
    "<br>..."
   ]
  },
  {
   "cell_type": "markdown",
   "metadata": {},
   "source": [
    "**Round-off errors**\n",
    "* Important to check for round-off errors\n",
    "* When table entries are percentages or proportions, the total may sum to a value slightly different from $100\\%$ or $1$. This might result in a pie chart where the total does not add up."
   ]
  },
  {
   "cell_type": "markdown",
   "metadata": {},
   "source": [
    "## Mode\n",
    "The mode of acategorical variable is the most common category, the category with the highest frequency  \n",
    "The mode labels\n",
    "* The longest bar in a bar chart\n",
    "* The widest sllice in a pie chart.\n",
    "* In a Pareto chart, the mode is the first category shown.\n",
    "\n",
    "**Bimodal and multimodal data**\n",
    "* If two or more categories tie for the highest frequency, the data are said to be bimodal(in the case of two) or multimodal (more than two).\n",
    "* Let consider the example A,A,B,C,A,C,A,B,C,C,A,C,C,D,A,A,C,D,B\n",
    "* Both category \"A\" and \"C\" have highest frequency"
   ]
  },
  {
   "cell_type": "markdown",
   "metadata": {},
   "source": [
    "## Median\n",
    "* `Ordinal data` offer another summary, the median, that is not available unless the data can be put into order.\n",
    "\n",
    "The `median` of an ordinal variable is the category of the middle observation of the sorted values\n",
    "* If there are an even number of observations, choose the category on either side of the middle of the sorted list as the median"
   ]
  },
  {
   "cell_type": "markdown",
   "metadata": {},
   "source": [
    "### Organizing numerical data\n",
    "* Recall, a discrete variable usually involves a count of something, whereas a continuous variable usually involves a measurement of something\n",
    "* First group the observations into classes(also known as categories or bins) and then treat the classes as the distinct values of qualitative data\n",
    "* Once we group the quantitative data into classes, we can construct frequency and relative-frquency distributions of the data in exactly the same way as we did for categorical data."
   ]
  },
  {
   "cell_type": "markdown",
   "metadata": {},
   "source": [
    "**Organizing discrete data(single value)**\n",
    "* If the data set contains only a relatively small number of distinct, or different, values, it is convenient to represent it in a frequency table\n",
    "* Each class represents a distinct value(single value) along with its frequency of occurrence.\n",
    "\n",
    "**Organizing continuous data**  \n",
    "Organize the data into a number of classs to make the data understandable. Howerver, there are few guidelines that need to be followed. They are \n",
    "1. Number of classes: The appropriate number is a subjective choice, the rule of thumb is to have between $5$ to $20$ classes\n",
    "2. Each observation should belong to some class and no observation should belong to more than one class.\n",
    "3. It is common, although not essential, to choose class intervals of equal length."
   ]
  },
  {
   "cell_type": "markdown",
   "metadata": {},
   "source": [
    "**Glossary**\n",
    "1. Lower class limit: The smallest value that could go in a class\n",
    "2. Upper class limit: The largest value that could go in a class\n",
    "3. Class width: the difference between the lower limit of a class and the lower limit of the next-higher class.\n",
    "4. Class mark: the average of the two class limits of a class.\n",
    "5. A class interval contains its left-end but not its right-end boundary point.\n",
    "    * [30,40)"
   ]
  },
  {
   "cell_type": "markdown",
   "metadata": {},
   "source": [
    "**Steps to construct a hitogram**  \n",
    "..."
   ]
  },
  {
   "cell_type": "markdown",
   "metadata": {},
   "source": [
    "## Stem-and-leaf diagram\n",
    "In a stem-and-leaf diagram (or stemplot), each observation is separated into two parts, namely, a stem-consisting of all but the rightmost digit-and a leaf, the rightmost digits.\n",
    "* For example, if the data are all two-digit numbers, then we could let the stem of a data value be the tens digit and the leaf be the ones digit.\n",
    "    * The value $75$ is expressed as<br>\n",
    "    $\\begin{bmatrix} \\text{Stem} & | & \\text{Leaf}\\\\\n",
    "                               7 & | & 5\\end{bmatrix}$\n",
    "    * The two values $75$, $78$ is expressed as \n",
    "    $\\begin{bmatrix} \\text{Stem} & | & \\text{Leaf}\\\\\n",
    "                               7 & | & 5,8\\end{bmatrix}$\n",
    "    * e.g.<br>\n",
    "    15,22,29,36,31,23,45,10,25,28,48\n",
    "    $\\begin{bmatrix} \\text{Stem} & | & \\text{Leaf}\\\\\n",
    "                               1 & | & 0 5\\\\\n",
    "                               2 & | & 2 3 5 8 9\\\\\n",
    "                               3 & | & 1 6\\\\\n",
    "                               4 & | & 5 8\\end{bmatrix}$"
   ]
  },
  {
   "cell_type": "markdown",
   "metadata": {},
   "source": [
    "## Descriptive measure\n",
    "* The objective is to develop measures that can be used to summarize a data set.\n",
    "* These descriptive measures are quantities whose values are determined by the data\n",
    "\n",
    "Most commonly used descriptive measures can be categorized as\n",
    "* `Measures of central` tendency: These are measures that indicate the most typical value or center of a data set.\n",
    "* `Measures of dispersion`: These measures indicate the variability or spread of a dataset"
   ]
  },
  {
   "cell_type": "markdown",
   "metadata": {},
   "source": [
    "## The Mean\n",
    "The most commonly used measure of central tendency is the mean.  \n",
    "The `mean` of a data set is the sum of the observations divided by the number of observations\n",
    "* The mean is usually referred to as `average`\n",
    "* Arithmetic average; divide the sum of the values by the number of values(another typical value)\n",
    "* For discrete observations:\n",
    "    * Sample mean: $\\bar{x} = \\displaystyle\\frac{x_1+x_2+\\dots+x_n}{n}$ ($n$ sample size)\n",
    "    * Population mean: $\\mu = \\displaystyle\\frac{x_1+x_2+\\dots+x_N}{N}$"
   ]
  },
  {
   "cell_type": "markdown",
   "metadata": {},
   "source": [
    "### Adding a constant to data and calc mean\n",
    "* Let $y_i = x_i + c$ where $c$ is a constant then $$\\bar{y} = \\bar{x} + c$$\n",
    "* Example: marks of students<br> 68, 79, 38, 68, 35, 70, 61, 47, 58, 66 with mean $\\bar{x} = 59$\n",
    "    * Suppose the teacher has decided to add 5 marks to each student.\n",
    "    * Then the data becomes<br>\n",
    "    73, 84, 43, 73, 40, 75, 66, 52, 63, 71\n",
    "    * The mean of the new data set is $\\bar{y}=\\frac{640}{10}=64=59+5=\\bar{x}+5$\n",
    "### Multiplying a constant to data and calc mean\n",
    "* Let $y_i = x_ic$ where $c$ is a constant then $$\\bar{y} = \\bar{x}c$$\n",
    "* Example: marks of students<br> 68, 79, 38, 68, 35, 70, 61, 47, 58, 66 with mean $\\bar{x} = 59$\n",
    "    * Suppose the teacher has decided to scale down each mark by $40\\%$, in other words each mark is multiplied by $0.4$.\n",
    "    * Then the data becomes<br>\n",
    "    27.2, 31.6, 15.2, 27.2, 14, 28, 24.4, 18.8, 23.2, 26.4\n",
    "    * The mean of the new data set is $\\bar{y} = \\frac{236}{10} = 23.6 = 59\\times 0.4 = \\bar{x}\\times 0.4$"
   ]
  },
  {
   "cell_type": "markdown",
   "metadata": {},
   "source": [
    "## Median\n",
    "Another frequentyl used measure of center is the median.  \n",
    "Essentially, the median of a data set is the number that divides the bottom $50\\%$ of the data from the top $50\\%$  \n",
    "<br>  \n",
    "The `median` of a data set is the middle value in its `ordered list`.\n",
    "1. If the number of observations  is odd, then the median is the observation exactly in the middle of the ordered  list, i.e., $\\displaystyle\\frac{n+1}2$ observation\n",
    "2. If the number of observations is even, then the median is the mean of the two middle obaservations in the ordered list, i.e., mean of $\\frac n2$ and $\\frac n2 +1$ observation\n",
    "\n",
    "### Adding a constant\n",
    "* Let $y_i = x_i +c$ where $c$ is a constant then<br> $$\\text{new median} = \\text{old median} + c$$\n",
    "* Example: marks of students<br> \n",
    "68, 79, 38, 68, 35, 70, 61, 47, 58, 66<br>\n",
    "Arranging in ascending order 35, 38, 46, 58, 61, 66, 68, 68, 70, 79<br>\n",
    "The median for this data is the average of $\\frac n2$ and $\\frac n2 +1$ observation<br>\n",
    "which is $\\frac{61+66}2 = \\frac{126}2 = 63.5$\n",
    "* Suppose the teacher has decided to add $5$ marks to each student.\n",
    "* Then the data in ascending order is<br>\n",
    "40, 43, 52, 63, 66, 71, 73, 73, 75, 84\n",
    "* The median of the new dataset is $\\frac{66+71}2 = \\frac{137}2 = 68.5$\n",
    "* Note $68.5 = 63.5+5$\n",
    "\n",
    "### Multiplying a constant\n",
    "* Let $y_i = x_ic$ where $c$ is a constant then<br>\n",
    "$$\\text{new median} = \\text{old median}\\times c$$\n",
    "* Example: Recall the marks of students<br> \n",
    "68, 79, 38, 68, 35, 70, 61, 47, 58, 66 with median $63.5$<br>\n",
    "* Suppose the teacher has decided to scale down each mark by $40\\%$, in other words each mark is multiplied by $0.4$.\n",
    "* then the data becomes<br>\n",
    "27.2, 31.6, 15.2, 27.2, 14, 28, 24.4, 18.8, 23.2, 26.4<br>\n",
    "The ascending order is 14, 15.2, 18.8, 23.2, 24.4, 26.4, 27.2, 28, 31.6<br>\n",
    "The median of new dataset is $\\frac{24.4+26.4}2 = \\frac{50.8}2 = 25.4$\n",
    "* Note $25.4 = 0.4\\times 63.5$"
   ]
  },
  {
   "cell_type": "markdown",
   "metadata": {},
   "source": [
    "## Mode\n",
    "Another measure of central tendency is the sample mode.\n",
    "> The mode of a data set is its most frequently occuring value.\n",
    "### Adding a constant\n",
    "$y_i = x_i + c$ where $c$ is a constant\n",
    "$$\\text{new mode} = \\text{old mode}+c$$\n",
    "### Multiplying a constant\n",
    "$y_i = x_ic$ where $c$ is a constant\n",
    "$$\\text{new mode} = \\text{old mode}\\times c$$"
   ]
  },
  {
   "cell_type": "markdown",
   "metadata": {},
   "source": [
    "## Why do we need a measure of dispersion\n",
    "* Consider the two data sets given below\n",
    "    * Dataset 1: 3, 3, 3, 3, 3\n",
    "    * Dataset 2: 1, 2, 3, 4, 5 \n",
    "* The measure of central tendency for both the data sets are\n",
    "\n",
    "||Dataset 1|Dataset 2|\n",
    "|---|---|---|\n",
    "|Mean|3|3|\n",
    "|Median|3|3|\n",
    "|Mode|3|Not available|\n",
    "\n",
    "* The mean, median are same for both the datasets. However, the datasets are not same. They are different.\n",
    "# Measure of dispersion\n",
    "> * To describe that difference quatitatively, we use a descriptive measure that indicates the amount of variation, or spread, in a data set.\n",
    "* Such description measures are referred to as \n",
    "    * measures of dispersion or\n",
    "    * measures of variation or \n",
    "    * measures of spread\n",
    "* E.g.\n",
    "    1. Range\n",
    "    2. Variance\n",
    "    3. Standard deviation\n",
    "    4. Interquartile range"
   ]
  },
  {
   "cell_type": "markdown",
   "metadata": {},
   "source": [
    "## Range\n",
    "> The range of a data set is the difference between its largest and smallest values\n",
    "*  The range of a data set is given by the formula\n",
    "$$\\text{Range} = \\text{Max} - \\text{Min}$$\n",
    "||Dataset 1|Dataset2|\n",
    "|---|---|---|\n",
    "||3,3,3,3,3|1,2,3,4,5|\n",
    "|Max<br>Min|3<br>3|5<br>1|\n",
    "|Range|0|4|\n",
    "  \n",
    "<br>  \n",
    "\n",
    "> * Range is sensitive to outliers\n",
    "\n",
    "<br>  \n",
    "\n",
    "||Dataset 1|Dataset2|\n",
    "|---|---|---|\n",
    "||1,2,3,4,5|1,2,3,4,15|\n",
    "|Max<br>Min|5<br>1|15<br>1|\n",
    "|Range|4|14|"
   ]
  },
  {
   "cell_type": "markdown",
   "metadata": {},
   "source": [
    "## Variance\n",
    "> In contrast to the Range, the variance takes into account all the observations  \n",
    "> Its the deviations of the data values from a central value\n",
    "\n",
    "### Population variance and sample variance\n",
    "* Population variance: $\\sigma^2 = \\displaystyle\\frac{(x_1-\\mu)^2+(x_2-\\mu)^2+\\dots+(x_N-\\mu)^2}N$\n",
    "* Sample variance: $s^2 = \\displaystyle\\frac{(x_1-\\bar{x})^2+(x_2-\\bar{x})^2+\\dots+(x_n-\\bar{x})^2}{n-1}$\n",
    "\n",
    "### Adding a constant\n",
    "* if $y_i = x_i +c$ then \n",
    "$$\\text{new variance} = \\text{old variance}$$\n",
    "\n",
    "### Multiplying a constant\n",
    "* if $y_i = x_ic$ then\n",
    "$$\\text{new variance} = c^2\\times \\text{old variance}$$"
   ]
  },
  {
   "cell_type": "markdown",
   "metadata": {},
   "source": [
    "## Standard deviation\n",
    "> The quantity which is the square root of sample variance is the sample standard deviation\n",
    ">$$s =\\sqrt{\\displaystyle\\frac{(x_1-\\bar{x})^2+(x_2-\\bar{x})^2+\\dots+(x_n-\\bar{x})^2}{n-1}}$$\n",
    "\n",
    "### Adding a constant\n",
    "* if $y_i = x_i + c$ then\n",
    "$$\\text{new variance} = \\text{old variance}$$\n",
    "\n",
    "### Multiplying a constant\n",
    "* if $y_i = x_ic$ then\n",
    "$$\\text{new variance} = c\\times \\text{old variance}$$"
   ]
  },
  {
   "cell_type": "markdown",
   "metadata": {},
   "source": [
    "## Percentiles\n",
    "> The sample $100p$ percentile is that data value having the property that at least $100p$ percent of the data are less than or equal to it and at least $100(1-p)$ percent of the data values are greater than or equal to it.\n",
    "\n",
    "* If two data values satisfy this condition, then the sample $100p$ percentile is the arithmetic average of these values.\n",
    "\n",
    "### Computing Percentile\n",
    "To find the sample $100p$ percentile of a data set of size $n$\n",
    "1. Arrange the data in increasing order.\n",
    "2. If $np$ is `not an integer`, determine the smallest integer greater than $np$. The data value in that position is the sample $100p$ percentile.\n",
    "3. If $np$ is `an integer`, then the average of the values in positions $np$ and $np+1$ is the sample $100p$ percentile\n",
    "\n",
    "Example  \n",
    "Let $n= 10$\n",
    "* Arrange data in ascending order 35, 38 ,47, 58, 61, 66, 68, 68, 70, 79\n",
    "\n",
    "|p|np||\n",
    "|---|---|---|\n",
    "|0.1|1|(35+38)/2=36.5|\n",
    "|0.25|2.5|46|\n",
    "|0.5|5|(61+66)/2=63.5|\n",
    "|0.75|7.5|68|\n",
    "|1|10|79|\n",
    "\n",
    "#### Computing percentile using googlesheets-PERCENTILE function\n",
    "..."
   ]
  },
  {
   "cell_type": "markdown",
   "metadata": {},
   "source": [
    "## Quartiles\n",
    "> The sample 25th percentile is called the first quartile. The sample 50th percentile is called the median or the second quartile. The sample 75th percentile is called the third quartile.\n",
    "\n",
    "## The Five Number Summary\n",
    "* Minimum\n",
    "* $Q_1$: First Quartile or lower quartile\n",
    "* $Q_2$: Second Quartile of Median\n",
    "* $Q_3$: Third Quartile or upper quartile\n",
    "* Maximum\n",
    "\n",
    "## Interquartile Range (IQR)\n",
    "> The interquartile range, IQR, is the difference between the first and third quartiles; that is, \n",
    "> $$IQR = Q_3-Q_1$$\n",
    "\n",
    "* IQR for the an examle\n",
    "    * First quartile, $Q_1 = 49.75$ \n",
    "    * Third quartile, $Q_3 = 68$\n",
    "    * $IQR = Q_3-Q_1 = 18.25$"
   ]
  },
  {
   "cell_type": "markdown",
   "metadata": {},
   "source": [
    "# Association between categorical variables\n",
    "## Contigency tables\n",
    "Example 1: Gender versus use of smartphone\n",
    "* The categorical variables in this example are\n",
    "    * Gender: Male, Female (2 categories) - Nominal variable\n",
    "    * Own a smartphone: Yes, No (2 categories) - Nominal variable\n",
    "* We have the following summary statistics\n",
    "    1. There are 44 female and 56 male students\n",
    "    2. 76 students owned a smartphone, 24 did not own.\n",
    "    3. 34 female students owned a smartphone, 42 male students owned a smartphone.\n",
    "* The data given in this example can be organized using a two-way table, referred to as `contingency table`\n",
    "> if the data is ordinal maintain the order of the data\n",
    "\n",
    "<br>  \n",
    "\n",
    "|||own N or Y|Rowtotal|\n",
    "|---|---|---|---|\n",
    "|**Gender**|Female<br>Male|10 $\\text{~~~~}$ 34<br>14 $\\text{~~~~}$ 42|44<br>56|\n",
    "|**col total**||24 $\\text{~~~~}$ 76|100|\n",
    "\n",
    "Example 2: Income versus use of smartphone\n",
    "* The categorical variables in this example are\n",
    "    * Income: Low, Medium, High (3 categories) - Ordinal variable\n",
    "    * Own a smartphone: Yes, No (2 categories) - Nominal variable\n",
    "\n",
    "||Own a smartphone||\n",
    "|---|---|---|\n",
    "|Income|No $\\text{~~~~}$ Yes|Grand Total|\n",
    "|High|2 $\\text{~~~~}$ 18|20|\n",
    "|Low|9 $\\text{~~~~}$ 5|14|\n",
    "|Medium|27 $\\text{~~~~}$ 39|66|\n",
    "|Grand Total|38 $\\text{~~~~}$ 62|100|\n",
    "\n",
    "* if Income variable is coded as 1:High; 2:Medium; 3:Low then\n",
    "\n",
    "||Own a smartphone||\n",
    "|---|---|---|\n",
    "|Income(coded)|No $\\text{~~~~}$ Yes|Grand Total|\n",
    "|1|2 $\\text{~~~~}$ 18|20|\n",
    "|2|27 $\\text{~~~~}$ 39|66|\n",
    "|3|9 $\\text{~~~~}$ 5|14|\n",
    "|Grand Total|38 $\\text{~~~~}$ 62|100|\n",
    "\n",
    "In this table the **Order is preserved**"
   ]
  },
  {
   "cell_type": "markdown",
   "metadata": {},
   "source": [
    "## Relative frequencies\n",
    "\n",
    "**Row relative frequency**\n",
    "\n",
    "|||own N or Y|Rowtotal|\n",
    "|---|---|---|---|\n",
    "|**Gender**|Female<br>Male|10/44 $\\text{~~~~}$ 34/44<br>14/56 $\\text{~~~~}$ 42/56|44<br>56|\n",
    "|**col total**||24/100 $\\text{~~~~}$ 76/100|100|\n",
    "\n",
    "<br>  \n",
    "\n",
    "|||own N or Y|Rowtotal|\n",
    "|---|---|---|---|\n",
    "|**Gender**|Female<br>Male|22.73% $\\text{~~~~}$ 77.27%<br>25.00% $\\text{~~~~}$ 75.00%|44<br>56|\n",
    "|**col total**||24.00% $\\text{~~~~}$ 76.00%|100|\n",
    "\n",
    "**Column relative frequency**\n",
    "\n",
    "|||own N or Y|Rowtotal|\n",
    "|---|---|---|---|\n",
    "|**Gender**|Female<br>Male|10/24 $\\text{~~~~}$ 34/76<br>14/24 $\\text{~~~~}$ 42/76|44/100<br>56/100|\n",
    "|**col total**||24 $\\text{~~~~}$ 76|100|\n",
    "\n",
    "<br>  \n",
    "\n",
    "|||own N or Y|Rowtotal|\n",
    "|---|---|---|---|\n",
    "|**Gender**|Female<br>Male|41.67% $\\text{~~~~}$ 44.74%<br>58.33% $\\text{~~~~}$ 55.26%|44.00%<br>56.00%|\n",
    "|**col total**||24 $\\text{~~~~}$ 76|100|\n",
    "\n",
    "### Association between two variables\n",
    "* If the row relative frequencies (the column relative frequencies) are the `same` for all rows(columns) then we say that the two variables are not associated with each other\n",
    "* If the row relative frequencies (the column relative frequencies) are the `different` for some rows(columns) then we say that the two variables are associated with each other\n",
    "\n",
    "|||own N or Y|Rowtotal|\n",
    "|---|---|---|---|\n",
    "|**Gender**|Female<br>Male|22.73% $\\text{~~~~}$ 77.27%<br>25.00% $\\text{~~~~}$ 75.00%|44<br>56|\n",
    "|**col total**||24.00% $\\text{~~~~}$ 76.00%|100|\n",
    "\n",
    "<br>  \n",
    "\n",
    "|||own N or Y|Rowtotal|\n",
    "|---|---|---|---|\n",
    "|**Gender**|Female<br>Male|41.67% $\\text{~~~~}$ 44.74%<br>58.33% $\\text{~~~~}$ 55.26%|44.00%<br>56.00%|\n",
    "|**col total**||24 $\\text{~~~~}$ 76|100|\n",
    "\n",
    "Gender and smartphone ownership are not associated"
   ]
  },
  {
   "cell_type": "markdown",
   "metadata": {},
   "source": [
    "## Graphical representaion\n",
    "* Stacked bar chart\n",
    "* 100% stacked bar chart\n",
    "\n",
    "..."
   ]
  },
  {
   "cell_type": "markdown",
   "metadata": {},
   "source": [
    "# Assosication between numerical variables"
   ]
  },
  {
   "cell_type": "markdown",
   "metadata": {},
   "source": [
    "## Scatter plot\n",
    "> A scatter plot is a graph that displays pairs of values as points on a two-dimensional plane\n",
    "\n",
    "* explanatory variable on x-axis and response variable on y-axis\n",
    "* check the relation visually\n",
    "\n",
    "### describing assosication\n",
    "1. Direction\n",
    "2. Curvature\n",
    "3. Variation: Are the points tightly clustered along the pattern?\n",
    "4. Outliers: Did you find something unexpected?"
   ]
  },
  {
   "cell_type": "markdown",
   "metadata": {},
   "source": [
    "## Measure of association\n",
    "* **Covariance**\n",
    "* **Correlation**\n",
    "\n",
    "### Covariance\n",
    "> Covariance quantifies the strength of the linear association between two numerical variables.\n",
    "\n",
    "<br>\n",
    "\n",
    "|X|Y|Deviation(x,y)|\n",
    "|---|---|---|\n",
    "|Large(Small)|Large(small)|Same|\n",
    "|Large(small)|Small(Large)|different|\n",
    "\n",
    "* Population covariance: $\\text{Cov}(x,y) = \\displaystyle\\frac{\\sum_{i=1}^n(x_i-\\bar{x})(y_i-\\bar{y})}N$\n",
    "* Sample covariance: $\\text{Cov}(x,y) = \\displaystyle\\frac{\\sum_{i=1}^n(x_i-\\bar{x})(y_i-\\bar{y})}{n-1}$\n",
    "\n",
    "### Units of Covariance\n",
    "* The size of the covariance, however, is difficult to interpret because the covariance has units.\n",
    "* The units of the covariance are those of the x-variable times those of the y-variable\n",
    "\n",
    "### Correlation\n",
    "* A more easily intepreted measure of linear association between two numerical variables is correlation\n",
    "* It is derived from covariance\n",
    "\n",
    "$r = \\displaystyle\\frac{\\sum_{i=1}n (x_i-\\bar{x})(y_i-\\bar{y})}{\\sqrt{\\sum_{i=1}^n (x_i-\\bar{x})^2}\\sqrt{\\sum_{i=1}^n (y_i-\\bar{y})^2}} = \\frac{\\text{cov}(x,y)}{s_xs_y}$<br>  \n",
    "\n",
    "$-1<r<1$\n",
    "\n",
    "### $R^2$\n",
    "> Goodness of fit measure\n",
    "\n",
    "$R^2 =$ squre of covarience( $r$ )  \n",
    "$0\\leq R^2 \\leq 1$"
   ]
  },
  {
   "cell_type": "markdown",
   "metadata": {},
   "source": [
    "|Association between<br> Categorical variables|Association between<br> Numerical variable|\n",
    "|---|---|\n",
    "|1. Contigency table<br>2. Relative frequence<br>$\\text{~~~~}\\hookrightarrow$ row<br>$\\text{~~~~}\\hookrightarrow$ column|1. Scatter plot<br>$\\text{~~~~}\\hookrightarrow$ Direction<br>$\\text{~~~~}\\hookrightarrow$ Curvature<br>$\\text{~~~~}\\hookrightarrow$ Variation<br>$\\text{~~~~}\\hookrightarrow$ Outliers<br>2. Covariance, Correlation<br>3. Equation of line, $R^2$|"
   ]
  },
  {
   "cell_type": "markdown",
   "metadata": {},
   "source": [
    "# Find relation between categorical and numerical variables\n",
    "the realtion can be observed by plotting a scatter plot with categorical on x-axis and numerical on y-axis\n",
    "## Point Bi-serial Correlation Coefficient\n",
    "now to find the strength of association between categorical and numerical variable we use following formula, Such that Categorical variable is dichotomous varible (only two categories)\n",
    "$$r_{pb}=\\displaystyle\\bigg(\\frac{\\bar{Y}_0-\\bar{Y}_1}{s_x}\\bigg)\\sqrt{p_0p_1}$$"
   ]
  },
  {
   "cell_type": "markdown",
   "metadata": {},
   "source": [
    "-----"
   ]
  },
  {
   "cell_type": "markdown",
   "metadata": {},
   "source": [
    "# Permutations and Combinations"
   ]
  },
  {
   "cell_type": "markdown",
   "metadata": {},
   "source": [
    "### Addition rule of counting\n",
    "* If an action $A$ can occur in $n_1$ different ways, another action $B$ can occur in $n_2$ different ways, then the total number of occurrence of the actions $A$ <b>or</b> $B$ is $n_1 + n_2$\n",
    "    * e.g.: if there are 4 shirts and 3 pants, and we have to find number of ways to buy `Either one shirt or one pant`\n",
    "      * $\\therefore$ no. of ways $=4+3=7$\n",
    "\n",
    "### "
   ]
  },
  {
   "cell_type": "markdown",
   "metadata": {},
   "source": [
    "### Multiplication rule of counting\n",
    "* If an action $A$ can occur in $n_1$ different ways, another action $B$ can occur in $n_2$ different ways, then the total number of occurrence of the actions $A$ <b>and</b> $B$ together is $n_1\\times n_2$\n",
    "* Suppose that $r$ actions are to be performed in a definite order. Further suppose that there are $n_1$ possibilities for the first action and that corresponding to each of these possibilities are $n_2$ possibilities for the second action, and so on. <br>Then there are $n_1\\times n_2\\times \\dots\\times n_r$ possibilities altogether for the $r$ actions.\n",
    "    * e.g. 1: `choosing a combo of 1 shirt, 1 pant and 1 shoes` if there are 3 shirts, 4 pants and 2 shoes\n",
    "        * no. of ways $=3\\times 4\\times 2$\n",
    "    * e.g. 2: `Creating alpha-numeric code`<br>\n",
    "      Create a Six digit alpha-numeric password with first two letters followed by four numbers\n",
    "        * Repetition allowed<br>\n",
    "          no. of ways $= 26\\times 26\\times 10\\times 10\\times 10\\times 10 = 6,760,000$\n",
    "        * Repetition not allowed<br>\n",
    "          no. of ways $= 26\\times 25\\times 10\\times 9\\times 8\\times 7 = 3,276,000$"
   ]
  },
  {
   "cell_type": "markdown",
   "metadata": {},
   "source": [
    "#### Factorial Notation\n",
    "* E.g.: `Order of finishes in a race` <br>\n",
    "No. of ways in which a race of 8 people can be finished<br>\n",
    "$=8\\times 7\\times 6\\times 5\\times 4\\times 3\\times 2\\times 1 = 8!$  \n",
    "* if $i\\leq n$ then\n",
    "  * $n! = n\\times(n-1)\\times\\dots\\times(n-i+1)\\times(n-i)!$"
   ]
  },
  {
   "cell_type": "markdown",
   "metadata": {},
   "source": [
    "$^nC_r = \\displaystyle\\frac{n!}{(n-r)\\times r!} \\text{~~~~} ^nP_r = \\frac{n!}{(n-r)!}$\n",
    "* $^nCr = ^nC_{n-r}$\n",
    "* $^nCr = {^nP_r}/{r!}$\n",
    "* $^nCr$ $+$ $^nC_{r-1}=$ $^{n+1}C_r$\n",
    "* $n$ $^{n-1}C_{r-1} = (n-r+1)$ $^nC_{r-1}$\n",
    "* $^nC_1+$ $^nC_2+\\dots+$ $^nC_n = 2^n-1$\n"
   ]
  },
  {
   "cell_type": "markdown",
   "metadata": {},
   "source": [
    "E.g.:  \n",
    "* The number of ways of selecting at leaset one Indian and at least one American for a debate from a group comprising 3 Indians and 4 Americans is 105  \n",
    "proof:[[source](https://youtu.be/qLsXs2aApbw)]"
   ]
  },
  {
   "cell_type": "markdown",
   "metadata": {},
   "source": [
    "||Repeats allowed|No Repeats|\n",
    "|--|--|--|\n",
    "|**Permutations<br>(order matters):**|$n^r$|$\\displaystyle ^nP_r$ or *|\n",
    "|**Combinations<br>(order doesn't matter):**|$\\displaystyle ^{(n+r-1)}C_r$|$\\displaystyle ^nC_r$|\n",
    "\n",
    "[[source](https://www.mathsisfun.com/combinatorics/combinations-permutations.html)]  \n",
    "\n",
    "**\\*Permutations when the objects are not distinct** The number of permutations of $n$ objects of which $p_1$ are of one kind, $p_2$ are of second kind $, ..., p_k$ are of $k^{th}$ kind and the rest if any, are of different kinds is $\\displaystyle\\frac{n!}{p_1!p_2!...p_k!}$  \n",
    "note: $n = p_1+p_2+\\dots+p_k$\n",
    "\n",
    "[[read more from NCERT](https://ncert.nic.in/pdf/publication/exemplarproblem/classXI/mathematics/keep207.pdf)]"
   ]
  },
  {
   "cell_type": "markdown",
   "metadata": {},
   "source": [
    "# Week 9"
   ]
  },
  {
   "cell_type": "markdown",
   "metadata": {},
   "source": [
    "## Random variables"
   ]
  },
  {
   "cell_type": "markdown",
   "metadata": {},
   "source": [
    "### Learning objectives\n"
   ]
  },
  {
   "cell_type": "markdown",
   "metadata": {},
   "source": [
    "1. Define what is a random variable.\n",
    "2. Types of random variables: discrete and continuous \n",
    "3. Probability mass function, graph, and examples.\n",
    "4. Cumulative distribution function, graphs, and examples.\n",
    "5. Expectation and variance of a random variable."
   ]
  },
  {
   "cell_type": "markdown",
   "metadata": {},
   "source": [
    "### Definition  \n"
   ]
  },
  {
   "cell_type": "markdown",
   "metadata": {},
   "source": [
    "- When a probability experiment is performed, often we are not interested in all the details of the experimental result, but rather are interested in the value of some numerical quantity determined by the result.\n",
    "- For example, in rolling a dice twice, often we care about only their sum of outcomes and are not concerned about the values on the individual dice.  \n",
    "    - That is, we may be interested in knowing that the sum is 7 and may not be concerned over whether the actual outcome was (1,6), (2,5), (3,4), (4,3), (5,2) or (6,1)\n",
    "- These quantities of interest, or more formally, these real-valued functions defined on the sample space, are known as `random variable`\n",
    "- Becasue the value of a random variable is determined by the outcome of the expreiment, we may assign probabilities to the possible values of the random variable."
   ]
  },
  {
   "cell_type": "markdown",
   "metadata": {},
   "source": [
    "### Examples of Random Variable\n"
   ]
  },
  {
   "cell_type": "markdown",
   "metadata": {},
   "source": [
    "1. Rolling a dice twice\n",
    "    - The sample space for this experiment is  \n",
    "    $S=\\begin{Bmatrix} (1,1), (1,2), (1,3), (1,4), (1,5), (1,6), \\\\\n",
    "    (2,1),(2,2),(2,3),(2,4),(2,5),(2,6),\\\\\n",
    "    (3,1),(3,2),(3,3),(3,4),(3,5),(3,6),\\\\\n",
    "    (4,1),(4,2),(4,3),(4,4),(4,5),(4,6),\\\\\n",
    "    (5,1),(5,2),(5,3),(5,4),(5,5),(5,6),\\\\\n",
    "    (6,1),(6,2),(6,3),(6,4),(6,5),(6,6),\\end{Bmatrix}$\n",
    "    - Consider the probabilites associated with the two questions \n",
    "        1. Of the outcomes, how many outcomes will result in a sum of outcomes as 7?\n",
    "        2. Of the outcomes, how many outcomes will have the smaller of the outcomes as 3?\n",
    "    - Notice, the experiment and sample space used to answer both the questions are the same\n",
    "    - --\n",
    "    - Let X denote the sum of outcomes of te two rolls\n",
    "    - Let Y denote the lesser of the two outcomes. If the outcomes are the same, the value of the outcomes is taken as value of Y.\n",
    "\n",
    "    |Outcome|X|Y||Outcome|X|Y||Outcome|X|Y|\n",
    "    |--|--|--|--|--|--|--|--|--|--|--|\n",
    "    |(1,1)|2|1||(3,1)|4|1| |(5,1)|6|1|\n",
    "    |(1,2)|3|1||(3,2)|5|2| |(5,2)|7|2|\n",
    "    |(1,3)|4|1||(3,3)|6|3| |(5,3)|8|3|\n",
    "    |(1,4)|5|1||(3,4)|7|3| |(5,4)|9|4|\n",
    "    |(1,5)|6|1||(3,5)|8|3| |(5,5)|10|5|\n",
    "    |(1,6)|7|1||(3,6)|9|3| |(5,6)|11|5|\n",
    "    |(2,1)|3|1||(4,1)|5|1| |(6,1)|7|1|\n",
    "    |(2,2)|4|2||(4,2)|6|2| |(6,2)|8|2|\n",
    "    |(2,3)|5|2||(4,3)|7|3| |(6,3)|9|3|\n",
    "    |(2,4)|6|2||(4,4)|8|4| |(6,4)|10|4|\n",
    "    |(2,5)|7|2||(4,5)|9|4| |(6,5)|11|5|\n",
    "    |(2,6)|8|2||(4,6)|10|4||(6,6)|12|6|\n",
    "\n",
    "    - Sum of rolls of the dice\n",
    "        - Let X denote the sum of outcomes of the two rolls.\n",
    "        - X takes the values 2,3,4,5,6,7,8,9,10,11 and 12.\n",
    "\n",
    "        |Value of X| Relevant event|\n",
    "        |--|--|\n",
    "        |2|{(1,1)}|\n",
    "        |3|{(1,2),(2,1)}|\n",
    "        |4|{(1,3),(2,2),(3,1)}|\n",
    "        |5|{(1,4),(2,3),(3,2),(4,1)}|\n",
    "        |$\\vdots$|$\\vdots$|\n",
    "        |9|{(3,6),(4,5),(5,4),(6,3)}|\n",
    "        |10|{(4,6),(5,5),(6,4)}|\n",
    "        |11|{(5,6),(5,5),(6,4)}|\n",
    "        |12|{(6,6)}|\n",
    "\n",
    "        - We say X is a random variable taking on one of the values 2,3,4,5,6,7,8,9,10,11 and 12 with respective probabilities\n",
    "\n",
    "        |Probability of X|Probability of relevent event|Probability|\n",
    "        |--|--|--|\n",
    "        |P{X=2}|{(1,1)}|$\\frac{1}{36}$|\n",
    "        |P{X=3}|P({(1,2),(2,1)})|$\\frac{2}{36}$|\n",
    "        |P{X=4}|P({(1,3),(2,2),(3,1)})|$\\frac{3}{36}$|\n",
    "        |P{X=5}|P({(1,4),(2,3),(3,2),(4,1)})|$\\frac{4}{36}$|\n",
    "        |$\\vdots$|$\\vdots$|$\\vdots$|\n",
    "        |P{X=9}|P({(3,6),(4,5),(5,4),(6,3)})|$\\frac{4}{36}$|\n",
    "        |P{X=10}|P({(4,6),(5,5),(6,4)})|$\\frac{3}{36}$|\n",
    "        |P{X=11}|P({(5,6),(5,5),(6,4)})|$\\frac{2}{36}$|\n",
    "        |P{X=12}|P({(6,6)})|$\\frac{1}{36}$|\n",
    "    \n",
    "    - Lesser of the two values\n",
    "        - Let Y denote the lesser of the two outcomes. If the outcomes are the same, the value of the out come is taken as value of Y.\n",
    "        - Y takes the values 1,2,34,5 and 6.\n",
    "\n",
    "        |Y|Relevent event|\n",
    "        |--|--|\n",
    "        |1|{(1,1), (1,2), (1,3), (1,4), (1,5), (1,6), (2,1), (3,1), (4,1), (5,1), (6,1)}|\n",
    "        |2|{(2,2), (2,3), (2,4), (2,5), (2,6), (3,2), (4,2), (5,2), (6,2)}|\n",
    "        |3|{(3,3), (3,4), (3,5), (3,6), (4,3), (5,3), (6,3)}|\n",
    "        |4|{(4,4), (4,5), (4,6), (5,4), (6,4)}|\n",
    "        |5|{(5,5), (5,6), (6,5)}|\n",
    "        |6|{(6,6)}|\n",
    "\n",
    "        - We say Y is a random variable taking on one of the values 1,2,3,4,5 and 6 with respective probabilities\n",
    "\n",
    "        |Y|Relevent event|Probability|\n",
    "        |--|--|--|\n",
    "        |1|{(1,1), (1,2), (1,3), (1,4), (1,5), (1,6), (2,1), (3,1), (4,1), (5,1), (6,1)}|$\\frac{11}{36}$|\n",
    "        |2|{(2,2), (2,3), (2,4), (2,5), (2,6), (3,2), (4,2), (5,2), (6,2)}|$\\frac{9}{36}$|\n",
    "        |3|{(3,3), (3,4), (3,5), (3,6), (4,3), (5,3), (6,3)}|$\\frac{7}{36}$|\n",
    "        |4|{(4,4), (4,5), (4,6), (5,4), (6,4)}|$\\frac{5}{36}$|\n",
    "        |5|{(5,5), (5,6), (6,5)}|$\\frac{3}{36}$|\n",
    "        |6|{(6,6)}|$\\frac{1}{36}$|\n",
    "\n",
    "2. Tossing a coin three times\n",
    "    - Experiment: Toss a coin three times\n",
    "    - The sample space for this experiment is  \n",
    "    S={HHH, HHT, HTH, HTT, THH, THT, TTH, TTT}\n",
    "    - Consider the probabilities associated with the two questions:\n",
    "        1. Of the three tosses, how many tosses will be heads?\n",
    "        2. Of the three tosses, which toss results in a heads first?,  \n",
    "        i.e. first, second or third toss is a head?\n",
    "    - Notice the experiment and sample space used to answer both the questions are the same.\n",
    "    - Let X denote the number of heads that appear. Let Y denote the toss in which a head appears first.\n",
    "    \n",
    "    |Outcome|X|Y|\n",
    "    |--|--|--|\n",
    "    |HHH|3|1|\n",
    "    |HHT|2|1|\n",
    "    |HTH|2|1|\n",
    "    |HTT|1|1|\n",
    "    |THH|2|2|\n",
    "    |THT|1|2|\n",
    "    |TTH|1|3|\n",
    "    |TTT|0|NIL|\n",
    "\n",
    "    - Number of tosses that will be heads\n",
    "        - Let X denote the number of heads that appear.\n",
    "        - X takes values 0,1,2,3\n",
    "\n",
    "        |Value of X| Relevant event|\n",
    "        |0|{(TTT)}|\n",
    "        |1|{(HTT), (THT), (TTH)}|\n",
    "        |2|{(HHT), (HTH), (THH)}|\n",
    "        |3|{(HHH)}|\n",
    "\n",
    "        - We say X is a random variable taking on one of the values 0, 1, 2 and 3 with respective probabilities\n",
    "            - P{X = 0} = P{(TTT)} = $\\frac 18$\n",
    "            - P{X = 1} = P{(HTT), (THT), (TTH)} = $\\frac 38$\n",
    "            - P{X = 2} = P{(HHT), (HTH), (THH)} = $\\frac 38$\n",
    "            - P{X = 3} = P{(HHH)} = $\\frac 18$\n",
    "    - Which toss results in a heads first\n",
    "        - Let Y denote the toss in which a head appears first.\n",
    "        - Y takes the values 1,2,3 and NIL\n",
    "\n",
    "        |Value of Y|Relevant event|\n",
    "        |--|--|\n",
    "        |1|{(HHH), (HHT), (HTH), (HTT)}|\n",
    "        |2|{(THH), (THT)}|\n",
    "        |3|{(TTH)}|\n",
    "        |NIL|{(TTT)}|\n",
    "\n",
    "        - We say Y is a random variable taking on one of the values 1, 2, 3 and NIL with respective probabilities\n",
    "            - P{Y = 1} = P{(HHH), (HHT), (HTH), (HTT)} = $\\frac 48$\n",
    "            - P{Y = 2} = P{(THH), (THT)} = $\\frac 28$\n",
    "            - P{Y = 3} = P{(TTH)} = $\\frac 18$\n",
    "            - P{Y = NIL} = P{(TTT)} = $\\frac 18$"
   ]
  },
  {
   "cell_type": "markdown",
   "metadata": {},
   "source": [
    "### Application - life insurance"
   ]
  },
  {
   "cell_type": "markdown",
   "metadata": {},
   "source": [
    "- A life insurence agent has 2 elderly clients, each of whom has a life insurance policy that pays ₹1 lakh upon death.\n",
    "- Let $A$ be the event that the younger one dies in the following year, and let $B$ be the event that the older one dies in the following year.\n",
    "\n",
    "|Eng Statment||Logically|Mathematically|Insurence refunded|\n",
    "|--|--|--|--|--|\n",
    "|Both die|$\\iff$|Both $A + B$ happens|$A \\cap B$|2 lakhs|\n",
    "|Only Younger dies|$\\iff$|$A$ happens $B$ does not happen|$A\\cap B$|1 lakh|\n",
    "|Only Older dies|$\\iff$|$A$ does not $B$ happens|$A^c\\cap B$|1 lakh|\n",
    "|Both survive|$\\iff$|Both $A\\& B$ donot happen|$A^c\\cap B^c$|0 lakhs|\n",
    "\n",
    "- Assume that $A$ and $B$ are independent, with respective probabilitites $P(A) = .05$ and $P(B) = .10$.\n",
    "- Let $X$ denotes the total amount of money (in units of ₹lakhs) that will be paid out this year to any of these clients' beneficiaries.\n",
    "- $X$ is a random variable that takes on one of the possible values 0, 1, 2 with repective probabilities\n",
    "- Let $X$ denote the total amount of money in ₹lakhs disbursed.\n",
    "- $X$ takes the values 0, 1, 2.\n",
    "\n",
    "|Value of $X$| Relevant event|\n",
    "|--|--|\n",
    "|0|$A^c\\cap B^c$|\n",
    "|1|$(A\\cap B^c)\\cup(A^c\\cap B)$|\n",
    "|2|$A\\cap B$|\n",
    "\n",
    "- We say $X$ is a random variable taking on one of the values 0, 1 and 2 with repective probabilities \n",
    "    - $P\\{X = 0\\} = P(A^c\\cap B^c) = P(A^c)\\times P(B^c) = 0.95\\times 0.9 = 0.855$\n",
    "    - Note for disjoint sets $P(A\\cup B) = P(A) + P(B)$  \n",
    "    and for independet sets $P(A\\cap B)=P(A)\\times P(B)$  \n",
    "    $\\therefore P(X = 1) = P((A\\cap B^c)\\cup(A^c\\cap B))  \\\\\n",
    "    \\text{~~~~~~~~~~~~~~~~~~~} = P(A\\cap B^)+P(A^c\\cap B) \\\\\n",
    "\\text{~~~~~~~~~~~~~~~~~~~~~~~~~~~~~~~~~} = P(A)\\times P(B^c) + P(A^c)\\times P(B)$  \n",
    "    - $P\\{X = 1\\} = 0.05\\times 0.9 + 0.95\\times 0.1 = 0.140$\n",
    "    - $P\\{X = 2\\} = P(A\\cap B) = P(A)\\times P(B) = 0.05\\times 0.1 = 0.005$\n"
   ]
  },
  {
   "cell_type": "markdown",
   "metadata": {},
   "source": [
    "## Discrete and Continuous random variable"
   ]
  },
  {
   "cell_type": "markdown",
   "metadata": {},
   "source": [
    "### Learning objectives\n"
   ]
  },
  {
   "cell_type": "markdown",
   "metadata": {},
   "source": [
    "1. Define what is a random variable.\n",
    "2. Types of random variables: discrete and continuous\n",
    "3. Probability mass function, graph and examples.\n",
    "4. Cumulative distribution function, graphs and examples.\n",
    "5. Expectation and variance of a random variable."
   ]
  },
  {
   "cell_type": "markdown",
   "metadata": {},
   "source": [
    "### Definition (Discrete random variable)"
   ]
  },
  {
   "cell_type": "markdown",
   "metadata": {},
   "source": [
    "- A random variable that can take on at most a countable number of possible values is said to be a discrete random variable.\n",
    "    - Thus, any random varible that can take on only a finite number or countably infinite number of different values is discrete.\n",
    "    - There also exist random variables whose set of possible values is uncountable"
   ]
  },
  {
   "cell_type": "markdown",
   "metadata": {},
   "source": [
    "### Definition (Continuous random variable)"
   ]
  },
  {
   "cell_type": "markdown",
   "metadata": {},
   "source": [
    "When outcomes for random event are numerical, but cannot be counted and are infinitely divisible, we have `continuous random variables`."
   ]
  },
  {
   "cell_type": "markdown",
   "metadata": {},
   "source": [
    "### Alternate definitions"
   ]
  },
  {
   "cell_type": "markdown",
   "metadata": {},
   "source": [
    "- A `discrete random variable` is one that has possible values that are discrete points along the real number line.\n",
    "    - Discrete random varibles typically involve counting.\n",
    "- A `continuous random varible` is one that has possible values that form an interval along the real number line\n",
    "    - continuous random variables typically involve measuring. "
   ]
  },
  {
   "cell_type": "markdown",
   "metadata": {},
   "source": [
    "### Example: Apartment complex"
   ]
  },
  {
   "cell_type": "markdown",
   "metadata": {},
   "source": [
    "__Apartment complex data:__\n",
    "- There are four floors in the apartment complex.\n",
    "- Each floor has three apartments: a one bedroom, a two bedroom and a three bedroom apartment.\n",
    "- The data on the apartments is summarized in the table"
   ]
  },
  {
   "cell_type": "markdown",
   "metadata": {},
   "source": [
    "|Apartment number|Floor number|No. of bedrooms| Size of apartment (sq.ft)|Distance of apartment from lift (meters)|\n",
    "|--|--|--|--|--|\n",
    "|1|1|1|900.23|503.5|\n",
    "|2|1|2|1175.34|325.6|\n",
    "|3|1|3|1785385|450.8|\n",
    "|4|2|1|900.48|500.1|\n",
    "|5|2|2|1175.23|324.5|\n",
    "|6|2|3|1785.35|456.7|\n",
    "|7|3|1|900.53|502.5|\n",
    "|8|3|2|1176.34|325.6|\n",
    "|9|3|3|1787.85|450.8|\n",
    "|10|4|1|900.78|500.1|\n",
    "|11|4|2|1176.03|325.4|\n",
    "|12|4|3|1784.85|455.7|"
   ]
  },
  {
   "cell_type": "markdown",
   "metadata": {},
   "source": [
    "- Random experiment: Randomly selecting an apartment in an apartment complex of 12 apartments.\n",
    "- $S = \\{1, 2, 3, 4, 5, 6, 7, 8, 9, 10, 11, 12\\}$\n",
    "\n",
    "__Questions__  \n",
    "1. Let the random variable be number of bedrooms, what are the possible values that might be observed?  \n",
    "Answer: 1, 2, 3\n",
    "2. Let the random variable be floor number of the apartment.  \n",
    "What are possible values that might be observed?  \n",
    "Answer: 1, 2, 3, 4\n",
    "3. Let the random variable be size of the apartment. What are the possible values that might be observed?  \n",
    "Answer: [900, 1800] sq. ft\n",
    "4. Let the random variable be distance of the apartment from the lift. What are the possible values that might be observed?  \n",
    "Answer: [324, 505] meters"
   ]
  },
  {
   "cell_type": "markdown",
   "metadata": {},
   "source": [
    "### More examples"
   ]
  },
  {
   "cell_type": "markdown",
   "metadata": {},
   "source": [
    "- Discrete:\n",
    "    - Number of people in a household\n",
    "    - Number of languages a person can speak\n",
    "    - Number of times a person takes a particular test before qualifying.\n",
    "    - Number of accidents in an intersection.\n",
    "    - Number of spelling mistakes in a report\n",
    "- Continuous:\n",
    "    - Temperature of a person.\n",
    "    - Height of a person.\n",
    "    - Speed of a vehicle.\n",
    "    - Time taken by a person to write an exam."
   ]
  },
  {
   "cell_type": "markdown",
   "metadata": {},
   "source": [
    "## Discrete random variables - Probability mass function properties (pmf)"
   ]
  },
  {
   "cell_type": "markdown",
   "metadata": {},
   "source": [
    "- A random variable that can take on at most a countable number of possible values is said to be a discrete random variable.\n",
    "- Let $X$ be a discrete random varible, and suppose that it has $n$ possible values, which we will label $x_1, x_2, \\dots, x_n$. \n",
    "- For a discrete random variable $X$, we define the probability mass function $p(x)$ of $X$ by  \n",
    "$p(x_i) = P(X = x_i)$\n",
    "- Represent it in tabular form  \n",
    "    |$X$|$x_1$|$x_2$|$x_3$|$\\dots$|$\\dots$|$x_n$|\n",
    "    |--|--|--|--|--|--|--|\n",
    "    |$P(X = x_i)$|$p(x_1)$|p(x_2)$|$p(x_3)$|$\\dots$|$\\dots$|$p(x_n)$|\n",
    "- The probability mass function $p(x)$ is positive for at most a countable number of values of $x$. That is, if $X$ must assume one of the values $x_1, x_2, \\dots$ then\n",
    "    1. $p(x_i)\\geq 0, i=1, 2, \\dots$\n",
    "    2. $p(x) = 0$ for all other values of $x$\n",
    "- Represent it in tabular form\n",
    "    |X|x1|x2|x3|...|\n",
    "    |--|--|--|--|--|\n",
    "    |P(X=xi)|p(x1)|p(x2)|p(x3)|...|\n",
    "- Since $X$ must take one of the values $x_i$, we have  \n",
    "$\\displaystyle \\sum_{i=1}^{\\infin}p(x_i)=1$"
   ]
  },
  {
   "cell_type": "markdown",
   "metadata": {},
   "source": [
    "### Example"
   ]
  },
  {
   "cell_type": "markdown",
   "metadata": {},
   "source": [
    "__Example 1__  \n",
    "- Suppose $X$ is a random variable that takes three values 0, 1 and 2 with probabilities\n",
    "    - $p(0) = P(X=0) = \\frac 14$\n",
    "    - $p(1) = P(X=1) = \\frac 12$\n",
    "    - $p(2) = P(X=2) = \\frac 14$\n",
    "- Tabular form  \n",
    "    |X|0|1|2|\n",
    "    |--|--|--|--|\n",
    "    |$P(X=x_i)$|$\\frac 14$|$\\frac 12$|$\\frac 14$|\n",
    "- Verify that $\\displaystyle\\sum_{i=1}^3 p(x_i)=\\frac 14+\\frac 12+\\frac 14=1$  \n",
    "\n"
   ]
  },
  {
   "cell_type": "markdown",
   "metadata": {},
   "source": [
    "__Example 2__  \n",
    "- Let $X$ be a random variable that takes values 1, 2, 3, 4, 5. Which of the following are probability mass functions?  \n",
    "    1. probabilities\n",
    "        |$X$|1|2|3|4|5||\n",
    "        |--|--|--|--|--|--|--|\n",
    "        |$P(X=x_i)$|0.4|0.1|0.2|0.1|0.3|sum=1.1|\n",
    "\n",
    "        $\\because \\sum\\limits_i P(X_i) \\neq 1$  __Not a p.m.f__\n",
    "    2. probabilities\n",
    "        |$X$|1|2|3|4|5||\n",
    "        |--|--|--|--|--|--|--|\n",
    "        |$P(X=x_i)$|0.2|0.3|0.4|-0.1|0.2|sum=1|\n",
    "\n",
    "        $\\because P(X_i) \\ngeq 0$  __Not a p.m.f__\n",
    "    3. probabilities\n",
    "        |$X$|1|2|3|4|5||\n",
    "        |--|--|--|--|--|--|--|\n",
    "        |$P(X=x_i)$|0.3|0.1|0.2|0.4|0.0|sum=1|\n",
    "\n",
    "        $\\because P(X_i) \\geq 0 \\& \\sum\\limits_i P(x_i) = 1$  __Its a p.m.f__\n",
    "\n"
   ]
  },
  {
   "cell_type": "markdown",
   "metadata": {},
   "source": [
    "__Example 3__  \n",
    "- Suppose $X$ is a random variable that takes values, 0, 1, 2 ... with probabilities\n",
    "    - $p(i) = c\\frac {\\lambda^i}{i!}$, from some positive $\\lambda$\n",
    "- What is the value of $c$?\n",
    "    - $\\displaystyle\\sum_{i=0}^{\\infin}p(x_i)=1$\n",
    "    - $\\displaystyle\\sum_{i=0}^{\\infin}c\\frac {\\lambda^i}{i!} = 1$\n",
    "    - $\\displaystyle c\\sum_{i=0}^{\\infin}\\frac {\\lambda^i}{i!} = 1$\n",
    "    - Recall, $e^x = \\displaystyle\\sum_{i=0}^{\\infin}\\frac {x^i}{i!}$, hence $\\displaystyle c\\sum_{i=0}^{\\infin}\\frac {\\lambda^i}{i!} = ce^{\\lambda}$\n",
    "    - Hence, $\\displaystyle c\\sum_{i=0}^{\\infin}\\frac {\\lambda^i}{i!} = ce^{\\lambda} = 1$ which gives $c=e^{-\\lambda}$  \n",
    "    $p(i)=\\displaystyle\\frac{e^{-\\lambda}\\lambda^i}{i!}$  \n",
    "\n"
   ]
  },
  {
   "cell_type": "markdown",
   "metadata": {},
   "source": [
    "__Example 4__ Rolling a dice twice   \n",
    "- $s = \\begin{Bmatrix} (1,1), (1,2), (1,3), (1,4), (1,5), (1,6), (2,1), (2,2), (2,3), (2,4), (2,5), (2,6),\\\\\n",
    "    (3,1),(3,2),(3,3),(3,4),(3,5),(3,6),(4,1),(4,2),(4,3),(4,4),(4,5),(4,6),\\\\\n",
    "    (5,1),(5,2),(5,3),(5,4),(5,5),(5,6),(6,1),(6,2),(6,3),(6,4),(6,5),(6,6)\\end{Bmatrix}$\n",
    "- $X$ is a random variable which is defined as sum of outcomes\n",
    "    - Probability mass function\n",
    "        |$X$|2|3|4|5|6|7|8|9|10|11|12|\n",
    "        |--|--|--|--|--|--|--|--|--|--|--|--|\n",
    "        |$P(X=x_i)$|$\\frac 1{36}$|$\\frac 2{36}$|$\\frac 3{36}$|$\\frac 4{36}$|$\\frac 5{36}$|$\\frac 6{36}$|$\\frac 5{36}$|$\\frac 4{36}$|$\\frac 3{36}$|$\\frac 2{36}$|$\\frac 1{36}$|\n",
    "    - Verify: $\\displaystyle\\sum_{i=1}{11}p(x_i)=\\frac {36}{36} = 1$\n",
    "- $Y$ is the random variable which takes the lesser of the values of the outcomes  \n",
    "    - Probability mass function\n",
    "        |$Y$|1|2|3|4|5|6|\n",
    "        |--|--|--|--|--|--|--|\n",
    "        |$P(Y=y_i)|$\\frac {11}{36}$|$\\frac {9}{36}$|$\\frac {7}{36}$|$\\frac {5}{36}$|$\\frac {3}{36}$|$\\frac {1}{36}$|\n",
    "    - Verify: $\\displaystyle\\sum_{i=1}^6 p(y_i) = \\frac {36}{36}=1$"
   ]
  },
  {
   "cell_type": "markdown",
   "metadata": {},
   "source": [
    "__Example 5__ Tossing a coin three times  \n",
    "- $S = \\{HHH, HHT, HTH, HTT, THH, THT, TTH, TTT\\}$\n",
    "- $X$ is the random variable which counts the number of heads in the tosses\n",
    "    - Probability mass function  \n",
    "        |$X$|0|1|2|3|\n",
    "        |--|--|--|--|--|\n",
    "        |$P(X=x_i)$|$\\frac 18$|$\\frac 38$|$\\frac 38$|$\\frac 18$|\n",
    "    - Verify: $\\displaystyle\\sum_{i=1}^4p(x_i)=\\frac 88 = 1$\n",
    "- $Y$ is the random variable which counts the toss in which heads appears first  \n",
    "    - Probability mass function  \n",
    "        |$Y$|1|2|3|NIL|\n",
    "        |--|--|--|--|--|\n",
    "        |$P(Y=y_i)$|$\\frac 48$|$\\frac 28$|$\\frac 18$|$\\frac 18$|"
   ]
  },
  {
   "cell_type": "markdown",
   "metadata": {},
   "source": [
    "## Discrete random variables - Graph of probability mass function"
   ]
  },
  {
   "cell_type": "markdown",
   "metadata": {},
   "source": [
    "- It is helpful to illustrate the probability mass function in a graphical format by plotting $P(X=x_i)$ on the y-axis against $x_i$ on the x-axis.\n",
    "- Let's look at a few examples"
   ]
  },
  {
   "cell_type": "markdown",
   "metadata": {},
   "source": [
    "### Example"
   ]
  },
  {
   "cell_type": "markdown",
   "metadata": {},
   "source": [
    "__Example 1:__  \n",
    "\n",
    "|$X$|0|1|2|\n",
    "|--|--|--|--|\n",
    "|$P(X=x_i)|0.25|0.5|0.25|"
   ]
  },
  {
   "cell_type": "code",
   "execution_count": 3,
   "metadata": {},
   "outputs": [
    {
     "data": {
      "text/plain": [
       "<AxesSubplot:xlabel='X'>"
      ]
     },
     "execution_count": 3,
     "metadata": {},
     "output_type": "execute_result"
    },
    {
     "data": {
      "image/png": "[encoded data removed]",
      "text/plain": [
       "<Figure size 432x288 with 1 Axes>"
      ]
     },
     "metadata": {
      "needs_background": "light"
     },
     "output_type": "display_data"
    }
   ],
   "source": [
    "# p.m.f\n",
    "import pandas as pd\n",
    "df = pd.DataFrame({'X':[0,1,2],'Probability':[0.25,0.5,0.25]})\n",
    "df.plot.bar(x='X',y='Probability',rot=0)"
   ]
  },
  {
   "cell_type": "markdown",
   "metadata": {},
   "source": [
    "__Example 2__  \n",
    "\n",
    "|$X$|0|1|2|\n",
    "|--|--|--|--|\n",
    "|$P(X=x_i)$|0.5|0.25|0.25|"
   ]
  },
  {
   "cell_type": "code",
   "execution_count": 4,
   "metadata": {},
   "outputs": [
    {
     "data": {
      "text/plain": [
       "<AxesSubplot:xlabel='X'>"
      ]
     },
     "execution_count": 4,
     "metadata": {},
     "output_type": "execute_result"
    },
    {
     "data": {
      "image/png": "[encoded data removed]",
      "text/plain": [
       "<Figure size 432x288 with 1 Axes>"
      ]
     },
     "metadata": {
      "needs_background": "light"
     },
     "output_type": "display_data"
    }
   ],
   "source": [
    "# p.m.f\n",
    "import pandas as pd\n",
    "df = pd.DataFrame({'X':[0,1,2],'Probability':[0.5,0.25,0.25]})\n",
    "df.plot.bar(x='X',y='Probability',rot=0)"
   ]
  },
  {
   "cell_type": "markdown",
   "metadata": {},
   "source": [
    "__Example 3:__ positive skewed distribution  \n",
    "\n",
    "|$X$|1|2|3|4|\n",
    "|--|--|--|--|--|\n",
    "|$P(X=x_i)$|0.4|0.3|0.2|0.1|"
   ]
  },
  {
   "cell_type": "code",
   "execution_count": 5,
   "metadata": {},
   "outputs": [
    {
     "data": {
      "text/plain": [
       "<AxesSubplot:xlabel='X'>"
      ]
     },
     "execution_count": 5,
     "metadata": {},
     "output_type": "execute_result"
    },
    {
     "data": {
      "image/png": "[encoded data removed]",
      "text/plain": [
       "<Figure size 432x288 with 1 Axes>"
      ]
     },
     "metadata": {
      "needs_background": "light"
     },
     "output_type": "display_data"
    }
   ],
   "source": [
    "# p.m.f\n",
    "import pandas as pd\n",
    "df = pd.DataFrame({'X':[1,2,3,4],'Probability':[0.4,0.3,0.2,0.1]})\n",
    "df.plot.bar(x='X',y='Probability',rot=0)"
   ]
  },
  {
   "cell_type": "markdown",
   "metadata": {},
   "source": [
    "__Example 4:__ negative skewed distribution  \n",
    "\n",
    "|$X$|1|2|3|4|\n",
    "|--|--|--|--|--|\n",
    "|$P(X=x_i)$|0.1|0.2|0.3|0.4|"
   ]
  },
  {
   "cell_type": "code",
   "execution_count": 6,
   "metadata": {},
   "outputs": [
    {
     "data": {
      "text/plain": [
       "<AxesSubplot:xlabel='X'>"
      ]
     },
     "execution_count": 6,
     "metadata": {},
     "output_type": "execute_result"
    },
    {
     "data": {
      "image/png": "[encoded data removed]",
      "text/plain": [
       "<Figure size 432x288 with 1 Axes>"
      ]
     },
     "metadata": {
      "needs_background": "light"
     },
     "output_type": "display_data"
    }
   ],
   "source": [
    "# p.m.f\n",
    "import pandas as pd\n",
    "df = pd.DataFrame({'X':[1,2,3,4],'Probability':[0.1,0.2,0.3,0.4]})\n",
    "df.plot.bar(x='X',y='Probability',rot=0)"
   ]
  },
  {
   "cell_type": "markdown",
   "metadata": {},
   "source": [
    "__Example 5:__ Rolling a dice once: $X$ outcome\n",
    "|$X$|1|2|3|4|5|6|\n",
    "|--|--|--|--|--|--|--|\n",
    "|$P(X=x_i)$|$\\frac 16$|$\\frac 16$|$\\frac 16$|$\\frac 16$|$\\frac 16$|$\\frac 16$|"
   ]
  },
  {
   "cell_type": "code",
   "execution_count": 7,
   "metadata": {},
   "outputs": [
    {
     "data": {
      "text/plain": [
       "<AxesSubplot:xlabel='X'>"
      ]
     },
     "execution_count": 7,
     "metadata": {},
     "output_type": "execute_result"
    },
    {
     "data": {
      "image/png": "[encoded data removed]",
      "text/plain": [
       "<Figure size 432x288 with 1 Axes>"
      ]
     },
     "metadata": {
      "needs_background": "light"
     },
     "output_type": "display_data"
    }
   ],
   "source": [
    "# p.m.f\n",
    "import pandas as pd\n",
    "df = pd.DataFrame({'X':[1,2,3,4,5,6],'Probability':[1/6,1/6,1/6,1/6,1/6,1/6]})\n",
    "df.plot.bar(x='X',y='Probability',rot=0)"
   ]
  },
  {
   "cell_type": "markdown",
   "metadata": {},
   "source": [
    "__Example 6:__ Rolling a dice twice: $X$-sum of outcomes\n",
    "|$X$|2|3|4|5|6|7|8|9|10|11|12|\n",
    "|--|--|--|--|--|--|--|--|--|--|--|--|\n",
    "|$P(X=x_i)$|$\\frac 1{36}$|$\\frac 2{36}$|$\\frac 3{36}$|$\\frac 4{36}$|$\\frac 5{36}$|$\\frac 6{36}$|$\\frac 5{36}$|$\\frac 4{36}$|$\\frac 3{36}$|$\\frac 2{36}$|$\\frac 1{36}$|"
   ]
  },
  {
   "cell_type": "code",
   "execution_count": 9,
   "metadata": {},
   "outputs": [
    {
     "data": {
      "text/plain": [
       "<AxesSubplot:xlabel='X'>"
      ]
     },
     "execution_count": 9,
     "metadata": {},
     "output_type": "execute_result"
    },
    {
     "data": {
      "image/png": "[encoded data removed]",
      "text/plain": [
       "<Figure size 432x288 with 1 Axes>"
      ]
     },
     "metadata": {
      "needs_background": "light"
     },
     "output_type": "display_data"
    }
   ],
   "source": [
    "# p.m.f\n",
    "import pandas as pd\n",
    "df = pd.DataFrame({'X':[2,3,4,5,6,7,8,9,10,11,12],'Probability':[1/36,2/36,3/36,4/36,5/36,6/36,5/36,4/36,3/36,2/36,1/36]})\n",
    "df.plot.bar(x='X',y='Probability',rot=0)"
   ]
  },
  {
   "cell_type": "markdown",
   "metadata": {},
   "source": [
    "__Example 7:__  Rolling a dice twice: $X$-smaller of outcomes\n",
    "|$X$|1|2|3|4|5|6|\n",
    "|--|--|--|--|--|--|--|\n",
    "|$P(X=x_i)$|$\\frac {11}{36}$|$\\frac 9{36}$|$\\frac 7{36}$|$\\frac 5{36}$|$\\frac 3{36}$|$\\frac 1{36}$|"
   ]
  },
  {
   "cell_type": "code",
   "execution_count": 10,
   "metadata": {},
   "outputs": [
    {
     "data": {
      "text/plain": [
       "<AxesSubplot:xlabel='X'>"
      ]
     },
     "execution_count": 10,
     "metadata": {},
     "output_type": "execute_result"
    },
    {
     "data": {
      "image/png": "[encoded data removed]",
      "text/plain": [
       "<Figure size 432x288 with 1 Axes>"
      ]
     },
     "metadata": {
      "needs_background": "light"
     },
     "output_type": "display_data"
    }
   ],
   "source": [
    "# p.m.f\n",
    "import pandas as pd\n",
    "df = pd.DataFrame({'X':[1,2,3,4,5,6],'Probability':[11/36,9/36,7/36,5/36,3/36,1/36]})\n",
    "df.plot.bar(x='X',y='Probability',rot=0)"
   ]
  },
  {
   "cell_type": "markdown",
   "metadata": {},
   "source": [
    "__Example 8:__ Toss a coin once: $X$ outcome\n",
    "|$X$|0|1|\n",
    "|--|--|--|\n",
    "|$P(X=x_i)$|0.5|0.5|"
   ]
  },
  {
   "cell_type": "code",
   "execution_count": 11,
   "metadata": {},
   "outputs": [
    {
     "data": {
      "text/plain": [
       "<AxesSubplot:xlabel='X'>"
      ]
     },
     "execution_count": 11,
     "metadata": {},
     "output_type": "execute_result"
    },
    {
     "data": {
      "image/png": "[encoded data removed]",
      "text/plain": [
       "<Figure size 432x288 with 1 Axes>"
      ]
     },
     "metadata": {
      "needs_background": "light"
     },
     "output_type": "display_data"
    }
   ],
   "source": [
    "# p.m.f\n",
    "import pandas as pd\n",
    "df = pd.DataFrame({'X':[0,1],'Probability':[0.5,0.5]})\n",
    "df.plot.bar(x='X',y='Probability',rot=0)"
   ]
  },
  {
   "cell_type": "markdown",
   "metadata": {},
   "source": [
    "__Example 9:__ Tossing a coin thrice: $X$-number of heads\n",
    "|X|0|1|2|3|\n",
    "|--|--|--|--|--|\n",
    "|$P(X=x_i$)|$\\frac 18$|$\\frac 38$|$\\frac 38$|$\\frac 18$|"
   ]
  },
  {
   "cell_type": "code",
   "execution_count": 12,
   "metadata": {},
   "outputs": [
    {
     "data": {
      "text/plain": [
       "<AxesSubplot:xlabel='X'>"
      ]
     },
     "execution_count": 12,
     "metadata": {},
     "output_type": "execute_result"
    },
    {
     "data": {
      "image/png": "[encoded data removed]",
      "text/plain": [
       "<Figure size 432x288 with 1 Axes>"
      ]
     },
     "metadata": {
      "needs_background": "light"
     },
     "output_type": "display_data"
    }
   ],
   "source": [
    "# p.m.f\n",
    "import pandas as pd\n",
    "df = pd.DataFrame({'X':[0,1,2,3],'Probability':[1/8, 3/8, 3/8, 1/8]})\n",
    "df.plot.bar(x='X',y='Probability',rot=0)"
   ]
  },
  {
   "cell_type": "markdown",
   "metadata": {},
   "source": [
    "__Example 9:__ Tossing a coin thrice: $X$-toss head appearing first\n",
    "|X|1|2|3|NIL|\n",
    "|--|--|--|--|--|\n",
    "|$P(X=x_i)$|$\\frac 48$|$\\frac 28$|$\\frac 18$|$\\frac 18$|"
   ]
  },
  {
   "cell_type": "code",
   "execution_count": 13,
   "metadata": {},
   "outputs": [
    {
     "data": {
      "text/plain": [
       "<AxesSubplot:xlabel='X'>"
      ]
     },
     "execution_count": 13,
     "metadata": {},
     "output_type": "execute_result"
    },
    {
     "data": {
      "image/png": "[encoded data removed]",
      "text/plain": [
       "<Figure size 432x288 with 1 Axes>"
      ]
     },
     "metadata": {
      "needs_background": "light"
     },
     "output_type": "display_data"
    }
   ],
   "source": [
    "# p.m.f\n",
    "import pandas as pd\n",
    "df = pd.DataFrame({'X':[1,2,3,'NIL'],'Probability':[4/8, 2/8, 1/8, 1/8]})\n",
    "df.plot.bar(x='X',y='Probability',rot=0)"
   ]
  },
  {
   "cell_type": "markdown",
   "metadata": {},
   "source": [
    "## Cumulative distribution function (cdf)"
   ]
  },
  {
   "cell_type": "markdown",
   "metadata": {},
   "source": [
    "- The cumulative distribution function (cdf), $F$, can be expressed as  \n",
    "$F(a)=P(X\\leq a)$\n",
    "- If $X$ is a discrete random variable whose possible values are $x_1, x_2, x_3, ...$ where $x_1<x_2<x_3...$ then the distribution function $F$ of $X$ is a step function."
   ]
  },
  {
   "cell_type": "markdown",
   "metadata": {},
   "source": [
    "### Step function\n"
   ]
  },
  {
   "cell_type": "markdown",
   "metadata": {},
   "source": [
    "- Let $X$ be a discrete random variable with the following probability mass function.  \n",
    "    |X|1|2|3|4|\n",
    "    |--|--|--|--|--|\n",
    "    |$P(X=x_i)$|$\\frac 14$|$\\frac 12$|$\\frac 18$|$\\frac 18$|\n",
    "- The cumulative distribution function of $X$ is given by  \n",
    "    $F(a) = \\begin{cases} 0 & a<1 \\\\\n",
    "    \\frac 14 & 1\\leq a <2 \\\\\n",
    "    \\frac 34 & 2\\leq a<3 \\\\\n",
    "    \\frac 78 & 3\\leq a<4\\\\\n",
    "    1 & 4\\leq a\\end{cases}$\n",
    "\n",
    "Note that the size of the step at any of the values 1, 2, 3 and 4 is equal to the probability that $X$ assumes that particular value."
   ]
  },
  {
   "cell_type": "code",
   "execution_count": 24,
   "metadata": {},
   "outputs": [
    {
     "data": {
      "image/png": "[encoded data removed]",
      "text/plain": [
       "<Figure size 432x288 with 1 Axes>"
      ]
     },
     "metadata": {
      "needs_background": "light"
     },
     "output_type": "display_data"
    }
   ],
   "source": [
    "import pandas as pd\n",
    "import matplotlib.pyplot as plt\n",
    "df = pd.DataFrame({'X':[0,1,2,3,4],'Cum Prob':[0,1/4,3/4,7/8,1]})\n",
    "# df.plot.line(x='X',y='Cum Prob')\n",
    "plt.step(x='X',y='Cum Prob',data=df,where='post')\n",
    "plt.xticks(df.X)\n",
    "plt.xlabel('a',size=20)\n",
    "plt.ylabel('F(a)',size=20)\n",
    "plt.title('Cumulative distribution',size=20)\n",
    "plt.show()"
   ]
  },
  {
   "cell_type": "markdown",
   "metadata": {},
   "source": [
    "## Infinite Series"
   ]
  },
  {
   "cell_type": "markdown",
   "metadata": {},
   "source": [
    "### Geometric series"
   ]
  },
  {
   "cell_type": "markdown",
   "metadata": {},
   "source": [
    "$a, ar, ar^2, ar^3, ..., ar^n$  \n",
    "where $a$ is constant  \n",
    "- If $r>1$ and $a>0$ then the series will diverge to $+\\infin$ as $n\\rightarrow \\infin$\n",
    "- If $r>1$ and $a<0$ then the series will diverge to $-\\infin$ as $n\\rightarrow \\infin$\n",
    "- If $|r|<1$ and $a<1$ then the sum of series converges to $\\displaystyle\\frac a{1-r}$ as $n\\rightarrow \\infin$  \n",
    "i.e.,<br>  \n",
    "$\\displaystyle\\frac a{1-r}=a+ar+ar^2+ar^3+\\dots\\infin$"
   ]
  },
  {
   "cell_type": "markdown",
   "metadata": {},
   "source": [
    "### Exponential series"
   ]
  },
  {
   "cell_type": "markdown",
   "metadata": {},
   "source": [
    "$\\displaystyle e^x = 1+\\frac x{1!}+\\frac{x^2}{2!}+\\frac{x^3}{3!}+\\dots +\\frac{x^n}{n!}+\\dots \\infin$"
   ]
  },
  {
   "cell_type": "markdown",
   "metadata": {},
   "source": [
    "$\\displaystyle\\frac 1{1-x}=1+x+x^2+x^3+x^4+x^5+\\dots\\infin \\text{~~~~~~}$  where $|x|<1$"
   ]
  },
  {
   "cell_type": "markdown",
   "metadata": {},
   "source": [
    "$\\displaystyle\\frac 1{1+x}=1-x+x^2-x^3+x^4-x^5+\\dots\\infin \\text{~~~~~~}$  where $|x|<1$"
   ]
  },
  {
   "cell_type": "markdown",
   "metadata": {},
   "source": [
    "## Application: Credit cards"
   ]
  },
  {
   "cell_type": "markdown",
   "metadata": {},
   "source": [
    "__Introduction__  \n",
    "- We are interested in analyzing the number of credit cards owned by people. Towards this, we collect data on a number of poeple and ask them how many credit cards they own. Their response is recorded.\n",
    "    - Random experiment: Consider the random experiment of selecting an adult at random from the sample.\n",
    "    - Random variable: The number of credit cards owned by the person.\n",
    "        - This is a discrete random variable.\n",
    "    - The following table summarizes the probability distribution of the number of credit cards per person based on the relative frequencies.\n",
    "        |$X$|0|1|2|3|4|\n",
    "        |--|--|--|--|--|--|\n",
    "        |$P(X=x_i)$|0.42|0.36|0.14|0.06|0.02|"
   ]
  },
  {
   "cell_type": "code",
   "execution_count": 1,
   "metadata": {},
   "outputs": [
    {
     "data": {
      "text/plain": [
       "<AxesSubplot:xlabel='X'>"
      ]
     },
     "execution_count": 1,
     "metadata": {},
     "output_type": "execute_result"
    },
    {
     "data": {
      "image/png": "[encoded data removed]",
      "text/plain": [
       "<Figure size 432x288 with 1 Axes>"
      ]
     },
     "metadata": {
      "needs_background": "light"
     },
     "output_type": "display_data"
    }
   ],
   "source": [
    "# p.m.f\n",
    "import pandas as pd\n",
    "df = pd.DataFrame({'X':[0,1,2,3,4],'Probability':[0.42,0.36,0.14,0.06,0.02]})\n",
    "df.plot.bar(x='X',y='Probability',rot=0)"
   ]
  },
  {
   "cell_type": "markdown",
   "metadata": {},
   "source": [
    "### Questions\n",
    "- Describe the distribution\n",
    "    - The distribution is skewed right with a peak at 0.\n",
    "    - Number of credit cards owned by people vary between 0 to 4 credit cards.\n",
    "- Choose an adult at random. Is he/she more likely to have 0 credit cards or 2 or more credit cards?\n",
    "    - The probability that an adult has no credit cards is 0.42, while the probability of having 2 or more credit cards is about 0.22, so the probability of having no credit cards is higher.\n",
    "- You take a random sample of 500 people and ask them how many credit cards they own. Would you be surprised at the following:\n",
    "    - Everyone owns a credit card.  \n",
    "    YES: 42% of adults do not own credit cards. Hence, it is unlikely that every one of the 500 would own credit cards.\n",
    "    - 72 people respond that they own two credit cards.  \n",
    "    NO: 14% own two credit cards. 14% of 500 = 70, so it is likely that 72 people from sample of 500 own two credit cards.\n",
    "- Again choose an adult at random. How many credit cards would you \"Expect\" that person to own?"
   ]
  },
  {
   "cell_type": "markdown",
   "metadata": {},
   "source": [
    "# Week 10"
   ]
  },
  {
   "cell_type": "markdown",
   "metadata": {},
   "source": [
    "## Expectation of a random variable"
   ]
  },
  {
   "cell_type": "markdown",
   "metadata": {},
   "source": [
    "### Introduction"
   ]
  },
  {
   "cell_type": "markdown",
   "metadata": {},
   "source": [
    "Consider the following game of a rolling a dice once.\n",
    "- If the outcome is even you lose an amount equal to the outcome\n",
    "- If the outcome is odd you win an amount equal to the outcome\n",
    "- In other words, the gains/losses are as per table\n",
    "    |Outcome|1|2|3|4|5|6|\n",
    "    |--|--|--|--|--|--|--|\n",
    "    |Winning|+1|-2|+3|-4|+5|-6|\n",
    "\n",
    "    *: A winning of -x indicates a loss of x amount.\n",
    "- Question: Would you play this game?"
   ]
  },
  {
   "cell_type": "markdown",
   "metadata": {},
   "source": [
    "__Simulating the game__  \n",
    "- First, roll the dice 100 times. Observe the outcomes. They are summarised in the table.  \n",
    "\n",
    "    |OUT|COME|OF|100|ROLLS|\n",
    "    |--|--|--|--|--|\n",
    "    |1|5|4|6|4|\n",
    "    |6|4|3|1|5|\n",
    "    |5|2|1|6|2|\n",
    "    |6|5|4|5|5|\n",
    "    |2|4|2|2|5|\n",
    "    |4|1|3|4|5|\n",
    "    |6|1|5|2|5|\n",
    "    |1|6|6|5|2|\n",
    "    |3|6|5|6|3|\n",
    "    |5|3|2|5|4|\n",
    "    |3|3|5|4|4|\n",
    "    |5|1|2|3|4|\n",
    "    |3|2|1|1|6|\n",
    "    |1|3|4|3|4|\n",
    "    |4|4|5|6|1|\n",
    "    |3|3|5|1|1|\n",
    "    |1|6|5|4|3|\n",
    "    |5|1|4|6|5|\n",
    "    |4|4|4|3|6|\n",
    "    |5|5|4|1|3|\n",
    "\n",
    "- Rolling 100 times \n",
    "    |Outcome|Winning|Frequency|Relative frequency|\n",
    "    |--|--|--|--|\n",
    "    |1|+1|16|0.16|\n",
    "    |2|-2|10|0.10|\n",
    "    |3|+3|16|0.16|\n",
    "    |4|-4|21|0.21|\n",
    "    |5|+5|23|0.23|\n",
    "    |6|-6|14|0.14|\n",
    "    |||100|1|\n",
    "    \n",
    "    Average winnings: -0.09\n",
    "- Rolling 1000 times \n",
    "    |Outcome|Winning|Frequency|Relative frequency|\n",
    "    |--|--|--|--|\n",
    "    |1|+1|177|0.177|\n",
    "    |2|-2|177|0.177|\n",
    "    |3|+3|167|0.167|\n",
    "    |4|-4|153|0.153|\n",
    "    |5|+5|163|0.163|\n",
    "    |6|-6|163|0.163|\n",
    "    |||1000|1|\n",
    "    \n",
    "    Average winnings: -0.451\n",
    "\n",
    "__Observations__  \n",
    "- The relative frequency of each of the six possible outcomes is close to the probability of $\\frac 16$ for the respective outcomes.\n",
    "- Hence, it suggests, that if I repeat rolling the dice for a very large number of times, our average gain should be  \n",
    "$1\\frac 16-2\\frac 16+3\\frac 16-4\\frac 16+5\\frac 16-6\\frac 16=-0.5$\n",
    "- This is close to what we got as the average winnig for 1000 rolls of the dice."
   ]
  },
  {
   "cell_type": "markdown",
   "metadata": {},
   "source": [
    "### Definition"
   ]
  },
  {
   "cell_type": "markdown",
   "metadata": {},
   "source": [
    "Let X be a discrete random variable taking $x_1, x_2, ...$ The expected value of X denoted by E(X) and referred to as Expectation of X is given by  \n",
    "$$E(x)=\\displaystyle\\sum_{i=1}^{\\infin}x_iP(X=x_i)$$\n",
    "- The Expectation of a random variable can be cosidered the __long-run-average__ value of the random variable in repeated independent observations.\n",
    "- Lets apply the definition to the examples we have considered before"
   ]
  },
  {
   "cell_type": "markdown",
   "metadata": {},
   "source": [
    "### Rolling a dice once \n"
   ]
  },
  {
   "cell_type": "markdown",
   "metadata": {},
   "source": [
    "- Random experiment: Roll a dice once.\n",
    "- Sample space: S={1, 2, 3, 4, 5, 6}\n",
    "- Random variable X is the outcome of the roll.\n",
    "- The probability distribution is given by  \n",
    "\n",
    "    |$X$|1|2|3|4|5|6|\n",
    "    |--|--|--|--|--|--|--|\n",
    "    |$P(X=x_i)$|$\\frac 16$|$\\frac 16$|$\\frac 16$|$\\frac 16$|$\\frac 16$|$\\frac 16$|\n",
    "- $E(X)=1\\frac 16+2\\frac 16+3\\frac 16+4\\frac 16+5\\frac 16+6\\frac 16=3.5$\n",
    "- Does this mean that if we roll a dice once, should we expect the outcome to be 3.5?\n",
    "- NO!!- the expected value tells us is what we would expect the average of a large number of rolls to be in the `long run`."
   ]
  },
  {
   "cell_type": "markdown",
   "metadata": {},
   "source": [
    "__Summary of the rolling dice simulation__  \n",
    "\n",
    "||100-|-rolls|1000-|-rolls||\n",
    "|--|--|--|--|--|--|\n",
    "|Outcome|Freq|Rel. Freq|Freq|Rel. Freq|Probability|\n",
    "|1|16|0.16|177|0.177|0.166667|\n",
    "|2|10|0.1|177|0.177|0.166667|\n",
    "|3|16|0.16|167|0.167|0.166667|\n",
    "|4|21|0.21|153|0.153|0.166667|\n",
    "|5|23|0.23|163|0.163|0.166667|\n",
    "|6|14|0.14|163|0.163|0.166667|\n",
    "|||__3.67__||__3.737__|__3.5__|\n",
    "\n",
    "- Notice that average of the rolls need not be exactly 3.5\n",
    "- However, we can expect it to be close to 3.5.\n",
    "- The expected value of $X$ is a theoretical average."
   ]
  },
  {
   "cell_type": "markdown",
   "metadata": {},
   "source": [
    "### Rolling a dice twice\n"
   ]
  },
  {
   "cell_type": "markdown",
   "metadata": {},
   "source": [
    "- $X$ is a random variable which is defined as sum of outcomes \n",
    "- Proabability mass function  \n",
    "    |$X$|2|3|4|5|6|7|8|9|10|11|12|\n",
    "    |--|--|--|--|--|--|--|--|--|--|--|--|\n",
    "    |$P(X=x_i)$|$\\frac 1{36}$|$\\frac 2{36}$|$\\frac 3{36}$|$\\frac 4{36}$|$\\frac 5{36}$|$\\frac 6{36}$|$\\frac 5{36}$|$\\frac 4{36}$|$\\frac 3{36}$|$\\frac 2{36}$|$\\frac 1{36}$|\n",
    "\n",
    "- If I rolled two dice a large number of times, what can I expect the average of the sum of the outcomes to be?  \n",
    "$E(X) = 2\\times\\frac 1{36}+3\\times\\frac 2{36}+4\\times\\frac 3{36}+\\dots+11\\times\\frac 2{36}+12\\times\\frac 1{36} = 7$\n",
    "- Interpretation: When two dice are rolled over and over for `long time`, the mean `sum of the two dice` is 7."
   ]
  },
  {
   "cell_type": "code",
   "execution_count": null,
   "metadata": {},
   "outputs": [
    {
     "data": {
      "text/plain": [
       "<AxesSubplot:xlabel='X'>"
      ]
     },
     "metadata": {},
     "output_type": "display_data"
    },
    {
     "data": {
      "image/png": "[encoded data removed]",
      "text/plain": [
       "<Figure size 432x288 with 1 Axes>"
      ]
     },
     "metadata": {},
     "output_type": "display_data"
    }
   ],
   "source": [
    "# p.m.f\n",
    "import pandas as pd\n",
    "df = pd.DataFrame({'X':[2,3,4,5,6,7,8,9,10,11,12],'Probability':[1/36,2/36,3/36,4/36,5/36,6/36,5/36,4/36,3/36,2/36,1/36]})\n",
    "df.plot.bar(x='X',y='Probability',rot=0)"
   ]
  },
  {
   "cell_type": "markdown",
   "metadata": {},
   "source": [
    "### Tossing a coin thrice"
   ]
  },
  {
   "cell_type": "markdown",
   "metadata": {},
   "source": [
    "- $S$ = {HHH, HHT, HTH, HTT, THH, THT, TTH, TTT}\n",
    "- $X$ is the random variable which counts the number of heads in the tosses\n",
    "    - Probability mass function  \n",
    "\n",
    "        |$X$|0|1|2|3|\n",
    "        |--|--|--|--|--|\n",
    "        |$P(X=x_i)$|$\\frac 18$|$\\frac 38$|$\\frac 38$|$\\frac 18$|\n",
    "\n",
    "    - $E(X)=\\displaystyle\\sum_{i=0}^3x_ip(x_i)=\\frac{(0\\times 1)+(1\\times 3)+(2\\times 3)+(3\\times 1)}8=\\frac32$\n",
    "- Interpretation: When a coin is tossed three times over and over for a long time, the mean number of heads in the three tosses is 1.5."
   ]
  },
  {
   "cell_type": "code",
   "execution_count": null,
   "metadata": {},
   "outputs": [
    {
     "data": {
      "text/plain": [
       "<AxesSubplot:xlabel='X'>"
      ]
     },
     "metadata": {},
     "output_type": "display_data"
    },
    {
     "data": {
      "image/png": "[encoded data removed]",
      "text/plain": [
       "<Figure size 432x288 with 1 Axes>"
      ]
     },
     "metadata": {},
     "output_type": "display_data"
    }
   ],
   "source": [
    "# p.m.f\n",
    "import pandas as pd\n",
    "df = pd.DataFrame({'X':[0,1,2,3],'Probability':[1/8, 3/8, 3/8, 1/8]})\n",
    "df.plot.bar(x='X',y='Probability',rot=0)"
   ]
  },
  {
   "cell_type": "markdown",
   "metadata": {},
   "source": [
    "## Bernaulli random variable"
   ]
  },
  {
   "cell_type": "markdown",
   "metadata": {},
   "source": [
    "- A random variable that takes on either the value 1 or 0 is called a Bernoulli random variable.\n",
    "- Let $X$ be a Bernoulli random variable that takes on the value 1 with probability $p$.\n",
    "- The probability distribution of the random variable is  \n",
    "\n",
    "    |$X$|0|1|\n",
    "    |--|--|--|\n",
    "    |$P(X=x_i)$|1-$p$|$p$|\n",
    "\n",
    "- Expected value of a Bernoulli random variable:  \n",
    "    $E(X)=0\\times(1-p)+1\\times p=p$"
   ]
  },
  {
   "cell_type": "markdown",
   "metadata": {},
   "source": [
    "## Discrete uniform random variable"
   ]
  },
  {
   "cell_type": "markdown",
   "metadata": {},
   "source": [
    "- Let $X$ be a random variable that is equally likely to takes any of the values 1, 2, ..., $n$\n",
    "- Proabability mass function  \n",
    "\n",
    "    |$X$|1|2|...|$n$|\n",
    "    |--|--|--|--|--|\n",
    "    |$P(X=x_i)$|$\\frac 1n$|$\\frac 1n$|...|$\\frac 1n$|\n",
    "- $E(X)=\\displaystyle\\sum_{i=1}^nx_ip(x_i)=\\frac{(1\\times 1)+(2\\times 1)+...+(n\\times 1)}n=\\frac{n(n+1)}{2\\times n}=\\frac {(n+1)}2$"
   ]
  },
  {
   "cell_type": "markdown",
   "metadata": {},
   "source": [
    "## Properties of expectation"
   ]
  },
  {
   "cell_type": "markdown",
   "metadata": {},
   "source": [
    "### Expectation of a function of a random variable"
   ]
  },
  {
   "cell_type": "markdown",
   "metadata": {},
   "source": [
    "__Proposition__  \n",
    "Let $X$ be a discrete random variable which takes values $x_i$ along with its probability mass function, $P(X=x_i)$. Let $g$ be any real values function, The expected value of $g(X)$ is   \n",
    "$$E(g(x))=\\sum\\limits_ig(x_i)P(X=x_i)$$ \n",
    "\n",
    "__Corollary__  \n",
    "If $a$ and $b$ are constants, $E(aX+b)=aE(X)+b$"
   ]
  },
  {
   "cell_type": "markdown",
   "metadata": {},
   "source": [
    "__Example 1__  \n",
    "- Let $X$ be a discrete random variable with the following distribution  \n",
    "    |$X$|-1|0|1|\n",
    "    |--|--|--|--|\n",
    "    |$P(X=x_i)$|0.2|0.5|0.3|\n",
    "- Let $Y=g(X)=X^2$. What is $E(Y)$?\n",
    "- $E(Y)=(-1^2)\\times 0.2+0\\times 0.5+1^2\\times 0.3 = 0.5$\n",
    "- Distribution of $Y$  \n",
    "    |$Y$|0|1|\n",
    "    |--|--|--|\n",
    "    |$P(Y=y_i)$|0.5|0.5|\n",
    "- Note: $0.5 = E(X^2)\\neq (E(X))^2=0.01$  \n",
    "\n",
    "__Example 2__  \n",
    "Sanjay and Anitha work for the same company. Anitha's Diwali bonus is a random variable whose expected value is ₹15,000.  \n",
    "- Sanjay's bonus is set to equal 90 percent of Anita's, find the expected value of Sanjay's bonus.\n",
    "    - Let $X$ denote Anita's bonus. Given $E(X)=15,000$.\n",
    "    - Let Sanjay's bonus be $Y$. Given $Y=0.9X$\n",
    "    - Hence $E(Y)=0.9\\times E(X)=₹13,500$\n",
    "- If Sanjay's is set to equal ₹1000 more than Anitha's, find his expected bonus.\n",
    "    - In this case, $Y=X+1000$\n",
    "    - Hence $E(Y)=E(X)+1000=₹16,000$"
   ]
  },
  {
   "cell_type": "markdown",
   "metadata": {},
   "source": [
    "### Expectation of sum of two random variables"
   ]
  },
  {
   "cell_type": "markdown",
   "metadata": {},
   "source": [
    "- The expected value of the sum of random variables is equal to the sum of the individual expected values. i.e Let $X$ and $Y$ be two random variables. Then,  \n",
    "$$E(X+Y)=E(X)+E(Y)$$"
   ]
  },
  {
   "cell_type": "markdown",
   "metadata": {},
   "source": [
    "__Example 1: Rolling a dice__  \n",
    "- Let $X$ be the outcome of a fair dice. Let $Y$ be the outcome of another fair dice.\n",
    "- We know $E(X)=E(Y)=3.5$\n",
    "- $X+Y$ is the sum of outcomes of both the dice rolled together. Then, \n",
    "        $$E(X+Y)=E(X)+E(Y)=3.5+3.5=7$$\n",
    "    This is the same expectation of the sum of outcomes of rolling a dice twice\n"
   ]
  },
  {
   "cell_type": "markdown",
   "metadata": {},
   "source": [
    "### Hypergeometric random variable"
   ]
  },
  {
   "cell_type": "markdown",
   "metadata": {},
   "source": [
    "- Suppose that a sample of size $n$ is to be chosen randomly(without replacement) from a box containing $N$ balls, of which $m$ are red and $N-m$ are blue.\n",
    "- Let $X$ denote the number of red balls selected, then  \n",
    "$$P(X=i)=\\displaystyle\\frac{\\binom mi\\binom{N-m}{n-i}}{\\binom Nn},i=0,1,2,...,n$$\n",
    "- X is a said to be a hypergeometric variable for some values of $n, m$ and $N$\n",
    "- $E(X)=\\frac {nm}N$"
   ]
  },
  {
   "cell_type": "markdown",
   "metadata": {},
   "source": [
    "__Example__  \n",
    "Two students are randomly chosen from a group of 20 boys and 10 girls.  \n",
    "Let $X$ denote the number of boys chosen,and let $Y$ denote the number of girls chosen.\n",
    "1. Find $E(X)$.\n",
    "    - $X$ is a Hypergeometric RV. $N=30,m=20,n=2$. Hence  \n",
    "    $E(X)=\\frac {2\\times 20}{30}=\\frac 43$\n",
    "2. Find $E(Y)$.\n",
    "    - $Y$ is a Hypergeometric RV. $N=30,m=10,n=2$. Hence  \n",
    "    $E(Y)=\\frac {2\\times 10}{30}=\\frac 23$\n",
    "3. Find $E(X+Y)$.\n",
    "    - $E(X+Y)=E(X)+E(Y)=\\frac 43+\\frac 23=2$"
   ]
  },
  {
   "cell_type": "markdown",
   "metadata": {},
   "source": [
    "### Expectation of sum of many random variables"
   ]
  },
  {
   "cell_type": "markdown",
   "metadata": {},
   "source": [
    "- The result that the expected value of the sum of random variables is equal to the sum of the expected values hold for not only two but any number of random variables.\n",
    "- Let $X_1,X_2,...,X_k$ be $k$ discrete random variable. Then,  \n",
    "$$\\displaystyle E\\bigg(\\sum_{i=1}^kX_i\\bigg)=\\sum_{i=1}^kE(X_i)$$"
   ]
  },
  {
   "cell_type": "markdown",
   "metadata": {},
   "source": [
    "__Example: Tossing a coin three times__  \n",
    "- Toss a coin $i$ times.\n",
    "- Let $X_i$ be a random variable which equals 1 if the outcome is a head, 0 otherwise.\n",
    "- $E(X_i)=0.5$\n",
    "- $X_1+X_2+\\dots+X_n$ is the total number of heads in $n$ tosses of the coin.\n",
    "- $E(X_1+X_2+\\dots+X_n)=\\displaystyle\\sum_{i=1}^nE(X_i)=0.5\\times n$\n",
    "- For $n=3, X_1+X_2+X_3$ is equal to the number of heads in three tosses of a coin.  \n",
    "$$E(X_1+X_2+X_3)=3\\times 0.5=1.5$$  \n",
    "&emsp;&emsp;&emsp; This is the same expectation of number of heads in three tosses of a coin."
   ]
  },
  {
   "cell_type": "markdown",
   "metadata": {},
   "source": [
    "## Variance of a random variable"
   ]
  },
  {
   "cell_type": "markdown",
   "metadata": {},
   "source": [
    "### Introduction"
   ]
  },
  {
   "cell_type": "markdown",
   "metadata": {},
   "source": [
    "- The expected value of a random variable gives the weighted average of the possible values of the random variable, it does not tell us anything about the variation, or spread, of these values.\n",
    "- For instance, cosider random variables $X, Y$ and $Z$, whose values and probabilities are as follows:  \n",
    "    - $$X=0 \\text{~~with probability~~} 1$$\n",
    "    - $Y=\\begin{cases} -2 & \\text{with probability~~}\\frac 12\\\\\n",
    "    2 & \\text{with probability~~}\\frac 12\\end{cases}$\n",
    "    - $Z=\\begin{cases} -20 & \\text{with probability~~}\\frac 12\\\\\n",
    "    20 & \\text{with probability~~}\\frac 12\\end{cases}$\n",
    "- $E(X)=E(Y)=E(Z)=0$.  \n",
    "However, we notice spread of $Z$ is greater thatn spread of $Y$ which is greater than spread of $X$\n",
    "- Need for a measure of spread."
   ]
  },
  {
   "cell_type": "markdown",
   "metadata": {},
   "source": [
    "### Definition"
   ]
  },
  {
   "cell_type": "markdown",
   "metadata": {},
   "source": [
    "- Let's denote expected value of a random variable $X$ by the greek alphabet $\\mu$.\n",
    "<br>\n",
    "\n",
    "__Definition__  \n",
    "Let $X$ be a random variable with expected value $\\mu$, then the variance of $X$, denoted by $Var(X)$ or $V(X)$, is defined by  \n",
    "$$Var(X)=E(X-\\mu)^2$$\n",
    "- In other words, the Variance of a random variable $X$ measures the square of the difference of the random variable from its mean($\\mu$), on the average.\n",
    "- Its __measure of dispersion of a random variable__"
   ]
  },
  {
   "cell_type": "markdown",
   "metadata": {},
   "source": [
    "### Computational formula for $Var(X)$"
   ]
  },
  {
   "cell_type": "markdown",
   "metadata": {},
   "source": [
    "- $Var(X)=E\\bigg((X-\\mu)^2\\bigg)$\n",
    "- $(X-\\mu)^2=X^2-2X\\mu+\\mu^2$\n",
    "- Using properties of expectation we know  \n",
    "    $E(X^2-2X\\mu+\\mu^2)=E(X^2)-2\\mu E(X)+\\mu^2$ which is same as  \n",
    "    $E(X^2)-\\mu^2$\n",
    "- Let's compute the variance of the random variables discussed earlier.\n",
    "> Note: $E(X)=\\mu$"
   ]
  },
  {
   "cell_type": "markdown",
   "metadata": {},
   "source": [
    "### Example Rolling a dice once"
   ]
  },
  {
   "cell_type": "markdown",
   "metadata": {},
   "source": [
    "- Random experiment: Roll a dice once.\n",
    "- Sample space: $S=\\{1,2,3,4,5,6\\}$\n",
    "- Random variable $X$ is the outcome of the roll.\n",
    "- The probability distribution is given by  \n",
    "    |$X$|1|2|3|4|5|6|\n",
    "    |--|--|--|--|--|--|--|\n",
    "    |$X^2$|1|4|9|16|25|36|\n",
    "    |$P(X=x_i)$|$\\frac 16$|$\\frac 16$|$\\frac 16$|$\\frac 16$|$\\frac 16$|$\\frac 16$|\n",
    "- $E(X)=1\\frac 16+2\\frac 16+3\\frac 16+4\\frac 16+5\\frac 16+6\\frac 16=3.5$\n",
    "- $E(X^2)=1\\frac 16+4\\frac 16+9\\frac 16+16\\frac 16+25\\frac 16+36\\frac 16=15.167$\n",
    "- $Var(X)=15.167-3.5^2=2.917$"
   ]
  },
  {
   "cell_type": "markdown",
   "metadata": {},
   "source": [
    "### Example Rolling a dice twice"
   ]
  },
  {
   "cell_type": "markdown",
   "metadata": {},
   "source": [
    "- $X$ is a random variable which is defined as sum of outcomes \n",
    "- Probability mass function\n",
    "    |$X$|2|3|4|5|6|7|8|9|10|11|12|\n",
    "    |--|--|--|--|--|--|--|--|--|--|--|--|\n",
    "    |$X^2$|4|9|16|25|36|49|64|81|100|121|144|\n",
    "    |$P(X=x_i)$|$\\frac 1{36}$|$\\frac 2{36}$|$\\frac 3{36}$|$\\frac 4{36}$|$\\frac 5{36}$|$\\frac 6{36}$|$\\frac 5{36}$|$\\frac 4{36}$|$\\frac 3{36}$|$\\frac 2{36}$|$\\frac 1{36}$|\n",
    "- $E(X) = 2\\times\\frac 1{36}+3\\times\\frac 2{36}+4\\times\\frac 3{36}+\\dots+11\\times\\frac 2{36}+12\\times\\frac 1{36} = 7$\n",
    "- $E(X^2) = 4\\times\\frac 1{36}+9\\times\\frac 2{36}+16\\times\\frac 3{36}+\\dots+121\\times\\frac 2{36}+144\\times\\frac 1{36} = 54.833$\n",
    "- $Var(X)=54.833-7^2=5.83$"
   ]
  },
  {
   "cell_type": "code",
   "execution_count": null,
   "metadata": {},
   "outputs": [
    {
     "data": {
      "text/plain": [
       "<AxesSubplot:xlabel='X'>"
      ]
     },
     "metadata": {},
     "output_type": "display_data"
    },
    {
     "data": {
      "image/png": "[encoded data removed]",
      "text/plain": [
       "<Figure size 432x288 with 1 Axes>"
      ]
     },
     "metadata": {},
     "output_type": "display_data"
    }
   ],
   "source": [
    "# p.m.f\n",
    "import pandas as pd\n",
    "df = pd.DataFrame({'X':[2,3,4,5,6,7,8,9,10,11,12],'Probability':[1/36,2/36,3/36,4/36,5/36,6/36,5/36,4/36,3/36,2/36,1/36]})\n",
    "df.plot.bar(x='X',y='Probability',rot=0)"
   ]
  },
  {
   "cell_type": "markdown",
   "metadata": {},
   "source": [
    "### Example Tossing a coin thrice"
   ]
  },
  {
   "cell_type": "markdown",
   "metadata": {},
   "source": [
    "- $S$ = {HHH, HHT, HTH, HTT, THH, THT, TTH, TTT}\n",
    "- $X$ is the random variable which counts the number of heads in the tosses\n",
    "    - Probability mass function  \n",
    "        |$X$|0|1|2|3|\n",
    "        |--|--|--|--|--|\n",
    "        |$X^2$|0|1|4|9|\n",
    "        |$P(X=x_i)$|$\\frac 18$|$\\frac 38$|$\\frac 38$|$\\frac 18$|\n",
    "    - $E(X) = \\displaystyle\\sum_{i=0}^3x_ip(x_i)=\\frac{(0\\times 1)+(1\\times 3)+(2\\times 3)+(3\\times 1)}8=\\frac 32$\n",
    "    - $E(X^2) = \\displaystyle\\sum_{i=0}^3x_ip(x_i)=\\frac{(0\\times 1)+(1\\times 3)+(4\\times 3)+(9\\times 1)}8=\\frac {24}8=3$\n",
    "    - $Var(X)=3-1.5^2=0.75$"
   ]
  },
  {
   "cell_type": "code",
   "execution_count": null,
   "metadata": {},
   "outputs": [
    {
     "data": {
      "text/plain": [
       "<AxesSubplot:xlabel='X'>"
      ]
     },
     "metadata": {},
     "output_type": "display_data"
    },
    {
     "data": {
      "image/png": "[encoded data removed]",
      "text/plain": [
       "<Figure size 432x288 with 1 Axes>"
      ]
     },
     "metadata": {},
     "output_type": "display_data"
    }
   ],
   "source": [
    "# p.m.f\n",
    "import pandas as pd\n",
    "df = pd.DataFrame({'X':[0,1,2,3],'Probability':[1/8, 3/8, 3/8, 1/8]})\n",
    "df.plot.bar(x='X',y='Probability',rot=0)"
   ]
  },
  {
   "cell_type": "markdown",
   "metadata": {},
   "source": [
    "### Variance of Bernoulli random variable"
   ]
  },
  {
   "cell_type": "markdown",
   "metadata": {},
   "source": [
    "-  The probability distribution of RV is  \n",
    "\n",
    "    |$X$|0|1|\n",
    "    |--|--|--|\n",
    "    |$X^2$|0|1|\n",
    "    |$P(X=x_i)$|$1-p$|$p$|\n",
    "- Expected value of a Bernoulli random variable:  \n",
    "    $E(X)=0\\times(1-p)+1\\times p=p$\n",
    "- Variance of a Bernoulli random variable:  \n",
    "    $Var(X)=p-p^2=p(1-p)$"
   ]
  },
  {
   "cell_type": "markdown",
   "metadata": {},
   "source": [
    "### Variance of Discrete uniform random variable"
   ]
  },
  {
   "cell_type": "markdown",
   "metadata": {},
   "source": [
    "- Probability mass function\n",
    "    |$X$|1|2|...|$n$|\n",
    "    |--|--|--|--|--|\n",
    "    |$X^2$|1|4|...|$n^2$|\n",
    "    |$P(X=x_i)$|$\\frac 1n$|$\\frac 1n$|$\\frac 1n$|$\\frac 1n$|\n",
    "- $E(X)=\\frac {(n+1)}2$\n",
    "- $E(X^2)=\\frac {(n+1)(2n+1)}6$\n",
    "- $Var(X)=\\frac{n^2-1}{12}$\n",
    "> note: $1+2^2+3^2+4^2+\\dots+n^2 = \\frac {n(n+1)(2n+1)}6$"
   ]
  },
  {
   "cell_type": "markdown",
   "metadata": {},
   "source": [
    "## Properties of Variance"
   ]
  },
  {
   "cell_type": "markdown",
   "metadata": {},
   "source": [
    "__Proposition__  \n",
    "Let $X$ be a random variable, let $c$ be a constant, then \n",
    "- $Var(cX)=c^2Var(X)$\n",
    "- $Var(X+c)=Var(X)$\n",
    "\n",
    "__Corollary__  \n",
    "If $a$ and $b$ are conatants, $V(aX+b)=a^2Var(X)$  \n",
    "\n",
    "__Proof__  \n",
    "We know $E(aX+b)=a\\mu +b$. Hence,  \n",
    "$Var(aX+b)=E(aX+b-a\\mu-b)^2  \\\\\n",
    "\\text{~~~~~~~~~~~}=E(a^2(X-\\mu)^2)  \\\\\n",
    "\\text{~~~~~~~~~}=a^2E(X-\\mu)^2\\\\\n",
    "\\text{~~~}=a^2Var(X)$  "
   ]
  },
  {
   "cell_type": "markdown",
   "metadata": {},
   "source": [
    "### Variance of sum of two random variables"
   ]
  },
  {
   "cell_type": "markdown",
   "metadata": {},
   "source": [
    "- The expected value of the sum of random variables is equal to the sum of the individual expected values. i.e., if $X$ and $Y$ be two random variables. Then $E(X+Y)=E(X)+E(Y)$.\n",
    "- What can be said about the Variance of sum of two random variables?\n",
    "- $Var(X+X)=Var(2X)=4Var(X)\\neq Var(X)+Var(X)=2Var(X)$"
   ]
  },
  {
   "cell_type": "markdown",
   "metadata": {},
   "source": [
    "### Variance of sum of two Independent random variables"
   ]
  },
  {
   "cell_type": "markdown",
   "metadata": {},
   "source": [
    "__Definition__  \n",
    "Random vriables $X$ and $Y$ are independent if knowing the value of one of them does not change the probabilities of the other.  \n",
    "Example:\n",
    "- Roll a dice twice. $S$={(1,1),...(6,6)}\n",
    "- $X$ is the outcome of the first dice. $Y$ be the out come of the second dice.\n",
    "- Knowing $X=i$ does not change the probability of $Y$ taking any value 1,2,...,6\n",
    "- $X$ and $Y$ are independent random variables.  \n",
    "\n",
    "__Result__  \n",
    "Let $X$ and $Y$ be independent random variables. Then  \n",
    "$$Var(X+Y)=Var(X)+Var(Y)$$\n",
    "\n"
   ]
  },
  {
   "cell_type": "markdown",
   "metadata": {},
   "source": [
    "__Example: Rolling a dice twice__"
   ]
  },
  {
   "cell_type": "markdown",
   "metadata": {},
   "source": [
    "- Let $X$ be the outcome of a fair dice. Let $Y$ be the outcome of another fair dice.\n",
    "- We know $E(X)=E(Y)=3.5$\n",
    "- $X+Y$ is the sum of outcomes of both the dice rolled together.  \n",
    "    Then, we know $E(X+Y)=E(X)+E(Y)=3.5+3.5=7$.\n",
    "- We also know $Var(X)=Var(Y)=2.917$\n",
    "- $X$ and $Y$ are independent, hence:  \n",
    "    $Var(X+Y)=2.917+2.917\\approx 5.83$ which is the same as what we obtained earlier applying the computational formula."
   ]
  },
  {
   "cell_type": "markdown",
   "metadata": {},
   "source": [
    "### Hypergeometric random variable\n"
   ]
  },
  {
   "cell_type": "markdown",
   "metadata": {},
   "source": [
    "- Suppose that a sample of size $n$ is to be chosen randomly (without replacement) from a box containing $N$ balls, of which $m$ are red and $N-m$ are blue.\n",
    "- Let $X$ denote the number of red balls selected, then   \n",
    "$\\displaystyle P(X=i)=\\frac{\\dbinom mi\\dbinom{N-m}{n-i}}{\\dbinom Nn}, \\text{~~~~~~~~~~~~}i=0,1,2,...,n$\n",
    "- $X$ is a said to be a hypergeometric variable for some values of $n$, $m$, and $N$\n",
    "- $E(X)=\\displaystyle\\sum_{i=0}^ni*P(X=i)=\\frac {nm}N$\n",
    "- It can be verified that  \n",
    "$Var(X)=\\displaystyle\\frac{nm}N\\bigg[\\frac{(n-1)(m-1)}{(N-1)}+1-\\frac{nm}N\\bigg]$"
   ]
  },
  {
   "cell_type": "markdown",
   "metadata": {},
   "source": [
    "### Variance of sum of many independent random variables"
   ]
  },
  {
   "cell_type": "markdown",
   "metadata": {},
   "source": [
    "- The result that the variance of the sum of independent random variables is equal to the sum of the variables holds for not only two but any number of random variables.\n",
    "- Let $X_1, X_2, ..., X_k$ be $k$ discrete random variables. Then,  \n",
    "$Var\\bigg(\\displaystyle\\sum_{i=1}^kX_i\\bigg)=\\sum_{i=1}^kVar(X_i)$\n"
   ]
  },
  {
   "cell_type": "markdown",
   "metadata": {},
   "source": [
    "__Example: Tossing a coin three times__\n",
    "- S={HHH, HHT, HTH, HTT, THH, THT, TTH, TTT}\n",
    "- $X$ is the random variable which counts the number of heads in the tosses\n",
    "    - Probability mass function  \n",
    "        |$X$|0|1|2|3|\n",
    "        |--|--|--|--|--|\n",
    "        |$X^2$|0|1|4|9|\n",
    "        |$P(X=x_i)$|$\\frac 18$|$\\frac 38$|$\\frac 38$|$\\frac 18$|\n",
    "    - $E(X)=\\displaystyle\\sum_{i=0}^3x_ip(x_i)=\\frac{(0\\times 1)+(1\\times 3)+(2\\times 3)+(3\\times 1)}8=\\frac 32=1.5$\n",
    "    - $E(X^2)=\\displaystyle\\sum_{i=0}^3x_ip(x_i)=\\frac{(0\\times 1)+(1\\times 3)+(4\\times 3)+(9\\times 1)}8=\\frac {24}8=3$\n",
    "    - $Var(X)=3-2.25=0.75$"
   ]
  },
  {
   "cell_type": "markdown",
   "metadata": {},
   "source": [
    "## Standard deviation of a random variable"
   ]
  },
  {
   "cell_type": "markdown",
   "metadata": {},
   "source": [
    "__Definition__  \n",
    "The quantity $SD(X)=\\sqrt{Var(x)}$ is called the standard deviation of X.  <br>\n",
    "\n",
    "Hence, the standard deviation ($SD$) is the positive square root of the variance.  <br>\n",
    "\n",
    "__Remark__  \n",
    "The _standard deviation_, like the expected value, is measured in the same units as is the random variable.  <br>\n",
    "\n",
    "__Proposition__  \n",
    "Let $X$ be a random variable, let $c$ be a constant, then  \n",
    "- $SD(cX) = c.SD(X)$\n",
    "- $SD(X+c)=SD(X)$\n",
    "\n",
    "1. If $Var(X)=4$, what is $SD(3X)$? Answer: 6.\n",
    "2. If $Var(2X+3)=16$, what is $SD(X)$? Answer: 2."
   ]
  },
  {
   "cell_type": "markdown",
   "metadata": {},
   "source": [
    "### Applications"
   ]
  },
  {
   "cell_type": "markdown",
   "metadata": {},
   "source": [
    "#### Application: family bonus\n",
    "Sanjay and Anitha are a married couple who work for the same company.  \n",
    "Anitha's Diwali bonus is a random variable whose expected value is ₹15,000 and standard deviation is ₹3,000.  \n",
    "Sanjay's bonus is a random variable whose expected value is ₹20,000 and standard deviation is ₹4,000.  \n",
    "Assume the earnings of Sanjay and Anitha are independent of each other.  \n",
    "What is the expected value and standard deviation of the total family bonus.  \n",
    "- Let $X$ denote Anitha's bonus. Given  \n",
    "$E(X)=15,000$, $SD(X)=3,000$.\n",
    "- Let Sanjay's bonus be $Y$. Given  \n",
    "$E(Y) = 20,000$, $SD(Y)=4,000$\n",
    "- $E(X+Y)=E(X)+E(Y)=₹35,000$\n",
    "- $SD(X+Y)=\\sqrt{Var(X)+Var(Y)}=₹5,000$"
   ]
  },
  {
   "cell_type": "markdown",
   "metadata": {},
   "source": [
    "#### Application: Lawyer's fees\n",
    "- A lawyer must decide whether to charge a fixed fee of rupee 25,000 or to take a contingency fee of ₹50,000 if she wins the case (and rupee 0 if she loses).\n",
    "- She estimates that her probability of winning is 0.5 (equal chance of winning or losing).\n",
    "- Determine the expectation and standard deviation of her fee if\n",
    "    1. She charges a fixed fee.  \n",
    "        $E(X)=25,000$, $SD(X)=0$\n",
    "    2. She charges a contigency fee.  \n",
    "        $E(X)=25,000$, $SD(X)=25,000$"
   ]
  },
  {
   "cell_type": "markdown",
   "metadata": {},
   "source": [
    "# Week 11"
   ]
  },
  {
   "cell_type": "markdown",
   "metadata": {},
   "source": [
    "## Binomial distribution"
   ]
  },
  {
   "cell_type": "markdown",
   "metadata": {},
   "source": [
    "### Bernoulli trial"
   ]
  },
  {
   "cell_type": "markdown",
   "metadata": {},
   "source": [
    "- A trial, or an experiment, whose outcome can be classified as either a success or a failure is called `Bernoulli trial`.\n",
    "- The sample space $S = \\{Success, Failure\\}$\n",
    "- Let $X$ be a random variable that takes the value 1 if the outcome is a success and value 0 if the outcome is 0.\n",
    "- $X$ is called a Bernoulli random variable. "
   ]
  },
  {
   "cell_type": "markdown",
   "metadata": {},
   "source": [
    "### Examples of Bernoulli trials"
   ]
  },
  {
   "cell_type": "markdown",
   "metadata": {},
   "source": [
    "- Experiment: Tossing a coin: __S={Head, Tail}__\n",
    "    - Success: Head\n",
    "    - Failure: Tail\n",
    "- Experiment: Rolling a dice: __S={1,2,3,4,5,6}__\n",
    "    - Success: Getting a Six\n",
    "    - Failure: Getting any other number.\n",
    "- Experiment: Opinion polls: __S={Yes, No}__\n",
    "    - Success: Yes\n",
    "    - Failure: No\n",
    "- Experiment: Salesperson selling an object: __S={Sale, No sale}__\n",
    "    - Success: Sale\n",
    "    - Failure: No Sale\n",
    "- Experiment: Testing effectiveness of a drug: __S={Effective, Not effective}__\n",
    "    - Success: Effective\n",
    "    - Failure: Not effective"
   ]
  },
  {
   "cell_type": "markdown",
   "metadata": {},
   "source": [
    "### Examples of Non Bernoulli trial"
   ]
  },
  {
   "cell_type": "markdown",
   "metadata": {},
   "source": [
    "- Experiment: Randomly choosing a person and asking their age.\n",
    "- Not Bernoulli- Outcomes are not 2"
   ]
  },
  {
   "cell_type": "markdown",
   "metadata": {},
   "source": [
    "### Bernoulli random variable\n"
   ]
  },
  {
   "cell_type": "markdown",
   "metadata": {},
   "source": [
    "- A random variable that takes on either the value 1 or 0 is called a Bernoulli random variable.\n",
    "- $X$ is a Bernoulli random variable that takes on the value 1 with probability $p$.\n",
    "- The probability distribution of the random variable is  \n",
    "    |$X$|0|1|\n",
    "    |--|--|--|\n",
    "    |$P(X=x_i)$|$1-p$|$p$|\n",
    "- Expected value of a Bernoulli random variable:  \n",
    "    $E(X)=0\\times (1-p)+1\\times p=p$\n",
    "- Variance of a Bernoulli random variable:  \n",
    "    $V(X)=p-p^2=p(1-p)$"
   ]
  },
  {
   "cell_type": "markdown",
   "metadata": {},
   "source": [
    "### Variance of Bernoulli Distribution"
   ]
  },
  {
   "cell_type": "markdown",
   "metadata": {},
   "source": [
    "- The largest variance occurs when $p=\\frac 12$, when success and failure are equally likely. \n",
    "- In other words, the most uncertain Bernoulli trials, those with the largest variance, resemble tosses of a fair coin."
   ]
  },
  {
   "cell_type": "markdown",
   "metadata": {},
   "source": [
    "## Binomial Experiment"
   ]
  },
  {
   "cell_type": "markdown",
   "metadata": {},
   "source": [
    "### Independent and identically distributed Bernoulli trials"
   ]
  },
  {
   "cell_type": "markdown",
   "metadata": {},
   "source": [
    "- A collection of Bernoulli trials defines `iid` Bernoulli random variables, one for each trial\n",
    "- The abbreviation iid stands for independent and identically distributed\n",
    "\n",
    "__Definition__  \n",
    "A collection of random variables is iid if the random variables are independent and share a common probability distribution"
   ]
  },
  {
   "cell_type": "markdown",
   "metadata": {},
   "source": [
    "### Non Independent trials - Example"
   ]
  },
  {
   "cell_type": "markdown",
   "metadata": {},
   "source": [
    "- Consider the experiment where three balls are chosen `without replacement` from a bag containing 20 red balls and 40 black balls. The number of red marbles drawn is recorded. Is this a binomial experiment?\n",
    "- `No!!- The balls are chosen without replacement. The color of first ball will affect the chances of color of the next balls - Independence criteria NOT satisfied.`\n"
   ]
  },
  {
   "cell_type": "markdown",
   "metadata": {},
   "source": [
    "### Binomial random variable\n"
   ]
  },
  {
   "cell_type": "markdown",
   "metadata": {},
   "source": [
    "- Suppose that $n$ independent trials are performed, each of which results in either a \"success\" with probability $p$ or a \"failure\" with probability $1-p$.\n",
    "- Let $X$ is the total number of successes that occur in $n$ trials, then $X$ is said to be a binomial random variable with parameters $n$ and $p$."
   ]
  },
  {
   "cell_type": "markdown",
   "metadata": {},
   "source": [
    "### Non Binomial experiment"
   ]
  },
  {
   "cell_type": "markdown",
   "metadata": {},
   "source": [
    "- Consider the experiment of rolling a dice until a 6 appears - is it a Binomial experiment?"
   ]
  },
  {
   "cell_type": "markdown",
   "metadata": {},
   "source": [
    "### $n=3$ independent trials $X$ = number of successes"
   ]
  },
  {
   "cell_type": "markdown",
   "metadata": {},
   "source": [
    "- Let n=3 independent Bernoulli trials.\n",
    "- The outcomes of the independent trails are  \n",
    "    |S.No|Outcome|\n",
    "    |--|--|\n",
    "    |1|(s, s, s)|\n",
    "    |2|(s, s, f)|\n",
    "    |3|(s, f, s)|\n",
    "    |4|(s, f, f)|\n",
    "    |5|(f, s, s)|\n",
    "    |6|(f, s, f)|\n",
    "    |7|(f, f, s)|\n",
    "    |8|(f, f, f)|\n",
    "- Let $p$ is probability of success.\n",
    "- $X$= number of successes in 3 independent trials\n",
    "- The probabilities of outcomes of the independent trials are  \n",
    "    |S.No|Outcome|Number of <br> successes|Probabilities|\n",
    "    |--|--|--|--|\n",
    "    |1|(s, s, s)|3|$p\\times p\\times p$|\n",
    "    |2|(s, s, f)|2|$p\\times p\\times(1-p)$|\n",
    "    |3|(s, f, s)|2|$p\\times (1-p)\\times p$|\n",
    "    |4|(s, f, f)|1|$p\\times(1-p)\\times(1-p)$|\n",
    "    |5|(f, s, s)|2|$(1-p)\\times p\\times p$|\n",
    "    |6|(f, s, f)|1|$(1-p)\\times p\\times(1-p)$|\n",
    "    |7|(f, f, s)|1|$(1-p)\\times(1-p)\\times p$|\n",
    "    |8|(f, f, f)|0|$(1-p)\\times(1-p)\\times(1-p)$|\n",
    "- The probability distribution of $X$\n",
    "    |X|0|1|2|3|\n",
    "    |--|--|--|--|--|\n",
    "    |$p(X=i)$|$(1-p)^3$|$3\\times p\\times (1-p)^2$|$3\\times p^2 \\times (1-p)$|$p^3$|"
   ]
  },
  {
   "cell_type": "markdown",
   "metadata": {},
   "source": [
    "### $n$ independent trials, $X$ = number of successes"
   ]
  },
  {
   "cell_type": "markdown",
   "metadata": {},
   "source": [
    "- Let there be $n$ independent Bernoulli trials.\n",
    "- Let $p$ is probability of success.\n",
    "- $X$ = number of successes in $n$ independent trials.\n",
    "- The probabilities of outcomes of the independent trials are  \n",
    "    |S.No|Outcome|Number of<br> successes|Probabilities|\n",
    "    |--|--|--|--|\n",
    "    |1|(s, s, ..., s)|n|$p\\times p\\times ... \\times p$|\n",
    "    |2|(s, s, ..., f)|n-1|$p\\times p\\times ... \\times(1-p)$|\n",
    "    |3|(s, ..., f, s)|n-1|$p\\times ... \\times (1-p)\\times p$|\n",
    "    |$\\vdots$|$\\vdots$|$\\vdots$|$\\vdots$|\n",
    "    |$2^n-2$|(f, ..., s, f)|1|$(1-p)\\times (1-p) ... \\times p \\times(1-p)$|\n",
    "    |$2^{n-1}$|(f, f, ..., s)|1|$(1-p)\\times(1-p)\\times ... \\times p$|\n",
    "    |$2^n$|(f, f, ..., f)|0|$(1-p)\\times(1-p)  \\times ...\\times(1-p)$|\n",
    "- Consider any outcome that results in a total of $i$ successes.\n",
    "    - This outcome will have a total of $i$ successes and $(n-i)$ failures\n",
    "    - Probability of $i$ success and $(n-i)$ failures = $p^i\\times(1-p)^{(n-i)}$.\n",
    "- There number of different outcomes that result in $i$ successes and $(n-i)$ failures = $\\dbinom ni$\n",
    "- The probability of $i$ successes in $n$ trials is given by  \n",
    "    $p(X=i)=\\dbinom ni \\times p^i\\times (1-p)^{(n-i)}$ where $i=0,1,2,3,...,n$"
   ]
  },
  {
   "cell_type": "markdown",
   "metadata": {},
   "source": [
    "## Binomial random variable"
   ]
  },
  {
   "cell_type": "markdown",
   "metadata": {},
   "source": [
    "__Definition__  \n",
    "$X$ is a binomial random variable with parameters $n$ and $p$ that represents the number of successes in $n$ independent Bernoulli trials, when each trial is a success with probability $p$. $X$ takes values $0, 1, 2,..., n$ with the probability  \n",
    "$P(X=i)=\\dbinom ni\\times p^i\\times(1-p)^{(n-i)}$"
   ]
  },
  {
   "cell_type": "markdown",
   "metadata": {},
   "source": [
    "### Example: Tossing a coin thrice"
   ]
  },
  {
   "cell_type": "markdown",
   "metadata": {},
   "source": [
    "- S = {HHH, HHT, HTH, HTT, THH, THT, TTH, TTT}\n",
    "- Success = head, Failure = tails\n",
    "- $X$ is the random variable which counts the number of heads in the tosses. $n=3$ $p=0.5$\n",
    "    - Probability mass function  \n",
    "        |$X$|0|1|2|3|\n",
    "        |--|--|--|--|--|\n",
    "        |$P(X=x_i)$|$\\displaystyle\\dbinom 30 \\frac 12 ^0 \\frac 12 ^3$|$\\displaystyle\\dbinom 31 \\frac 12 ^1 \\frac 12 ^2$|$\\displaystyle\\dbinom 32 \\frac 12 ^2 \\frac 12 ^1$|$\\displaystyle\\dbinom 33 \\frac 12 ^3 \\frac 12 ^0$|\n",
    "        |$P(X=x_i)$|$\\displaystyle\\frac 18$|$\\displaystyle\\frac 38$|$\\displaystyle\\frac 38$|$\\displaystyle\\frac 18$|"
   ]
  },
  {
   "cell_type": "markdown",
   "metadata": {},
   "source": [
    "### Shape of the pmf for same $n$ different $p$"
   ]
  },
  {
   "cell_type": "markdown",
   "metadata": {},
   "source": [
    "`A binomial distribution is`\n",
    "- right skewed if $p<0.5$\n",
    "- is symmetric if $p=0.5$\n",
    "- is left skewed if $p>0.5$\n",
    "\n",
    "We demonstrate the same for $n=4$ and different $p$"
   ]
  },
  {
   "cell_type": "markdown",
   "metadata": {},
   "source": [
    "### $n=4$, $p=0.3$, $X=$ number of successes"
   ]
  },
  {
   "cell_type": "markdown",
   "metadata": {},
   "source": [
    "- Let $n=4$ independent Bernoulli trials.\n",
    "- Let $p=0.3$ is probability of success\n",
    "- Let $X=$ number of successes in $4$ independent trials.\n",
    "- The probability distribution of $X$  \n",
    "    |$X$|0|1|2|3|4|\n",
    "    |--|--|--|--|--|--|\n",
    "    |$p(X=x_i)$|0.2401|0.4116|0.2646|0.0756|0.0081|"
   ]
  },
  {
   "cell_type": "code",
   "execution_count": 6,
   "metadata": {},
   "outputs": [
    {
     "data": {
      "text/plain": [
       "<matplotlib.legend.Legend at 0x220df252a88>"
      ]
     },
     "execution_count": 6,
     "metadata": {},
     "output_type": "execute_result"
    },
    {
     "data": {
      "image/png": "[encoded data removed]",
      "text/plain": [
       "<Figure size 432x288 with 1 Axes>"
      ]
     },
     "metadata": {
      "needs_background": "light"
     },
     "output_type": "display_data"
    }
   ],
   "source": [
    "# Graph of pmf of Binomial distribution - Right skewed\n",
    "import pandas as pd\n",
    "df = pd.DataFrame({\"X\":[0,1,2,3,4],\"Y\":[0.2401,0.4116,0.2646,0.0756,0.0081]})\n",
    "ax = df.plot(x='X',y='Y',kind='bar')\n",
    "ax.legend(['n=4, p=0.3'])"
   ]
  },
  {
   "cell_type": "markdown",
   "metadata": {},
   "source": [
    "### $n=4$, $p=0.5$, $X=$ number of successes"
   ]
  },
  {
   "cell_type": "markdown",
   "metadata": {},
   "source": [
    "- Let $n=4$ independent Bernoulli trials.\n",
    "- Let $p=0.5$ is probability of success\n",
    "- Let $X=$ number of successes in $4$ independent trials.\n",
    "- The probability distribution of $X$  \n",
    "    |$X$|0|1|2|3|4|\n",
    "    |--|--|--|--|--|--|\n",
    "    |$p(X=x_i)$|0.0625|0.25|0.375|0.25|0.0625|"
   ]
  },
  {
   "cell_type": "code",
   "execution_count": 8,
   "metadata": {},
   "outputs": [
    {
     "data": {
      "text/plain": [
       "<matplotlib.legend.Legend at 0x220e0364c88>"
      ]
     },
     "execution_count": 8,
     "metadata": {},
     "output_type": "execute_result"
    },
    {
     "data": {
      "image/png": "[encoded data removed]",
      "text/plain": [
       "<Figure size 432x288 with 1 Axes>"
      ]
     },
     "metadata": {
      "needs_background": "light"
     },
     "output_type": "display_data"
    }
   ],
   "source": [
    "# Graph of pmf of Binomial distribution - symmetric\n",
    "import pandas as pd\n",
    "df = pd.DataFrame({\"X\":[0,1,2,3,4],\"Y\":[0.0625,0.25,0.375,0.25,0.0625]})\n",
    "ax = df.plot(x='X',y='Y',kind='bar')\n",
    "ax.legend(['n=4, p=0.5'])"
   ]
  },
  {
   "cell_type": "markdown",
   "metadata": {},
   "source": [
    "### $n=4$, $p=0.8$, $X=$ number of successes"
   ]
  },
  {
   "cell_type": "markdown",
   "metadata": {},
   "source": [
    "- Let $n=4$ independent Bernoulli trials.\n",
    "- Let $p=0.5$ is probability of success\n",
    "- Let $X=$ number of successes in $4$ independent trials.\n",
    "- The probability distribution of $X$  \n",
    "    |$X$|0|1|2|3|4|\n",
    "    |--|--|--|--|--|--|\n",
    "    |$p(X=x_i)$|0.0016|0.0256|0.1536|0.4096|0.4096|"
   ]
  },
  {
   "cell_type": "code",
   "execution_count": 11,
   "metadata": {},
   "outputs": [
    {
     "data": {
      "text/plain": [
       "<matplotlib.legend.Legend at 0x220e031d688>"
      ]
     },
     "execution_count": 11,
     "metadata": {},
     "output_type": "execute_result"
    },
    {
     "data": {
      "image/png": "[encoded data removed]",
      "text/plain": [
       "<Figure size 432x288 with 1 Axes>"
      ]
     },
     "metadata": {
      "needs_background": "light"
     },
     "output_type": "display_data"
    }
   ],
   "source": [
    "# Graph of pmf of Binomial distribution - left skewed\n",
    "import pandas as pd\n",
    "df = pd.DataFrame({\"X\":[0,1,2,3,4],\"Y\":[0.0016,0.0256,0.1536,0.4096,0.4096]})\n",
    "ax = df.plot(x='X',y='Y',kind='bar')\n",
    "ax.legend(['n=4, p=0.8'])"
   ]
  },
  {
   "cell_type": "markdown",
   "metadata": {},
   "source": [
    "### Graph of pmf of Binomial distribution - Right skewed - large\n"
   ]
  },
  {
   "cell_type": "code",
   "execution_count": 18,
   "metadata": {},
   "outputs": [
    {
     "data": {
      "text/plain": [
       "<matplotlib.legend.Legend at 0x220e7a98488>"
      ]
     },
     "execution_count": 18,
     "metadata": {},
     "output_type": "execute_result"
    },
    {
     "data": {
      "image/png": "[encoded data removed]",
      "text/plain": [
       "<Figure size 432x288 with 1 Axes>"
      ]
     },
     "metadata": {
      "needs_background": "light"
     },
     "output_type": "display_data"
    }
   ],
   "source": [
    "from scipy.stats import binom\n",
    "import numpy as np\n",
    "n = 40\n",
    "p = 0.3\n",
    "X = np.arange(0, n+1)\n",
    "binomial_pmf = binom.pmf(X, n, p)\n",
    "\n",
    "import matplotlib.pyplot as plt\n",
    "plt.bar(X,binomial_pmf)\n",
    "plt.legend(['n=40, p=0.3'])"
   ]
  },
  {
   "cell_type": "markdown",
   "metadata": {},
   "source": [
    "[creds](https://pyshark.com/binomial-distribution-and-binomial-test-in-python/)"
   ]
  },
  {
   "cell_type": "markdown",
   "metadata": {},
   "source": [
    "### Graph of pmf of Binomial distribution - left skewed - large n\n"
   ]
  },
  {
   "cell_type": "code",
   "execution_count": 19,
   "metadata": {},
   "outputs": [
    {
     "data": {
      "text/plain": [
       "<matplotlib.legend.Legend at 0x220e7b5f108>"
      ]
     },
     "execution_count": 19,
     "metadata": {},
     "output_type": "execute_result"
    },
    {
     "data": {
      "image/png": "[encoded data removed]",
      "text/plain": [
       "<Figure size 432x288 with 1 Axes>"
      ]
     },
     "metadata": {
      "needs_background": "light"
     },
     "output_type": "display_data"
    }
   ],
   "source": [
    "from scipy.stats import binom\n",
    "import numpy as np\n",
    "n = 40\n",
    "p = 0.8\n",
    "X = np.arange(0, n+1)\n",
    "binomial_pmf = binom.pmf(X, n, p)\n",
    "\n",
    "import matplotlib.pyplot as plt\n",
    "plt.bar(X,binomial_pmf)\n",
    "plt.legend(['n=40, p=0.8'])"
   ]
  },
  {
   "cell_type": "markdown",
   "metadata": {},
   "source": [
    "### Graph of pmf of Binomial distribution - symmetric - large n\n"
   ]
  },
  {
   "cell_type": "code",
   "execution_count": 20,
   "metadata": {},
   "outputs": [
    {
     "data": {
      "text/plain": [
       "<matplotlib.legend.Legend at 0x220e7b71f48>"
      ]
     },
     "execution_count": 20,
     "metadata": {},
     "output_type": "execute_result"
    },
    {
     "data": {
      "image/png": "[encoded data removed]",
      "text/plain": [
       "<Figure size 432x288 with 1 Axes>"
      ]
     },
     "metadata": {
      "needs_background": "light"
     },
     "output_type": "display_data"
    }
   ],
   "source": [
    "from scipy.stats import binom\n",
    "import numpy as np\n",
    "n = 40\n",
    "p = 0.5\n",
    "X = np.arange(0, n+1)\n",
    "binomial_pmf = binom.pmf(X, n, p)\n",
    "\n",
    "import matplotlib.pyplot as plt\n",
    "plt.bar(X,binomial_pmf)\n",
    "plt.legend(['n=40, p=0.5'])"
   ]
  },
  {
   "cell_type": "markdown",
   "metadata": {},
   "source": [
    "### Effects of $n$ and $p$ on shape of distribution"
   ]
  },
  {
   "cell_type": "markdown",
   "metadata": {},
   "source": [
    "- small $n$, small $p$ - right skewed\n",
    "- small $n$, large $p$ - left skewed\n",
    "- small $n$, $p = $ 0.5 - symmetric\n",
    "- For large $n$, the binomial distribution approaches symmetry."
   ]
  },
  {
   "cell_type": "markdown",
   "metadata": {},
   "source": [
    "## Application: Pack of three goods"
   ]
  },
  {
   "cell_type": "markdown",
   "metadata": {},
   "source": [
    "- Consider a company that sells goods in packs of three.\n",
    "- The production process of the goods is not very good and results in 10% of goods being defective.\n",
    "- the company believes that customers will not complain if one out of three in a pack is of bad quality, however, will complain if more than two out of three are of bad quality.\n",
    "- the company wants to keep number of complaints low, say at 3%\n",
    "- How do we help the company analyse the situation?\n",
    "----\n",
    "- Random experiment: Choosing an item and noting its quality.  \n",
    "    S={Good, Bad}\n",
    "    - Success: good\n",
    "    - Failure: Bad\n",
    "- Given probability of a defective item is 0.1. Hence, Proabability of good = $p=0.9$.\n",
    "- We want to know number of good in a pack of three.  \n",
    "    Hence $n=3$\n",
    "- Let $X= $ number of good inpack of three. $X$ is a Binomial random variable with $n=3$, $p=0.9$.\n",
    "- The distribution of $X$ is given by \n",
    "    |$X$|0|1|2|3|\n",
    "    |--|--|--|--|--|\n",
    "    |$P(X=x_i)$|$\\displaystyle\\dbinom 30 \\frac 9{10} ^0 \\frac 1{10} ^3$|$\\displaystyle\\dbinom 31 \\frac 9{10} ^1 \\frac 1{10} ^2$|$\\displaystyle\\dbinom 32 \\frac 9{10} ^2 \\frac 1{10} ^1$|$\\displaystyle\\dbinom 33 \\frac 9{10} ^3 \\frac 1{10} ^0$|\n",
    "    |$P(X=x_i)$|$0.001$|$0.027$|$0.243$|$0.729$|\n",
    "---\n",
    "- customers will complain if they find more than one defective in the pack of three.\n",
    "    - $P(X\\leq 1)$\n",
    "- The distribution of $X$ is given by  \n",
    "    |$X$|0|1|2|3|\n",
    "    |--|--|--|--|--|\n",
    "    |$P(X=x_i)$|0.001|0.0027|0.243|0.729|\n",
    "- $P(X\\leq 1)=0.001+0.027=0.028$\n",
    "- 2.8% is less than 3%. which was the goal set by the company - goal achieved.\n",
    "- However, if the company set 2.5% as their threshold then 2.8% would have been more than 2.5% and company would not have achieved its goal."
   ]
  },
  {
   "cell_type": "markdown",
   "metadata": {},
   "source": [
    "### Effects of n - size of packs"
   ]
  },
  {
   "cell_type": "markdown",
   "metadata": {},
   "source": [
    "|n||||||\n",
    "|--|--|--|--|--|--|\n",
    "|3|$X$|0|1|2|3|\n",
    "||$P(X=i)$|0.001|0.027|0.243|0.729|\n",
    "\n",
    "|4|$X$|0|1|2|3|4|\n",
    "|--|--|--|--|--|--|--|\n",
    "||$P(X=i)$|0.0001|0.0036|0.0486|0.2916|0.6561|\n",
    "\n",
    "|5|$X$|0|1|2|3|4|5|\n",
    "|--|--|--|--|--|--|--|--|\n",
    "||$P(X=i)$|0.00001|0.00045|0.0081|0.0729|0.32805|0.59049|"
   ]
  },
  {
   "cell_type": "markdown",
   "metadata": {},
   "source": [
    "## Examples"
   ]
  },
  {
   "cell_type": "markdown",
   "metadata": {},
   "source": [
    "### Example Rolling a Dice"
   ]
  },
  {
   "cell_type": "markdown",
   "metadata": {},
   "source": [
    "Roll four fair dice. Define success as getting a six. Find the probability that  \n",
    "1. 6 appears at least once\n",
    "2. 6 appears exactly once.\n",
    "3. 6 appears at least twice.\n",
    "- Let $X = $ the number of sixes in four rolls of the dice. Then $X\\approx B(4,1/6)$\n",
    "- The pmf is given by  \n",
    "    |$X$|0|1|2|3|4|\n",
    "    |--|--|--|--|--|--|\n",
    "    |$P(X=i)$|0.4823|0.3858|0.1157|0.0154|0.0008|\n",
    "    \n",
    "1. 6 appears at least once = 0.5177\n",
    "2. 6 appears exactly once = 0.3858\n",
    "3. 6 appears at least twice = 0.1319\n",
    "\n",
    "> where $P(X=i)=\\dbinom ni\\times p^i\\times(1-p)^{(n-i)}$"
   ]
  },
  {
   "cell_type": "markdown",
   "metadata": {},
   "source": [
    "### Example: Defective ball bearings"
   ]
  },
  {
   "cell_type": "markdown",
   "metadata": {},
   "source": [
    "Each ball bearing produce is independently defective with probability 0.05. If a sample of 5 is inspected, find the probability that\n",
    "1. None are defective\n",
    "2. Two or more are defective.\n",
    "- Let $X = $ the number of defectives in sample of five. Then $X\\approx B(5,0.05)$  \n",
    "    |$X$|0|1|2|3|4|5|\n",
    "    |--|--|--|--|--|--|--|\n",
    "    |$P(X=i)$|0.7738|0.2036|0.0214|0.0011|0|0|\n",
    "1. None are defective $=P(X=0)=0.7738$\n",
    "2. Two or more are defective $=P(X\\geq 2) = 0.0225$"
   ]
  },
  {
   "cell_type": "markdown",
   "metadata": {},
   "source": [
    "### Example Satellite functioning"
   ]
  },
  {
   "cell_type": "markdown",
   "metadata": {},
   "source": [
    "A satellite system consists of 4 components and can function if at least 2 of them are working. If each component independently works with probability 0.8, what is the probability the system will function?\n",
    "- Let $X=$ the number of components among four that are functioning. Then $X\\approx B(4,0.8)$.\n",
    "- The pmf is given by  \n",
    "    |$X$|0|1|2|3|4|\n",
    "    |--|--|--|--|--|--|\n",
    "    |$P(X=i)$|0.0016|0.0256| |0.4096|0.4096|\n",
    "1. System will function if $X\\geq 2$, $P(X\\geq 2) = 0.9728$"
   ]
  },
  {
   "cell_type": "markdown",
   "metadata": {},
   "source": [
    "### Example: Multiple-choice examination"
   ]
  },
  {
   "cell_type": "markdown",
   "metadata": {},
   "source": [
    "A multiple-choice examination has 4 possible answers for each of 5 questions. What is the probability that a student will get 4 or more correct answerrs just by guessing?\n",
    "1. Let $X$ be number of correct responses. $X\\approx B(5,1/4)$  \n",
    "    The pmf is given by  \n",
    "    |$X$|0|1|2|3|4|5|\n",
    "    |--|--|--|--|--|--|--|\n",
    "    |$P(X=i)$|0.2373|0.3955|0.2637|0.0879|0.0146|0.001|\n",
    "2. Students will get 4 or more correct answers just by guessing     \n",
    "    $X\\geq 4$, $P(X\\geq 4)=0.0156$"
   ]
  },
  {
   "cell_type": "markdown",
   "metadata": {},
   "source": [
    "## Expectation and Variance of Binomial Random Variable"
   ]
  },
  {
   "cell_type": "markdown",
   "metadata": {},
   "source": [
    "- A binomial random variable $X\\approx Bin(n,p)$ is eqaul to the number of successes in $n$ independent trials when each trial is a success with probability $p$.\n",
    "- We can represent $X$ as  \n",
    "    $X = X_1+X_2+...+X_n$  \n",
    "    where $X_i$ is equal to 1 if trial $i$ is a success   \n",
    "    and is equal to 0 if trial $i$ is a failure\n",
    "- $P(X_i=1)=p$ and $P(X_i=0)=(1-p)$\n",
    "- $E(X)=E(X_1+X_2+...+X_n) = E(X_1)+E(X_2)+...+E(X_n)$\n",
    "    - $E(X) = p + p+...+p=np$\n",
    "- $V(X)=V(X_1+X_2+...+X_n)=V(X_1)+V(X_2)+...+V(X_n)$\n",
    "    - $V(X)=p(1-p)+p(1-p)+...+p(1-p)=np(1-p)$\n",
    "\n",
    "__Result__  \n",
    "Using the fact that the expectation of the sum of random variables is equal to the sum of their expectations, we see that Expectation of a Binomial random variable $X$ is  \n",
    "                    \n",
    "$$E(X)=np$$\n",
    "\n",
    "Also, since the variance of the sum of independent random variables is equal to the sum of their variances, we have variance of a Binomial random variable is \n",
    "\n",
    "$$Var(X)=np(1-p)$$"
   ]
  },
  {
   "cell_type": "markdown",
   "metadata": {},
   "source": [
    "## Examples"
   ]
  },
  {
   "cell_type": "markdown",
   "metadata": {},
   "source": [
    "### Example: Tossing a coin 500 times"
   ]
  },
  {
   "cell_type": "markdown",
   "metadata": {},
   "source": [
    "If a fair coin is tossed 500 times, what is the standard deviation of the number of times that a head appears?  <br>\n",
    "\n",
    "Let $X = $ the number of heads in 500 tosses of a fair coin.   \n",
    "Then $X\\approx B(500,1/2)$.   \n",
    "$V(X)=125$, $SD(X)=\\sqrt{125}=11.1803$"
   ]
  },
  {
   "cell_type": "markdown",
   "metadata": {},
   "source": [
    "### Finding probability given expectation and n"
   ]
  },
  {
   "cell_type": "markdown",
   "metadata": {},
   "source": [
    "The expected number of heads in a series of 10 tosses of a coin is 6. What is the probability there are 8 heads?   <br> \n",
    "\n",
    "Let $X$ be number of heads. $X\\approx B(10,p)$.\n",
    "1. Since $E(X)=np$; $10p=6$, hence $p=0.6$\n",
    "2. Prob there are 8 heads: $P(X=8)= \\dbinom {10}8\\times 0.6^8\\times 0.4^2  = 0.121$\n"
   ]
  },
  {
   "cell_type": "markdown",
   "metadata": {},
   "source": [
    "### Find pmf given Expectation and Variance"
   ]
  },
  {
   "cell_type": "markdown",
   "metadata": {},
   "source": [
    "If $X$ is a binomial random variable with expected value $4.5$ and variance $0.45$, find  \n",
    "1. $P(X=3)$\n",
    "2. $P(X\\geq 4)$\n",
    "- $X\\approx B(n,p)$\n",
    "- $np = 4.5$, $np(1-p)=0.45$\n",
    "- Solving gives $n=5$ and $p=0.9$\n",
    "1. $P(X=3)=0.0729$\n",
    "2. $P(X\\geq 4)=0.9185$"
   ]
  },
  {
   "cell_type": "markdown",
   "metadata": {},
   "source": [
    "# Week 12"
   ]
  },
  {
   "cell_type": "markdown",
   "metadata": {},
   "source": [
    "## Discrete and Continuous random variable"
   ]
  },
  {
   "cell_type": "markdown",
   "metadata": {},
   "source": [
    "__Definition__  \n",
    "A random variable that can take on at most a countable number of possible values is said to be a `discrete random variable`.  <br>\n",
    "\n",
    "__Definition__  \n",
    "When outcomes for random event are numerical, but cannot be counted and are infinitely divisible, we have `continuous random variable`.\n",
    "\n",
    "---\n",
    "- A `discrete random variable` is one that has possible values that are discrete points along the real number line.\n",
    "- A `continuous random variable` is one that has possible values that form an interval along the real number line. In other words, a continuous random variable can assume any value over an interval or intervals."
   ]
  },
  {
   "cell_type": "markdown",
   "metadata": {},
   "source": [
    "## Probability density function (pdf)\n"
   ]
  },
  {
   "cell_type": "markdown",
   "metadata": {},
   "source": [
    "- Every continuous random variable $X$ has a curve associated with it.\n",
    "- The probability distribution curve of a continous random variable is also called its `probability density function`. It is denoted by $f(x)$"
   ]
  },
  {
   "cell_type": "markdown",
   "metadata": {},
   "source": [
    "## Area under a pdf"
   ]
  },
  {
   "cell_type": "markdown",
   "metadata": {},
   "source": [
    "- Consider any two points $a$ and $b$, where $a$ is less than $b$. \n",
    "- The probability that $X$ assumes a value that lies between $a$ and $b$ is equal to the area under the curve between $a$ and $b$  \n",
    "i.e,  \n",
    "$P(X\\in[a,b])=P(a\\leq X\\leq b)$ is area under curve between $a$ and $b$  \n",
    "$P(a\\leq X\\leq b)=\\displaystyle \\int_a^bf(x)dx$"
   ]
  },
  {
   "cell_type": "code",
   "execution_count": 26,
   "metadata": {},
   "outputs": [
    {
     "data": {
      "text/plain": [
       "Text(1.96, 0, '1.96')"
      ]
     },
     "execution_count": 26,
     "metadata": {},
     "output_type": "execute_result"
    },
    {
     "data": {
      "image/png": "[encoded data removed]",
      "text/plain": [
       "<Figure size 432x288 with 1 Axes>"
      ]
     },
     "metadata": {
      "needs_background": "light"
     },
     "output_type": "display_data"
    }
   ],
   "source": [
    "import numpy as np\n",
    "from scipy import stats\n",
    "import matplotlib.pyplot as plt\n",
    "\n",
    "x_axis = np.arange(-10, 10, 0.001)\n",
    "\n",
    "avg = 0\n",
    "std = 1\n",
    "\n",
    "pdf = stats.norm.pdf(x_axis, avg, std)\n",
    "plt.plot(x_axis, pdf)\n",
    "\n",
    "std_lim = 1.96 # 95% CI\n",
    "low = avg-std_lim*std\n",
    "high = avg+std_lim*std\n",
    "\n",
    "plt.fill_between(x_axis, pdf, where=(low < x_axis) & (x_axis < high))\n",
    "plt.text(low, 0, low, ha='center')\n",
    "plt.text(high, 0, high, ha='center')"
   ]
  },
  {
   "cell_type": "code",
   "execution_count": null,
   "metadata": {},
   "outputs": [
    {
     "name": "stdout",
     "output_type": "stream",
     "text": [
      "0.682689492137086\n"
     ]
    }
   ],
   "source": [
    "from scipy.integrate import quad\n",
    "def normalProababilityDensity(x):\n",
    "    constant = 1.0/np.sqrt(2*np.pi)\n",
    "    return (constant*np.exp((-x**2)/2.0))\n",
    "\n",
    "result, __ = quad(normalProababilityDensity,-1,1,limit=1000)\n",
    "print(result)"
   ]
  },
  {
   "cell_type": "markdown",
   "metadata": {},
   "source": [
    "## Properties of pdf"
   ]
  },
  {
   "cell_type": "markdown",
   "metadata": {},
   "source": [
    "1. The area under the probability distribution curve of a continuous random variable between any two points is between 0 and 1  \n",
    "$\\sum\\limits_i P(X=x_i))=1$  \n",
    "$1\\geq P(X=x_i)\\geq 0$  \n",
    "$0\\leq P(X\\in [a,b])\\leq 1$  \n",
    "...."
   ]
  },
  {
   "cell_type": "markdown",
   "metadata": {},
   "source": [
    "2. Total area under the probability distribution curve of a continuous random variable is always 1.  \n",
    "$\\int\\limits_Rf(x)dx=1$  \n",
    "$\\sum\\limits_xP(X=x_i)=1$  \n",
    "..."
   ]
  },
  {
   "cell_type": "markdown",
   "metadata": {},
   "source": [
    "- The area under the graph of the probability density function between points $a$ and $b$ is the same regardless of whether the endpoints $a$ and $b$ are themselves included:  \n",
    "$$P(a\\leq X\\leq b)=P(a<X<b)$$\n",
    "- The probability density curve of a random variable $X$ is a curve that never goes below the x-axis"
   ]
  },
  {
   "cell_type": "markdown",
   "metadata": {},
   "source": [
    "## Example"
   ]
  },
  {
   "cell_type": "markdown",
   "metadata": {},
   "source": [
    "Figure below is a probability density function for the random variable that represents the time (in minutes) it takes a rapairer to service a television. The number in the regions represent the areas of those regions  \n",
    "What is the probability that the repairer takes  \n",
    "1. Less than 20"
   ]
  },
  {
   "cell_type": "markdown",
   "metadata": {},
   "source": []
  }
 ],
 "metadata": {
  "interpreter": {
   "hash": "57baa5815c940fdaff4d14510622de9616cae602444507ba5d0b6727c008cbd6"
  },
  "kernelspec": {
   "display_name": "Python 3.7.8 64-bit",
   "language": "python",
   "name": "python3"
  },
  "language_info": {
   "codemirror_mode": {
    "name": "ipython",
    "version": 3
   },
   "file_extension": ".py",
   "mimetype": "text/x-python",
   "name": "python",
   "nbconvert_exporter": "python",
   "pygments_lexer": "ipython3",
   "version": "3.7.8"
  },
  "orig_nbformat": 4
 },
 "nbformat": 4,
 "nbformat_minor": 2
}
