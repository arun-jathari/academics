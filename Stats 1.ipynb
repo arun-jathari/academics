{
 "cells": [
  {
   "cell_type": "markdown",
   "metadata": {},
   "source": [
    "# Statistics\n",
    "*Definition*  \n",
    "Statistics is the art of learning from data. It is concerned with the collection of data, their subsequent description, and their analysis which often leads to the drawing of conclusions  \n",
    "  \n",
    "**Major branches**  \n",
    "1. **Description**\n",
    "The part of statistics concerned with the description and summarization of data is called `descriptive statistics`\n",
    "2. **Inference**  \n",
    "The part of statistics concerned with the drawing of coclusions from data is called inferential statistics.\n",
    "    * To be able to draw a conclusion from the data, we must take into account the possibility of chance introduction to probability."
   ]
  },
  {
   "cell_type": "markdown",
   "metadata": {},
   "source": [
    "**Population and sample**  \n",
    "* The total collection of all the elements that we are interested in is called a `population`.\n",
    "* A subgroup of the population that will be studied in detail is called a `sample`."
   ]
  },
  {
   "cell_type": "markdown",
   "metadata": {},
   "source": [
    "**Purpose of statistical analysis**  \n",
    "* If the purpose of the analysis is to examine and explore information for its own intrinsic interest only, the study is descriptive.\n",
    "* If the information is obtained from a sample of a population and the purpose of the study is to use that infrormation to draw conclusions about the population, the study is inferential.\n",
    "* A descriptive study may be performed either on a sample or on a population.\n",
    "* when an inference is made about the population, based on information obtained from the sample, does the study become inferential?"
   ]
  },
  {
   "cell_type": "markdown",
   "metadata": {},
   "source": [
    "**Data collection**\n",
    "* Data available: published data.\n",
    "    * https://data.gov.in\n",
    "* Data not available: need to collect, generate data."
   ]
  },
  {
   "cell_type": "markdown",
   "metadata": {},
   "source": [
    "**Dataset**\n",
    "* A structured collection of Data\n",
    "* it is a collection of values-could be numbers, names, roll numbers"
   ]
  },
  {
   "cell_type": "markdown",
   "metadata": {},
   "source": [
    "**Variables and cases**\n",
    "* Case ( observation ): A unit from which data are collected\n",
    "* Variable:\n",
    "    * Intuitive: A variable is that \"varies\".\n",
    "    * Formally: A characteristic or attribute that varies across all units.\n",
    "* *Rows represent cases:* for each case, same attribute is recorded\n",
    "* *Columns represent variables:* For each variables, same type of value for each case is recorded."
   ]
  },
  {
   "cell_type": "markdown",
   "metadata": {},
   "source": [
    "**Categorical and numerical variables**\n",
    "* **Categorical data**\n",
    "    * Also called qualitative variables.\n",
    "    * Identify group membership\n",
    "* **Numerical data**\n",
    "    * Also called quantitative variables.\n",
    "    * Describe numerical properties of cases\n",
    "    * Have measurement units\n",
    "* **Measurement units**: Scale that defines the meaning of numerical data, such as wieghts measured in kilograms, prices in rupees heights in centimeters, etc.\n",
    "    * The data that make up a numerical variable in a data table must share a common unit."
   ]
  },
  {
   "cell_type": "markdown",
   "metadata": {},
   "source": [
    "<img src='media\\Stats1 Data types.drawio.svg'>"
   ]
  },
  {
   "cell_type": "markdown",
   "metadata": {},
   "source": [
    "**Cross-sectional and time-series data**\n",
    "* Time series - data recorded over time\n",
    "* Timeplot - graph of a time series showing values in chronological order\n",
    "* Cross-sectional - data observed at the same time\n",
    "> Check whether data is collected at a point of time (cross-sectional data) or over time (time-series data)"
   ]
  },
  {
   "cell_type": "markdown",
   "metadata": {},
   "source": [
    "## Scales of measurement\n",
    "* Data collection requries one of the following scales of measurement: nominal, ordianl, interval or ratio.  \n",
    "\n",
    "**Nominal scale of measurement**\n",
    "* When the data for a variable consist of labels or names used to identify the charactersitic of an observation, the scale of measurement is considered a `nominal` scale.  \n",
    "  * e.g., Name, Board, Gender, Blood group etc\n",
    "* Sometimes nominal variable might be numerically coded.\n",
    "  * e.g., We might code Men as 1 and Women as 2. Or Code Men as 3 and Women as 1. Both codes are valid.\n",
    "* There is no ordering in the variable.\n",
    "> Nominal: name categories without implying order\n",
    "  \n",
    "**Ordinal scale of measurement**\n",
    "* Data exhibits properties of nominal data and the order or rank of data is meaningful, the scale of measurment is considered a `ordinal` scale.\n",
    "* Each customer who visists a restaurant provides a service rating of excellent, good, or poor.\n",
    "  * The data obtained are the labels - excellent, good, or poor - the data have the properties of nominal data.\n",
    "  * In addition, the data can be ranked, or ordered, with respect to the service quality.\n",
    "> Ordinal - name categories that can be ordered\n",
    "  \n",
    "**Interval scale of measurement**\n",
    "* If the data have all the properties of an ordinal data and the interval between values is expressed in terms of a fixed unit of measure, then the scale of measurment is `interval` scale.\n",
    "* Interval data are always numeric, Can find out difference between any two values.\n",
    "* Ratios of values have no meaning here because the value of zero is arbitratry\n",
    "* E.g. temperature\n",
    "  * Suppose the response to a question on how hot the day is comfortable and uncomfortable, then the temperature as a variable is `nominal`\n",
    "  * Suppose the answer to measuring the temperature of a liquid is cold, warm, hot - the variable is `ordinal`\n",
    "  * Example: Consider a AC room where temperature is set at $20\\degree C$ and the temperature outside the room is $40\\degree C$. It is correct to say that the difference in temperature is $20\\degree C$, but it is incorrect to say that the outdoors is twice as hot as indoors.\n",
    "  * Temperature in dgreees Fahrenheit or degrees centigrade is an interval variable. No absolute zero.\n",
    "  \n",
    "\n",
    "  ||Celsius|Fahrenheit|\n",
    "  |---|---|---|\n",
    "  |Freezing point|0|32|\n",
    "  |Boiling point|100|212|\n",
    "> Interval: numerical values that can be added/substracted (no absolute zero)\n",
    "\n",
    "**Ratio scale of measurement**\n",
    "* If the data have all the properties of interval data and the ratio of two values is meaningful, then the scale of measurement is `ratio` scale\n",
    "  * E.g., height, weight, age, marks, etc.\n",
    "> Ratio: numerical values that can be added, subtracted, multiplied or divided ( makes ratio comparisons possible)\n"
   ]
  },
  {
   "cell_type": "markdown",
   "metadata": {},
   "source": [
    "|characteristics|Scale of measurment|Examples|\n",
    "|---|---|---|\n",
    "|True zero exists<br>ratios possible|**Ratio Scale**|`Numerical Data`<br>Age, height, weight, marks etc.|\n",
    "||$\\downarrow\\downarrow\\downarrow$||\n",
    "|No absolute zero.<br>Difference exists|**Interval Scale**|Temperature, GPA etc.|\n",
    "||$\\downarrow\\downarrow\\downarrow$||\n",
    "|Named + ordered categories|**Ordinal Scale**|`Categorical Data`<br>Ranking, rating etc.|\n",
    "||$\\downarrow\\downarrow\\downarrow$||\n",
    "|Named categories|**Nominal Scale**|Name, Blood group etc.|"
   ]
  },
  {
   "cell_type": "markdown",
   "metadata": {},
   "source": [
    "<img src='media\\Datset data types.drawio.svg'>"
   ]
  },
  {
   "cell_type": "markdown",
   "metadata": {},
   "source": [
    "## Frequency distribution\n",
    "* A `frequency distribution` of qualitative data is a listing of the distinct values and their frequencies\n",
    "* Each row of a frequency table lists a category along with the number of cases in this category.\n",
    "\n",
    "E.g. A,A,B,C,A,D,A,B,D,C\n",
    "|Category|Tally mark|Frequency|Relative frequency|\n",
    "|---|---|---|---|\n",
    "|A|\\|\\|\\|\\||4|0.4|\n",
    "|B|\\|\\||2|0.2|\n",
    "|C|\\|\\||2|0.2|\n",
    "|D|\\|\\||2|0.2|\n",
    "|**Total**||10|1|"
   ]
  },
  {
   "cell_type": "markdown",
   "metadata": {},
   "source": [
    "# Charts of categorical data\n",
    "* The two most common displays of a categorical variable are a bar chart and a pie chart.\n",
    "* Both describe a categorical variable by displaying its frequency table."
   ]
  },
  {
   "cell_type": "markdown",
   "metadata": {},
   "source": [
    "## Pie charts\n",
    "* A pie chart is a circle divided into pieces proportional to the relative frequencies of the qualitative data."
   ]
  },
  {
   "cell_type": "code",
   "execution_count": 36,
   "metadata": {},
   "outputs": [
    {
     "data": {
      "image/png": "[encoded data removed]",
      "text/plain": [
       "<Figure size 720x360 with 1 Axes>"
      ]
     },
     "metadata": {},
     "output_type": "display_data"
    }
   ],
   "source": [
    "# Import libraries\n",
    "from matplotlib import pyplot as plt\n",
    "import numpy as np\n",
    " \n",
    " \n",
    "# Creating dataset\n",
    "cars = ['AUDI', 'BMW', 'FORD',\n",
    "        'TESLA', 'JAGUAR', 'MERCEDES']\n",
    " \n",
    "data = [23, 17, 35, 29, 12, 41]\n",
    " \n",
    "# Creating plot\n",
    "fig = plt.figure(figsize =(10, 5))\n",
    "plt.pie(data, labels = cars)\n",
    " \n",
    "# show plot\n",
    "plt.show()"
   ]
  },
  {
   "cell_type": "markdown",
   "metadata": {},
   "source": [
    "## Bar chart\n",
    "* A bar chart displays the distinct values of the qualitative data on a horizontal axis and the relative frequencies (or frequencies or percents) of those values on a vertical axis. The frequency/relative frequency of each distinct value is represented by a vertical bar whose height is equal to the frequency/relative frequency of that value. The bars should be positioned so that they do not touch each other."
   ]
  },
  {
   "cell_type": "code",
   "execution_count": 35,
   "metadata": {},
   "outputs": [
    {
     "data": {
      "image/png": "[encoded data removed]",
      "text/plain": [
       "<Figure size 720x360 with 1 Axes>"
      ]
     },
     "metadata": {
      "needs_background": "light"
     },
     "output_type": "display_data"
    }
   ],
   "source": [
    "# Import libraries\n",
    "from matplotlib import pyplot as plt\n",
    "import numpy as np\n",
    " \n",
    " \n",
    "# Creating dataset\n",
    "cars = ['AUDI', 'BMW', 'FORD',\n",
    "        'TESLA', 'JAGUAR', 'MERCEDES']\n",
    " \n",
    "data = [23, 17, 35, 29, 12, 41]\n",
    " \n",
    "# Creating plot\n",
    "fig = plt.figure(figsize =(10, 5))\n",
    "plt.bar(x = cars,height = data)\n",
    " \n",
    "# show plot\n",
    "plt.show()"
   ]
  },
  {
   "cell_type": "markdown",
   "metadata": {},
   "source": [
    "## Pareto charts\n",
    "* When the categories in a bar chart are sorted by frequency, the bar chart is sometimes called a `Pareto chart`. Pareto charts are popular in quality control to identify problems in a business process.\n",
    "    * If the categorical variable is ordinal, then the bar chart must preserve the ordering."
   ]
  },
  {
   "cell_type": "code",
   "execution_count": 34,
   "metadata": {},
   "outputs": [
    {
     "data": {
      "image/png": "[encoded data removed]",
      "text/plain": [
       "<Figure size 720x360 with 2 Axes>"
      ]
     },
     "metadata": {
      "needs_background": "light"
     },
     "output_type": "display_data"
    }
   ],
   "source": [
    "# Import libraries\n",
    "from matplotlib import pyplot as plt\n",
    "import numpy as np\n",
    "import pandas as pd \n",
    " \n",
    "# Creating dataset\n",
    "cars = ['AUDI', 'BMW', 'FORD',\n",
    "        'TESLA', 'JAGUAR', 'MERCEDES']\n",
    " \n",
    "data = [23, 17, 35, 29, 12, 41]\n",
    "df1 = pd.DataFrame({'cars':cars,'data':data}).sort_values(by='data',ascending=False)\n",
    "df2 = pd.DataFrame({'Size':['Small','Medium','Large'],'Freq':[7,8,5]})\n",
    " \n",
    "# Creating plot\n",
    "fig, ax = plt.subplots(1,2,figsize=(10,5))\n",
    "ax[0].bar(x = df1.cars,height = df1.data)\n",
    "ax[1].bar(x=df2.Size,height=df2.Freq)\n",
    "\n",
    "# plot accessories\n",
    "ax[0].set_xticks(df1.cars,df1.cars,rotation=90)\n",
    "ax[0].set_title('Pareto Charts (Nominal Data)')\n",
    "ax[1].set_title('Pareto Charts (Ordinal Data)')\n",
    "\n",
    "# show plot\n",
    "plt.show()"
   ]
  },
  {
   "cell_type": "markdown",
   "metadata": {},
   "source": [
    "**Many Categories**\n",
    "* A bar chart or pie chart with too many categories might conceal the more important categories. In some case, grouping other categories together might be helpful."
   ]
  },
  {
   "cell_type": "markdown",
   "metadata": {},
   "source": [
    "**The area principle**\n",
    "* Displays of data must obey a fundamental rule called the area principle.\n",
    "* The area principle says that the area occupied by a part of the graph should correspond to the amount of data it represents.\n",
    "* Violations of the `area principle` are a common way to mislead with statistics."
   ]
  },
  {
   "cell_type": "markdown",
   "metadata": {},
   "source": [
    "**Misleading graphs: voilating area principle**\n",
    "* Decorated graphics: Charts decorated to attract attention often violate the area principle\n",
    "* Every bar should be on a baseline for comparision\n",
    "* Should obey area principle and accurate  \n",
    "\n",
    "**Misleading graphs: truncated graphs**\n",
    "* Another common voilation is when the baseline of a bar chart is not at zero\n",
    "<br>..."
   ]
  },
  {
   "cell_type": "markdown",
   "metadata": {},
   "source": [
    "**Round-off errors**\n",
    "* Important to check for round-off errors\n",
    "* When table entries are percentages or proportions, the total may sum to a value slightly different from $100\\%$ or $1$. This might result in a pie chart where the total does not add up."
   ]
  },
  {
   "cell_type": "markdown",
   "metadata": {},
   "source": [
    "## Mode\n",
    "The mode of acategorical variable is the most common category, the category with the highest frequency  \n",
    "The mode labels\n",
    "* The longest bar in a bar chart\n",
    "* The widest sllice in a pie chart.\n",
    "* In a Pareto chart, the mode is the first category shown.\n",
    "\n",
    "**Bimodal and multimodal data**\n",
    "* If two or more categories tie for the highest frequency, the data are said to be bimodal(in the case of two) or multimodal (more than two).\n",
    "* Let consider the example A,A,B,C,A,C,A,B,C,C,A,C,C,D,A,A,C,D,B\n",
    "* Both category \"A\" and \"C\" have highest frequency"
   ]
  },
  {
   "cell_type": "markdown",
   "metadata": {},
   "source": [
    "## Median\n",
    "* `Ordinal data` offer another summary, the median, that is not available unless the data can be put into order.\n",
    "\n",
    "The `median` of an ordinal variable is the category of the middle observation of the sorted values\n",
    "* If there are an even number of observations, choose the category on either side of the middle of the sorted list as the median"
   ]
  },
  {
   "cell_type": "markdown",
   "metadata": {},
   "source": [
    "### Organizing numerical data\n",
    "* Recall, a discrete variable usually involves a count of something, whereas a continuous variable usually involves a measurement of something\n",
    "* First group the observations into classes(also known as categories or bins) and then treat the classes as the distinct values of qualitative data\n",
    "* Once we group the quantitative data into classes, we can construct frequency and relative-frquency distributions of the data in exactly the same way as we did for categorical data."
   ]
  },
  {
   "cell_type": "markdown",
   "metadata": {},
   "source": [
    "**Organizing discrete data(single value)**\n",
    "* If the data set contains only a relatively small number of distinct, or different, values, it is convenient to represent it in a frequency table\n",
    "* Each class represents a distinct value(single value) along with its frequency of occurrence.\n",
    "\n",
    "**Organizing continuous data**  \n",
    "Organize the data into a number of classs to make the data understandable. Howerver, there are few guidelines that need to be followed. They are \n",
    "1. Number of classes: The appropriate number is a subjective choice, the rule of thumb is to have between $5$ to $20$ classes\n",
    "2. Each observation should belong to some class and no observation should belong to more than one class.\n",
    "3. It is common, although not essential, to choose class intervals of equal length."
   ]
  },
  {
   "cell_type": "markdown",
   "metadata": {},
   "source": [
    "**Glossary**\n",
    "1. Lower class limit: The smallest value that could go in a class\n",
    "2. Upper class limit: The largest value that could go in a class\n",
    "3. Class width: the difference between the lower limit of a class and the lower limit of the next-higher class.\n",
    "4. Class mark: the average of the two class limits of a class.\n",
    "5. A class interval contains its left-end but not its right-end boundary point.\n",
    "    * [30,40)"
   ]
  },
  {
   "cell_type": "markdown",
   "metadata": {},
   "source": [
    "**Steps to construct a hitogram**  \n",
    "..."
   ]
  },
  {
   "cell_type": "markdown",
   "metadata": {},
   "source": [
    "## Stem-and-leaf diagram\n",
    "In a stem-and-leaf diagram (or stemplot), each observation is separated into two parts, namely, a stem-consisting of all but the rightmost digit-and a leaf, the rightmost digits.\n",
    "* For example, if the data are all two-digit numbers, then we could let the stem of a data value be the tens digit and the leaf be the ones digit.\n",
    "    * The value $75$ is expressed as<br>\n",
    "    $\\begin{bmatrix} \\text{Stem} & | & \\text{Leaf}\\\\\n",
    "                               7 & | & 5\\end{bmatrix}$\n",
    "    * The two values $75$, $78$ is expressed as \n",
    "    $\\begin{bmatrix} \\text{Stem} & | & \\text{Leaf}\\\\\n",
    "                               7 & | & 5,8\\end{bmatrix}$\n",
    "    * e.g.<br>\n",
    "    15,22,29,36,31,23,45,10,25,28,48\n",
    "    $\\begin{bmatrix} \\text{Stem} & | & \\text{Leaf}\\\\\n",
    "                               1 & | & 0 5\\\\\n",
    "                               2 & | & 2 3 5 8 9\\\\\n",
    "                               3 & | & 1 6\\\\\n",
    "                               4 & | & 5 8\\end{bmatrix}$"
   ]
  },
  {
   "cell_type": "markdown",
   "metadata": {},
   "source": [
    "## Descriptive measure\n",
    "* The objective is to develop measures that can be used to summarize a data set.\n",
    "* These descriptive measures are quantities whose values are determined by the data\n",
    "\n",
    "Most commonly used descriptive measures can be categorized as\n",
    "* `Measures of central` tendency: These are measures that indicate the most typical value or center of a data set.\n",
    "* `Measures of dispersion`: These measures indicate the variability or spread of a dataset"
   ]
  },
  {
   "cell_type": "markdown",
   "metadata": {},
   "source": [
    "## The Mean\n",
    "The most commonly used measure of central tendency is the mean.  \n",
    "The `mean` of a data set is the sum of the observations divided by the number of observations\n",
    "* The mean is usually referred to as `average`\n",
    "* Arithmetic average; divide the sum of the values by the number of values(another typical value)\n",
    "* For discrete observations:\n",
    "    * Sample mean: $\\bar{x} = \\displaystyle\\frac{x_1+x_2+\\dots+x_n}{n}$ ($n$ sample size)\n",
    "    * Population mean: $\\mu = \\displaystyle\\frac{x_1+x_2+\\dots+x_N}{N}$"
   ]
  },
  {
   "cell_type": "markdown",
   "metadata": {},
   "source": [
    "### Adding a constant to data and calc mean\n",
    "* Let $y_i = x_i + c$ where $c$ is a constant then $$\\bar{y} = \\bar{x} + c$$\n",
    "* Example: marks of students<br> 68, 79, 38, 68, 35, 70, 61, 47, 58, 66 with mean $\\bar{x} = 59$\n",
    "    * Suppose the teacher has decided to add 5 marks to each student.\n",
    "    * Then the data becomes<br>\n",
    "    73, 84, 43, 73, 40, 75, 66, 52, 63, 71\n",
    "    * The mean of the new data set is $\\bar{y}=\\frac{640}{10}=64=59+5=\\bar{x}+5$\n",
    "### Multiplying a constant to data and calc mean\n",
    "* Let $y_i = x_ic$ where $c$ is a constant then $$\\bar{y} = \\bar{x}c$$\n",
    "* Example: marks of students<br> 68, 79, 38, 68, 35, 70, 61, 47, 58, 66 with mean $\\bar{x} = 59$\n",
    "    * Suppose the teacher has decided to scale down each mark by $40\\%$, in other words each mark is multiplied by $0.4$.\n",
    "    * Then the data becomes<br>\n",
    "    27.2, 31.6, 15.2, 27.2, 14, 28, 24.4, 18.8, 23.2, 26.4\n",
    "    * The mean of the new data set is $\\bar{y} = \\frac{236}{10} = 23.6 = 59\\times 0.4 = \\bar{x}\\times 0.4$"
   ]
  },
  {
   "cell_type": "markdown",
   "metadata": {},
   "source": [
    "## Median\n",
    "Another frequentyl used measure of center is the median.  \n",
    "Essentially, the median of a data set is the number that divides the bottom $50\\%$ of the data from the top $50\\%$  \n",
    "<br>  \n",
    "The `median` of a data set is the middle value in its `ordered list`.\n",
    "1. If the number of observations  is odd, then the median is the observation exactly in the middle of the ordered  list, i.e., $\\displaystyle\\frac{n+1}2$ observation\n",
    "2. If the number of observations is even, then the median is the mean of the two middle obaservations in the ordered list, i.e., mean of $\\frac n2$ and $\\frac n2 +1$ observation\n",
    "\n",
    "### Adding a constant\n",
    "* Let $y_i = x_i +c$ where $c$ is a constant then<br> $$\\text{new median} = \\text{old median} + c$$\n",
    "* Example: marks of students<br> \n",
    "68, 79, 38, 68, 35, 70, 61, 47, 58, 66<br>\n",
    "Arranging in ascending order 35, 38, 46, 58, 61, 66, 68, 68, 70, 79<br>\n",
    "The median for this data is the average of $\\frac n2$ and $\\frac n2 +1$ observation<br>\n",
    "which is $\\frac{61+66}2 = \\frac{126}2 = 63.5$\n",
    "* Suppose the teacher has decided to add $5$ marks to each student.\n",
    "* Then the data in ascending order is<br>\n",
    "40, 43, 52, 63, 66, 71, 73, 73, 75, 84\n",
    "* The median of the new dataset is $\\frac{66+71}2 = \\frac{137}2 = 68.5$\n",
    "* Note $68.5 = 63.5+5$\n",
    "\n",
    "### Multiplying a constant\n",
    "* Let $y_i = x_ic$ where $c$ is a constant then<br>\n",
    "$$\\text{new median} = \\text{old median}\\times c$$\n",
    "* Example: Recall the marks of students<br> \n",
    "68, 79, 38, 68, 35, 70, 61, 47, 58, 66 with median $63.5$<br>\n",
    "* Suppose the teacher has decided to scale down each mark by $40\\%$, in other words each mark is multiplied by $0.4$.\n",
    "* then the data becomes<br>\n",
    "27.2, 31.6, 15.2, 27.2, 14, 28, 24.4, 18.8, 23.2, 26.4<br>\n",
    "The ascending order is 14, 15.2, 18.8, 23.2, 24.4, 26.4, 27.2, 28, 31.6<br>\n",
    "The median of new dataset is $\\frac{24.4+26.4}2 = \\frac{50.8}2 = 25.4$\n",
    "* Note $25.4 = 0.4\\times 63.5$"
   ]
  },
  {
   "cell_type": "markdown",
   "metadata": {},
   "source": [
    "## Mode\n",
    "Another measure of central tendency is the sample mode.\n",
    "> The mode of a data set is its most frequently occuring value.\n",
    "### Adding a constant\n",
    "$y_i = x_i + c$ where $c$ is a constant\n",
    "$$\\text{new mode} = \\text{old mode}+c$$\n",
    "### Multiplying a constant\n",
    "$y_i = x_ic$ where $c$ is a constant\n",
    "$$\\text{new mode} = \\text{old mode}\\times c$$"
   ]
  },
  {
   "cell_type": "markdown",
   "metadata": {},
   "source": [
    "## Why do we need a measure of dispersion\n",
    "* Consider the two data sets given below\n",
    "    * Dataset 1: 3, 3, 3, 3, 3\n",
    "    * Dataset 2: 1, 2, 3, 4, 5 \n",
    "* The measure of central tendency for both the data sets are\n",
    "\n",
    "||Dataset 1|Dataset 2|\n",
    "|---|---|---|\n",
    "|Mean|3|3|\n",
    "|Median|3|3|\n",
    "|Mode|3|Not available|\n",
    "\n",
    "* The mean, median are same for both the datasets. However, the datasets are not same. They are different.\n",
    "# Measure of dispersion\n",
    "> * To describe that difference quatitatively, we use a descriptive measure that indicates the amount of variation, or spread, in a data set.\n",
    "* Such description measures are referred to as \n",
    "    * measures of dispersion or\n",
    "    * measures of variation or \n",
    "    * measures of spread\n",
    "* E.g.\n",
    "    1. Range\n",
    "    2. Variance\n",
    "    3. Standard deviation\n",
    "    4. Interquartile range"
   ]
  },
  {
   "cell_type": "markdown",
   "metadata": {},
   "source": [
    "## Range\n",
    "> The range of a data set is the difference between its largest and smallest values\n",
    "*  The range of a data set is given by the formula\n",
    "$$\\text{Range} = \\text{Max} - \\text{Min}$$\n",
    "||Dataset 1|Dataset2|\n",
    "|---|---|---|\n",
    "||3,3,3,3,3|1,2,3,4,5|\n",
    "|Max<br>Min|3<br>3|5<br>1|\n",
    "|Range|0|4|\n",
    "  \n",
    "<br>  \n",
    "\n",
    "> * Range is sensitive to outliers\n",
    "\n",
    "<br>  \n",
    "\n",
    "||Dataset 1|Dataset2|\n",
    "|---|---|---|\n",
    "||1,2,3,4,5|1,2,3,4,15|\n",
    "|Max<br>Min|5<br>1|15<br>1|\n",
    "|Range|4|14|"
   ]
  },
  {
   "cell_type": "markdown",
   "metadata": {},
   "source": [
    "## Variance\n",
    "> In contrast to the Range, the variance takes into account all the observations  \n",
    "> Its the deviations of the data values from a central value\n",
    "\n",
    "### Population variance and sample variance\n",
    "* Population variance: $\\sigma^2 = \\displaystyle\\frac{(x_1-\\mu)^2+(x_2-\\mu)^2+\\dots+(x_N-\\mu)^2}N$\n",
    "* Sample variance: $s^2 = \\displaystyle\\frac{(x_1-\\bar{x})^2+(x_2-\\bar{x})^2+\\dots+(x_n-\\bar{x})^2}{n-1}$\n",
    "\n",
    "### Adding a constant\n",
    "* if $y_i = x_i +c$ then \n",
    "$$\\text{new variance} = \\text{old variance}$$\n",
    "\n",
    "### Multiplying a constant\n",
    "* if $y_i = x_ic$ then\n",
    "$$\\text{new variance} = c^2\\times \\text{old variance}$$"
   ]
  },
  {
   "cell_type": "markdown",
   "metadata": {},
   "source": [
    "## Standard deviation\n",
    "> The quantity which is the square root of sample variance is the sample standard deviation\n",
    ">$$s =\\sqrt{\\displaystyle\\frac{(x_1-\\bar{x})^2+(x_2-\\bar{x})^2+\\dots+(x_n-\\bar{x})^2}{n-1}}$$\n",
    "\n",
    "### Adding a constant\n",
    "* if $y_i = x_i + c$ then\n",
    "$$\\text{new variance} = \\text{old variance}$$\n",
    "\n",
    "### Multiplying a constant\n",
    "* if $y_i = x_ic$ then\n",
    "$$\\text{new variance} = c\\times \\text{old variance}$$"
   ]
  },
  {
   "cell_type": "markdown",
   "metadata": {},
   "source": [
    "## Percentiles\n",
    "> The sample $100p$ percentile is that data value having the property that at least $100p$ percent of the data are less than or equal to it and at least $100(1-p)$ percent of the data values are greater than or equal to it.\n",
    "\n",
    "* If two data values satisfy this condition, then the sample $100p$ percentile is the arithmetic average of these values.\n",
    "\n",
    "### Computing Percentile\n",
    "To find the sample $100p$ percentile of a data set of size $n$\n",
    "1. Arrange the data in increasing order.\n",
    "2. If $np$ is `not an integer`, determine the smallest integer greater than $np$. The data value in that position is the sample $100p$ percentile.\n",
    "3. If $np$ is `an integer`, then the average of the values in positions $np$ and $np+1$ is the sample $100p$ percentile\n",
    "\n",
    "Example  \n",
    "Let $n= 10$\n",
    "* Arrange data in ascending order 35, 38 ,47, 58, 61, 66, 68, 68, 70, 79\n",
    "\n",
    "|p|np||\n",
    "|---|---|---|\n",
    "|0.1|1|(35+38)/2=36.5|\n",
    "|0.25|2.5|46|\n",
    "|0.5|5|(61+66)/2=63.5|\n",
    "|0.75|7.5|68|\n",
    "|1|10|79|\n",
    "\n",
    "#### Computing percentile using googlesheets-PERCENTILE function\n",
    "..."
   ]
  },
  {
   "cell_type": "markdown",
   "metadata": {},
   "source": [
    "## Quartiles\n",
    "> The sample 25th percentile is called the first quartile. The sample 50th percentile is called the median or the second quartile. The sample 75th percentile is called the third quartile.\n",
    "\n",
    "## The Five Number Summary\n",
    "* Minimum\n",
    "* $Q_1$: First Quartile or lower quartile\n",
    "* $Q_2$: Second Quartile of Median\n",
    "* $Q_3$: Third Quartile or upper quartile\n",
    "* Maximum\n",
    "\n",
    "## Interquartile Range (IQR)\n",
    "> The interquartile range, IQR, is the difference between the first and third quartiles; that is, \n",
    "> $$IQR = Q_3-Q_1$$\n",
    "\n",
    "* IQR for the an examle\n",
    "    * First quartile, $Q_1 = 49.75$ \n",
    "    * Third quartile, $Q_3 = 68$\n",
    "    * $IQR = Q_3-Q_1 = 18.25$"
   ]
  },
  {
   "cell_type": "markdown",
   "metadata": {},
   "source": [
    "# Association between categorical variables\n",
    "## Contigency tables\n",
    "Example 1: Gender versus use of smartphone\n",
    "* The categorical variables in this example are\n",
    "    * Gender: Male, Female (2 categories) - Nominal variable\n",
    "    * Own a smartphone: Yes, No (2 categories) - Nominal variable\n",
    "* We have the following summary statistics\n",
    "    1. There are 44 female and 56 male students\n",
    "    2. 76 students owned a smartphone, 24 did not own.\n",
    "    3. 34 female students owned a smartphone, 42 male students owned a smartphone.\n",
    "* The data given in this example can be organized using a two-way table, referred to as `contingency table`\n",
    "> if the data is ordinal maintain the order of the data\n",
    "\n",
    "<br>  \n",
    "\n",
    "|||own N or Y|Rowtotal|\n",
    "|---|---|---|---|\n",
    "|**Gender**|Female<br>Male|10 $\\text{~~~~}$ 34<br>14 $\\text{~~~~}$ 42|44<br>56|\n",
    "|**col total**||24 $\\text{~~~~}$ 76|100|\n",
    "\n",
    "Example 2: Income versus use of smartphone\n",
    "* The categorical variables in this example are\n",
    "    * Income: Low, Medium, High (3 categories) - Ordinal variable\n",
    "    * Own a smartphone: Yes, No (2 categories) - Nominal variable\n",
    "\n",
    "||Own a smartphone||\n",
    "|---|---|---|\n",
    "|Income|No $\\text{~~~~}$ Yes|Grand Total|\n",
    "|High|2 $\\text{~~~~}$ 18|20|\n",
    "|Low|9 $\\text{~~~~}$ 5|14|\n",
    "|Medium|27 $\\text{~~~~}$ 39|66|\n",
    "|Grand Total|38 $\\text{~~~~}$ 62|100|\n",
    "\n",
    "* if Income variable is coded as 1:High; 2:Medium; 3:Low then\n",
    "\n",
    "||Own a smartphone||\n",
    "|---|---|---|\n",
    "|Income(coded)|No $\\text{~~~~}$ Yes|Grand Total|\n",
    "|1|2 $\\text{~~~~}$ 18|20|\n",
    "|2|27 $\\text{~~~~}$ 39|66|\n",
    "|3|9 $\\text{~~~~}$ 5|14|\n",
    "|Grand Total|38 $\\text{~~~~}$ 62|100|\n",
    "\n",
    "In this table the **Order is preserved**"
   ]
  },
  {
   "cell_type": "markdown",
   "metadata": {},
   "source": [
    "## Relative frequencies\n",
    "\n",
    "**Row relative frequency**\n",
    "\n",
    "|||own N or Y|Rowtotal|\n",
    "|---|---|---|---|\n",
    "|**Gender**|Female<br>Male|10/44 $\\text{~~~~}$ 34/44<br>14/56 $\\text{~~~~}$ 42/56|44<br>56|\n",
    "|**col total**||24/100 $\\text{~~~~}$ 76/100|100|\n",
    "\n",
    "<br>  \n",
    "\n",
    "|||own N or Y|Rowtotal|\n",
    "|---|---|---|---|\n",
    "|**Gender**|Female<br>Male|22.73% $\\text{~~~~}$ 77.27%<br>25.00% $\\text{~~~~}$ 75.00%|44<br>56|\n",
    "|**col total**||24.00% $\\text{~~~~}$ 76.00%|100|\n",
    "\n",
    "**Column relative frequency**\n",
    "\n",
    "|||own N or Y|Rowtotal|\n",
    "|---|---|---|---|\n",
    "|**Gender**|Female<br>Male|10/24 $\\text{~~~~}$ 34/76<br>14/24 $\\text{~~~~}$ 42/76|44/100<br>56/100|\n",
    "|**col total**||24 $\\text{~~~~}$ 76|100|\n",
    "\n",
    "<br>  \n",
    "\n",
    "|||own N or Y|Rowtotal|\n",
    "|---|---|---|---|\n",
    "|**Gender**|Female<br>Male|41.67% $\\text{~~~~}$ 44.74%<br>58.33% $\\text{~~~~}$ 55.26%|44.00%<br>56.00%|\n",
    "|**col total**||24 $\\text{~~~~}$ 76|100|\n",
    "\n",
    "### Association between two variables\n",
    "* If the row relative frequencies (the column relative frequencies) are the `same` for all rows(columns) then we say that the two variables are not associated with each other\n",
    "* If the row relative frequencies (the column relative frequencies) are the `different` for some rows(columns) then we say that the two variables are associated with each other\n",
    "\n",
    "|||own N or Y|Rowtotal|\n",
    "|---|---|---|---|\n",
    "|**Gender**|Female<br>Male|22.73% $\\text{~~~~}$ 77.27%<br>25.00% $\\text{~~~~}$ 75.00%|44<br>56|\n",
    "|**col total**||24.00% $\\text{~~~~}$ 76.00%|100|\n",
    "\n",
    "<br>  \n",
    "\n",
    "|||own N or Y|Rowtotal|\n",
    "|---|---|---|---|\n",
    "|**Gender**|Female<br>Male|41.67% $\\text{~~~~}$ 44.74%<br>58.33% $\\text{~~~~}$ 55.26%|44.00%<br>56.00%|\n",
    "|**col total**||24 $\\text{~~~~}$ 76|100|\n",
    "\n",
    "Gender and smartphone ownership are not associated"
   ]
  },
  {
   "cell_type": "markdown",
   "metadata": {},
   "source": [
    "## Graphical representaion\n",
    "* Stacked bar chart\n",
    "* 100% stacked bar chart\n",
    "\n",
    "..."
   ]
  },
  {
   "cell_type": "markdown",
   "metadata": {},
   "source": [
    "# Assosication between numerical variables"
   ]
  },
  {
   "cell_type": "markdown",
   "metadata": {},
   "source": [
    "## Scatter plot\n",
    "> A scatter plot is a graph that displays pairs of values as points on a two-dimensional plane\n",
    "\n",
    "* explanatory variable on x-axis and response variable on y-axis\n",
    "* check the relation visually\n",
    "\n",
    "### describing assosication\n",
    "1. Direction\n",
    "2. Curvature\n",
    "3. Variation: Are the points tightly clustered along the pattern?\n",
    "4. Outliers: Did you find something unexpected?"
   ]
  },
  {
   "cell_type": "markdown",
   "metadata": {},
   "source": [
    "## Measure of association\n",
    "* **Covariance**\n",
    "* **Correlation**\n",
    "\n",
    "### Covariance\n",
    "> Covariance quantifies the strength of the linear association between two numerical variables.\n",
    "\n",
    "<br>\n",
    "\n",
    "|X|Y|Deviation(x,y)|\n",
    "|---|---|---|\n",
    "|Large(Small)|Large(small)|Same|\n",
    "|Large(small)|Small(Large)|different|\n",
    "\n",
    "* Population covariance: $\\text{Cov}(x,y) = \\displaystyle\\frac{\\sum_{i=1}^n(x_i-\\bar{x})(y_i-\\bar{y})}N$\n",
    "* Sample covariance: $\\text{Cov}(x,y) = \\displaystyle\\frac{\\sum_{i=1}^n(x_i-\\bar{x})(y_i-\\bar{y})}{n-1}$\n",
    "\n",
    "### Units of Covariance\n",
    "* The size of the covariance, however, is difficult to interpret because the covariance has units.\n",
    "* The units of the covariance are those of the x-variable times those of the y-variable\n",
    "\n",
    "### Correlation\n",
    "* A more easily intepreted measure of linear association between two numerical variables is correlation\n",
    "* It is derived from covariance\n",
    "\n",
    "$r = \\displaystyle\\frac{\\sum_{i=1}n (x_i-\\bar{x})(y_i-\\bar{y})}{\\sqrt{\\sum_{i=1}^n (x_i-\\bar{x})^2}\\sqrt{\\sum_{i=1}^n (y_i-\\bar{y})^2}} = \\frac{\\text{cov}(x,y)}{s_xs_y}$<br>  \n",
    "\n",
    "$-1<r<1$\n",
    "\n",
    "### $R^2$\n",
    "> Goodness of fit measure\n",
    "\n",
    "$R^2 =$ squre of covarience( $r$ )  \n",
    "$0\\leq R^2 \\leq 1$"
   ]
  },
  {
   "cell_type": "markdown",
   "metadata": {},
   "source": [
    "|Association between<br> Categorical variables|Association between<br> Numerical variable|\n",
    "|---|---|\n",
    "|1. Contigency table<br>2. Relative frequence<br>$\\text{~~~~}\\hookrightarrow$ row<br>$\\text{~~~~}\\hookrightarrow$ column|1. Scatter plot<br>$\\text{~~~~}\\hookrightarrow$ Direction<br>$\\text{~~~~}\\hookrightarrow$ Curvature<br>$\\text{~~~~}\\hookrightarrow$ Variation<br>$\\text{~~~~}\\hookrightarrow$ Outliers<br>2. Covariance, Correlation<br>3. Equation of line, $R^2$|"
   ]
  },
  {
   "cell_type": "markdown",
   "metadata": {},
   "source": [
    "# Find relation between categorical and numerical variables\n",
    "the realtion can be observed by plotting a scatter plot with categorical on x-axis and numerical on y-axis\n",
    "## Point Bi-serial Correlation Coefficient\n",
    "now to find the strength of association between categorical and numerical variable we use following formula, Such that Categorical variable is dichotomous varible (only two categories)\n",
    "$$r_{pb}=\\displaystyle\\bigg(\\frac{\\bar{Y}_0-\\bar{Y}_1}{s_x}\\bigg)\\sqrt{p_0p_1}$$"
   ]
  },
  {
   "cell_type": "markdown",
   "metadata": {},
   "source": [
    "-----"
   ]
  },
  {
   "cell_type": "markdown",
   "metadata": {},
   "source": [
    "# Permutations and Combinations"
   ]
  },
  {
   "cell_type": "markdown",
   "metadata": {},
   "source": [
    "### Addition rule of counting\n",
    "* If an action $A$ can occur in $n_1$ different ways, another action $B$ can occur in $n_2$ different ways, then the total number of occurrence of the actions $A$ <b>or</b> $B$ is $n_1 + n_2$\n",
    "    * e.g.: if there are 4 shirts and 3 pants, and we have to find number of ways to buy `Either one shirt or one pant`\n",
    "      * $\\therefore$ no. of ways $=4+3=7$\n",
    "\n",
    "### "
   ]
  },
  {
   "cell_type": "markdown",
   "metadata": {},
   "source": [
    "### Multiplication rule of counting\n",
    "* If an action $A$ can occur in $n_1$ different ways, another action $B$ can occur in $n_2$ different ways, then the total number of occurrence of the actions $A$ <b>and</b> $B$ together is $n_1\\times n_2$\n",
    "* Suppose that $r$ actions are to be performed in a definite order. Further suppose that there are $n_1$ possibilities for the first action and that corresponding to each of these possibilities are $n_2$ possibilities for the second action, and so on. <br>Then there are $n_1\\times n_2\\times \\dots\\times n_r$ possibilities altogether for the $r$ actions.\n",
    "    * e.g. 1: `choosing a combo of 1 shirt, 1 pant and 1 shoes` if there are 3 shirts, 4 pants and 2 shoes\n",
    "        * no. of ways $=3\\times 4\\times 2$\n",
    "    * e.g. 2: `Creating alpha-numeric code`<br>\n",
    "      Create a Six digit alpha-numeric password with first two letters followed by four numbers\n",
    "        * Repetition allowed<br>\n",
    "          no. of ways $= 26\\times 26\\times 10\\times 10\\times 10\\times 10 = 6,760,000$\n",
    "        * Repetition not allowed<br>\n",
    "          no. of ways $= 26\\times 25\\times 10\\times 9\\times 8\\times 7 = 3,276,000$"
   ]
  },
  {
   "cell_type": "markdown",
   "metadata": {},
   "source": [
    "#### Factorial Notation\n",
    "* E.g.: `Order of finishes in a race` <br>\n",
    "No. of ways in which a race of 8 people can be finished<br>\n",
    "$=8\\times 7\\times 6\\times 5\\times 4\\times 3\\times 2\\times 1 = 8!$  \n",
    "* if $i\\leq n$ then\n",
    "  * $n! = n\\times(n-1)\\times\\dots\\times(n-i+1)\\times(n-i)!$"
   ]
  },
  {
   "cell_type": "markdown",
   "metadata": {},
   "source": [
    "$^nC_r = \\displaystyle\\frac{n!}{(n-r)\\times r!} \\text{~~~~} ^nP_r = \\frac{n!}{(n-r)!}$\n",
    "* $^nCr = ^nC_{n-r}$\n",
    "* $^nCr = \\frac{^nP_r}{r!}$\n"
   ]
  },
  {
   "cell_type": "markdown",
   "metadata": {},
   "source": [
    "||Repeats allowed|No Repeats|\n",
    "|--|--|--|\n",
    "|**Permutations (order matters):**|$n^r$|$\\displaystyle ^nP_r$|\n",
    "|**Combinations (order doesn't matter):**|$\\displaystyle ^{(r+n-1)}C_r$|$\\displaystyle ^nC_r$|"
   ]
  },
  {
   "cell_type": "code",
   "execution_count": 15,
   "metadata": {},
   "outputs": [
    {
     "data": {
      "text/plain": [
       "12.0"
      ]
     },
     "execution_count": 15,
     "metadata": {},
     "output_type": "execute_result"
    }
   ],
   "source": [
    "(6*5*4*3*2)/(15*4)"
   ]
  }
 ],
 "metadata": {
  "interpreter": {
   "hash": "57baa5815c940fdaff4d14510622de9616cae602444507ba5d0b6727c008cbd6"
  },
  "kernelspec": {
   "display_name": "Python 3.7.8 64-bit",
   "language": "python",
   "name": "python3"
  },
  "language_info": {
   "codemirror_mode": {
    "name": "ipython",
    "version": 3
   },
   "file_extension": ".py",
   "mimetype": "text/x-python",
   "name": "python",
   "nbconvert_exporter": "python",
   "pygments_lexer": "ipython3",
   "version": "3.7.8"
  },
  "orig_nbformat": 4
 },
 "nbformat": 4,
 "nbformat_minor": 2
}
