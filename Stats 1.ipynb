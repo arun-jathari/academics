{
 "cells": [
  {
   "cell_type": "markdown",
   "metadata": {},
   "source": [
    "# Statistics\n",
    "*Definition*  \n",
    "Statistics is the art of learning from data. It is concerned with the collection of data, their subsequent description, and their analysis which often leads to the drawing of conclusions  \n",
    "  \n",
    "**Major branches**  \n",
    "1. **Description**\n",
    "The part of statistics concerned with the description and summarization of data is called `descriptive statistics`\n",
    "2. **Inference**  \n",
    "The part of statistics concerned with the drawing of coclusions from data is called inferential statistics.\n",
    "    * To be able to draw a conclusion from the data, we must take into account the possibility of chance introduction to probability."
   ]
  },
  {
   "cell_type": "markdown",
   "metadata": {},
   "source": [
    "**Population and sample**  \n",
    "* The total collection of all the elements that we are interested in is called a `population`.\n",
    "* A subgroup of the population that will be studied in detail is called a `sample`."
   ]
  },
  {
   "cell_type": "markdown",
   "metadata": {},
   "source": [
    "**Puspose of statistical analysis**  \n",
    "* If the purpose of the analysis is to examine and explore information for its own intrinsic interest only, the study is descriptive.\n",
    "* If the information is obtained from a sample of a population and the purpose of the study is to use that infrormation to draw conclusions about the population, the study is inferential.\n",
    "* A descriptive study may be performed either on a sample or on a population.\n",
    "* when an inference is made about the population, based on information obtained from the sample, does the study become inferential."
   ]
  },
  {
   "cell_type": "markdown",
   "metadata": {},
   "source": [
    "**Data collection**\n",
    "* Data available: published data.\n",
    "    * https://data.gov.in\n",
    "* Data not available: need to collect, generate data."
   ]
  },
  {
   "cell_type": "markdown",
   "metadata": {},
   "source": [
    "**Dataset**\n",
    "* A structured collection of Data\n",
    "* it is a collection of values-could be numbers, names, roll numbers"
   ]
  },
  {
   "cell_type": "markdown",
   "metadata": {},
   "source": [
    "**Variables and cases**\n",
    "* Case ( observation ): A unit from which data are collected\n",
    "* Variable:\n",
    "    * Intuitive: A variable is that \"varies\".\n",
    "    * Formally: A characteristic or attribute that varies across all units.\n",
    "* *Rows represent cases:* for each cse, same attribute is recorded\n",
    "* *Columns represent variables:* For each variables, same type of value for each case is recorded."
   ]
  },
  {
   "cell_type": "markdown",
   "metadata": {},
   "source": [
    "**Categorical and numerical variables**\n",
    "* **Categorical data**\n",
    "    * Also called qualitative variables.\n",
    "    * Identify group membership\n",
    "* **Numerical data**\n",
    "    * Also called quantitative variables.\n",
    "    * Describe numerical properties of cases\n",
    "    * Have measurement units\n",
    "* **Measurement units**: Scale that defines the meaning of numerical data, such as wieghts measured in kilograms, prices in rupees heights in centimeters, etc.\n",
    "    * The data that make up a numerical variable in a data table must share a common unit."
   ]
  },
  {
   "cell_type": "markdown",
   "metadata": {},
   "source": [
    "**Cross-sectional and time-series data**\n",
    "* Time series - data recorded over time\n",
    "* Timeplot - graph of a time series showing values in chronological order\n",
    "* Cross-sectional - data observed at the same time\n",
    "> Check whether data is collected at a point of time (cross-sectional data) or over time (time-series data)"
   ]
  }
 ],
 "metadata": {
  "language_info": {
   "name": "python"
  },
  "orig_nbformat": 4
 },
 "nbformat": 4,
 "nbformat_minor": 2
}
