{
 "cells": [
  {
   "cell_type": "markdown",
   "metadata": {},
   "source": [
    "# Week 1"
   ]
  },
  {
   "cell_type": "markdown",
   "metadata": {},
   "source": [
    "## Vectors"
   ]
  },
  {
   "cell_type": "markdown",
   "metadata": {},
   "source": [
    "## Matrices"
   ]
  },
  {
   "cell_type": "markdown",
   "metadata": {},
   "source": [
    "### Diagonal Matrix\n"
   ]
  },
  {
   "cell_type": "markdown",
   "metadata": {},
   "source": [
    "A square matrix in which all entries except the diagonal are 0 is called a diagonal matrix"
   ]
  },
  {
   "cell_type": "markdown",
   "metadata": {},
   "source": [
    "### Scalar matrix\n"
   ]
  },
  {
   "cell_type": "markdown",
   "metadata": {},
   "source": [
    "A diagonal matrix in which all the entries in the diagonal are equal is called a scalar matrix."
   ]
  },
  {
   "cell_type": "markdown",
   "metadata": {},
   "source": [
    "### Identity matrix\n"
   ]
  },
  {
   "cell_type": "markdown",
   "metadata": {},
   "source": [
    "The scalar matrix with all diagonal entries 1 is called the identity matrix and i denoted by I."
   ]
  },
  {
   "cell_type": "markdown",
   "metadata": {},
   "source": [
    "### Addition of matrices\n",
    "### Scalar multiplications\n",
    "### Matrix multiplications\n"
   ]
  },
  {
   "cell_type": "markdown",
   "metadata": {},
   "source": [
    "$(AB)_{ij}=\\sum^n_{k=1}A_{ik}B_{kj}$  \n",
    "\n",
    "note: multiplication of matrices A and B is defined only when the number of column s of A is the same as the number of rows of B.  \n",
    "<br>\n",
    "Scalar multiplication by c = multiplication by scalr matrix cI.  \n",
    "$cI_{m\\times m} \\times A_{m\\times n} = cA_{m\\times n}$"
   ]
  },
  {
   "cell_type": "markdown",
   "metadata": {},
   "source": [
    "- $(A+B)+C=A+(B+C)$ (Associativity of addition)\n",
    "- $(AB)C = A(BC)$ (Associativity of multiplication)\n",
    "- $A+B=B+A$ (Commutativity of addition)\n",
    "- In general $AB\\neq BA$ (assuming both make sense)\n",
    "- $\\lambda(A+B) = \\lambda A + \\lambda B$\n",
    "- $\\lambda(AB) = (\\lambda A)B = A(\\lambda B)$\n",
    "- $A(B+C) = AB+AC$\n",
    "- $(A+B)C = AC +BC$"
   ]
  },
  {
   "cell_type": "markdown",
   "metadata": {},
   "source": [
    "## System linear equations"
   ]
  },
  {
   "cell_type": "markdown",
   "metadata": {},
   "source": [
    "### Linear equations\n"
   ]
  },
  {
   "cell_type": "markdown",
   "metadata": {},
   "source": [
    "a linear equation is an equation of the form   \n",
    "$a_1x_1 + a_2x_2+...+a_nx_n=b$  \n",
    "where $x_1,x_2,...,x_n$ are the variables  and   \n",
    "$a_1,a_2,...,a_n$ are the coefficients, which are real numbers. \n"
   ]
  },
  {
   "cell_type": "markdown",
   "metadata": {},
   "source": [
    "### Matrix Representation\n"
   ]
  },
  {
   "cell_type": "markdown",
   "metadata": {},
   "source": [
    "$Ax=b$  \n",
    "where $A$ is a $m\\times n$ matrix, $x$ is a column vector with $n$ entries and b is a column vector with m entries\n",
    "$A=\\begin{bmatrix} a_{11} & a_{12} & \\dots & a_{1n} \\\\\n",
    "a_{21} & a_{22} & \\dots & a_{2n} \\\\\n",
    "\\vdots & \\vdots & \\dots & \\vdots\\\\\n",
    "a_{m1} & a_{m2} & \\dots & a_{mn}\\end{bmatrix}_{m\\times n} \\text{~~~~~~~~~~~~~}\n",
    "x = \\begin{bmatrix} x_1 \\\\ x_2 \\\\ \\vdots \\\\ x_n\\end{bmatrix}_{n\\times 1} \\text{~~~~~~~~}\n",
    "b = \\begin{bmatrix} b_1 \\\\ b_2 \\\\ \\vdots \\\\ b_m\\end{bmatrix}_{m\\times 1}$"
   ]
  },
  {
   "cell_type": "markdown",
   "metadata": {},
   "source": [
    "### Solutions to a linear system"
   ]
  },
  {
   "cell_type": "markdown",
   "metadata": {},
   "source": [
    "There are 3 possibilities:  \n",
    "1) The system has infinitely many solutions.\n",
    "2) The system has a single unique solution.\n",
    "3) The system has no solution."
   ]
  },
  {
   "cell_type": "markdown",
   "metadata": {},
   "source": [
    "## Determinants"
   ]
  },
  {
   "cell_type": "markdown",
   "metadata": {},
   "source": [
    "$A = \\begin{bmatrix} a & b \\\\ c & d\\end{bmatrix} \\text{~~~~~}  \n",
    "det(A) = ad-bc$  \n",
    "$A=\\begin{bmatrix} a_{11} & a_{12} &  a_{13} \\\\\n",
    "a_{21} & a_{22} &  a_{23} \\\\\n",
    "a_{31} & a_{32} &  a_{33}\\end{bmatrix}$\n",
    "<br>\n",
    "$\\begin{bmatrix} a_{11} & . &  . \\\\\n",
    ". & a_{22} &  a_{23} \\\\\n",
    ". & a_{32} &  a_{33} \\end{bmatrix} \\begin{bmatrix} . & a_{12} &  . \\\\\n",
    "a_{21} & . &  a_{23} \\\\\n",
    "a_{31} & . &  a_{33} \\end{bmatrix} \\begin{bmatrix} . & . &  a_{13} \\\\\n",
    "a_{21} & a_{22} &  . \\\\\n",
    "a_{31} & a_{32} &  . \\end{bmatrix}$\n",
    "<br>\n",
    "$det(A) = a_{11}\\times det\\begin{bmatrix} a_{22} & a_{23}\\\\a_{32} & a_{33}\\end{bmatrix} - a_{12}\\times det\\begin{bmatrix} a_{21} & a_{23}\\\\a_{31} & a_{33}\\end{bmatrix} + a_{13}\\times det\\begin{bmatrix} a_{21} & a_{22}\\\\a_{31} & a_{32}\\end{bmatrix} $"
   ]
  },
  {
   "cell_type": "markdown",
   "metadata": {},
   "source": [
    "### Determinant of product of matrices\n"
   ]
  },
  {
   "cell_type": "markdown",
   "metadata": {},
   "source": [
    "Let $A=\\begin{bmatrix} a&b\\\\c&d\\end{bmatrix}$ and $B=\\begin{bmatrix} e&f\\\\g&h\\end{bmatrix}$  \n",
    "<br>\n",
    "Then $AB = \\begin{bmatrix} ae+bg&af+bh\\\\ce+dg&cf+dh\\end{bmatrix}$  \n",
    "<br>\n",
    "\n",
    "$det(AB) = (ae+bg)(cf+dh)-(af+bh)(ce+dg)\\text{~~~~~~~~~~~~~~~~~~~~~~~~~~~~~~~~~~~~~~~~~~~~~}\\\\\n",
    "= aecf+bgcf+aedh+bgdh-afce-bhce-afdg-bhdg\\\\\n",
    "= bgcf+aedh-bhce-afdg\\text{~~~~~~~~~~~~~~~~~~~~~~~~~~~~~~~~~~~~~~~~~~~~~~~~~~~~}\\\\\n",
    "= (ad-bc)(eh-fg)\\text{~~~~~~~~~~~~~~~~~~~~~~~~~~~~~~~~~~~~~~~~~~~~~~~~~~~~~~~~~~~~~~~~~~~}\\\\\n",
    "= det(A)det(B)\\text{~~~~~~~~~~~~~~~~~~~~~~~~~~~~~~~~~~~~~~~~~~~~~~~~~~~~~~~~~~~~~~~~~~~~~~~~~~~~}$"
   ]
  },
  {
   "cell_type": "markdown",
   "metadata": {},
   "source": [
    "### Determinant of the inverse of a matrix"
   ]
  },
  {
   "cell_type": "markdown",
   "metadata": {},
   "source": [
    "$AA^{-1} = I = A^{-1}A\\\\\n",
    "det(AA^{(-1)}) = det(I)\\\\\n",
    "det(A)det(A^{-1})= det(I)$\n",
    "$\\therefore det(A^{-1})=\\displaystyle\\frac 1{det(A)}\\\\ \n",
    " \\text{~~~~~~~~~~~~~~~~~~}= det(A)^{-1}$  "
   ]
  },
  {
   "cell_type": "markdown",
   "metadata": {},
   "source": [
    "## Properties"
   ]
  },
  {
   "cell_type": "markdown",
   "metadata": {},
   "source": [
    "$det(\\lambda A_{m\\times m})=\\lambda^m det(A_{m\\times m})$"
   ]
  },
  {
   "cell_type": "markdown",
   "metadata": {},
   "source": [
    "### Properties: Switching two rows\n"
   ]
  },
  {
   "cell_type": "markdown",
   "metadata": {},
   "source": [
    "Let $A=\\begin{bmatrix} a&b\\\\c&d\\end{bmatrix} \\implies$ Define $\\bar{A}=\\begin{bmatrix} c&d\\\\a&b\\end{bmatrix}$   \n",
    "$det(\\bar{A})\\\\\n",
    "=cb-da\\\\\n",
    "=-(ad-bc)\\\\\n",
    "=-det(A)$."
   ]
  },
  {
   "cell_type": "markdown",
   "metadata": {},
   "source": [
    "### Properties: Switching two columns\n"
   ]
  },
  {
   "cell_type": "markdown",
   "metadata": {},
   "source": [
    "Let $A=\\begin{bmatrix} a&b\\\\c&d\\end{bmatrix} \\implies$ Define $\\bar{A}=\\begin{bmatrix} b&a\\\\d&c\\end{bmatrix}$   \n",
    "$det(\\bar{A})\\\\\n",
    "=bc-ad\\\\\n",
    "=-(ad-bc)\\\\\n",
    "=-det(A)$."
   ]
  },
  {
   "cell_type": "markdown",
   "metadata": {},
   "source": [
    "The above properties are alos valid for $3\\times 3$ matrices"
   ]
  },
  {
   "cell_type": "markdown",
   "metadata": {},
   "source": [
    "### Properties: Adding multiples of a row to another row\n"
   ]
  },
  {
   "cell_type": "markdown",
   "metadata": {},
   "source": [
    "Let $A=\\begin{bmatrix} a&b\\\\c&d\\end{bmatrix} \\implies$ Define $\\bar{A}=\\begin{bmatrix} a+tc&b+td\\\\c&d\\end{bmatrix}$ \n",
    "\n",
    "$\\det(\\bar{A})\\\\\n",
    "=(a+tc)d-(b+td)c\\\\\n",
    "=ad+tcd-bc-tdc\\\\\n",
    "=ad-bc\\\\\n",
    "=det(A)$"
   ]
  },
  {
   "cell_type": "markdown",
   "metadata": {},
   "source": [
    "### Properties: Adding multiples of a column to another column\n"
   ]
  },
  {
   "cell_type": "markdown",
   "metadata": {},
   "source": [
    "Let $A=\\begin{bmatrix} a&b\\\\c&d\\end{bmatrix} \\implies$ Define $\\bar{A}=\\begin{bmatrix} a+tb&b\\\\c+td&d\\end{bmatrix}$ \n",
    "\n",
    "$\\det(\\bar{A})\\\\\n",
    "=(a+tb)d-b(c+td)\\\\\n",
    "=ad+tbd-bc-btd\\\\\n",
    "=ad-bc\\\\\n",
    "=det(A)$"
   ]
  },
  {
   "cell_type": "markdown",
   "metadata": {},
   "source": [
    "The above properties are alos valid for $3\\times 3$ matrices"
   ]
  },
  {
   "cell_type": "markdown",
   "metadata": {},
   "source": [
    "### Properties: Scalar multiplication of a row by a constant t.\n"
   ]
  },
  {
   "cell_type": "markdown",
   "metadata": {},
   "source": [
    "Let $A=\\begin{bmatrix} a&b\\\\c&d\\end{bmatrix} \\implies$ Define $\\bar{A}=\\begin{bmatrix} ta&tb\\\\c&d\\end{bmatrix}$ \n",
    "\n",
    "$\\det(\\bar{A})\\\\\n",
    "=tad-tbc\\\\\n",
    "=t(ad-bc)\\\\\n",
    "=t.det(A)$"
   ]
  },
  {
   "cell_type": "markdown",
   "metadata": {},
   "source": [
    "### Properties: Scalar multiplication of a column by a constant t.\n"
   ]
  },
  {
   "cell_type": "markdown",
   "metadata": {},
   "source": [
    "Let $A=\\begin{bmatrix} a&b\\\\c&d\\end{bmatrix} \\implies$ Define $\\bar{A}=\\begin{bmatrix} a&tb\\\\c&td\\end{bmatrix}$ \n",
    "\n",
    "$\\det(\\bar{A})\\\\\n",
    "=atd-tbc\\\\\n",
    "=t(ad-bc)\\\\\n",
    "=t.det(A)$"
   ]
  },
  {
   "cell_type": "markdown",
   "metadata": {},
   "source": [
    "The above properties are alos valid for $3\\times 3$ matrices"
   ]
  },
  {
   "cell_type": "markdown",
   "metadata": {},
   "source": [
    "### The transpose of a matrix and its determinant"
   ]
  },
  {
   "cell_type": "markdown",
   "metadata": {},
   "source": [
    "The transpose of $A_{m\\times n}$ is the $n\\times m$ matrix with $(i,j)^{th}$ entry $A_{ji}$.  \n",
    "Notation : $A^T$ Definition: $(A^T)_{ij}=A_{ij}$  \n",
    "Let $A=\\begin{bmatrix} a_{11} & a_{12} & a_{13} \\\\ a_{21} & a_{22} & a_{23} \\\\ a_{31} & a_{32} & a_{33} \\end{bmatrix}$ then $A^T = \\begin{bmatrix} a_{11} & a_{21} & a_{31} \\\\ a_{12} & a_{22} & a_{32} \\\\ a_{13} & a_{23} & a_{33} \\end{bmatrix}$  \n",
    "$$det(A^T) = det(A)$$"
   ]
  },
  {
   "cell_type": "markdown",
   "metadata": {},
   "source": [
    "### Minors and Cofactors"
   ]
  },
  {
   "cell_type": "markdown",
   "metadata": {},
   "source": [
    "If $A$ is an $n\\times n$ square matrix with $n\\leq 4$. Then the minor of the entry in the $i^{th}$ row and $j^{th}$ column is the determinant of the submatrix formed by deleting the $i^{th}$ row and $j^{th}$ column.  \n",
    "Name : the $(i,j)^{th}$ minor Notation : $M_{ij}$  \n",
    "Example: $A=\\begin{bmatrix} a_{11} & a_{12} & a_{13} \\\\ a_{21} & a_{22} & a_{23} \\\\ a_{31} & a_{32} & a_{33} \\end{bmatrix}$,  $M_{11}=det\\begin{bmatrix} a_{22} & a_{23} \\\\ a_{32} & a_{33} \\end{bmatrix}$.  \n",
    "The $(i,j)^{th}$ cofactor $C_{ij} = (-1)^{i+j}M_{ij}$.  \n",
    "Above example: $C_{11}=(-1)^{1+1}M_{11}=M_{11}$  \n",
    "\n",
    "$det(A) = a_{11}\\times det\\begin{bmatrix} a_{22} & a_{23}\\\\a_{32} & a_{33}\\end{bmatrix} - a_{12}\\times det\\begin{bmatrix} a_{21} & a_{23}\\\\a_{31} & a_{33}\\end{bmatrix} + a_{13}\\times det\\begin{bmatrix} a_{21} & a_{22}\\\\a_{31} & a_{32}\\end{bmatrix} $  \n",
    "$=a_{11}\\times M_{11}-a_{12}\\times M_{12}+a_{13}\\times M_{13}$  \n",
    "$=a_{11}\\times C_{11}+a_{12}\\times C_{12}+a_{13}\\times C_{13}$  "
   ]
  },
  {
   "cell_type": "markdown",
   "metadata": {},
   "source": [
    "### Expansion along any row or column"
   ]
  },
  {
   "cell_type": "markdown",
   "metadata": {},
   "source": [
    "$det(A) = \\sum^n_{j=1}(-1)^{i+j}a_{ij}M_{ij}$ for a fixed $i$  \n",
    "$= \\sum^n_{i=1}(-1)^{i+j}a_{ij}M_{ij}$ for a fixed $j$"
   ]
  },
  {
   "cell_type": "markdown",
   "metadata": {},
   "source": [
    "## Properties and identities"
   ]
  },
  {
   "cell_type": "markdown",
   "metadata": {},
   "source": [
    "### Important"
   ]
  },
  {
   "cell_type": "markdown",
   "metadata": {},
   "source": [
    "Property 1: Determinant of a product is product of the determinants. Related identity: $det(AB) = det(A)det(B)$  \n",
    "Property 2: Switching two rows or columns changes the sign.  \n",
    "Property 3: Adding multiples of a row to another row leaves the determinant unchanged.  \n",
    "Property 3': Adding multiples of a column to another column leaves the determinant unchanged.   \n",
    "Property 4: Scalar multiplication of a row by a constant $t$ multiplies the determinant by $t$.  \n",
    "Property 4': Scalar multiplication of a column by a constant $t$ multiplies the determinant by $t$.  \n",
    "NOTE: $det(tA_{n\\times n}) = t^n det(A)$"
   ]
  },
  {
   "cell_type": "markdown",
   "metadata": {},
   "source": [
    "### Useful Computational tips"
   ]
  },
  {
   "cell_type": "markdown",
   "metadata": {},
   "source": [
    "1) The determinant of a matrix with a row or column of zeros is 0.\n",
    "2) The determinant of a matrix in which one row(or column) is a linear combination of other rows(resp. columns) is 0.  \n",
    "3) Scalar multiplication of a row by a constant $t$ multiplies the determinant by $t$.  \n",
    "4) While computing the determinant, you can choose to compute it using expansion along a suitable row or column"
   ]
  },
  {
   "cell_type": "markdown",
   "metadata": {},
   "source": [
    "### Properties determinant of a upper triangular matrix\n"
   ]
  },
  {
   "cell_type": "markdown",
   "metadata": {},
   "source": [
    "$A =\\begin{bmatrix} a &b&c\\\\0&d&e\\\\0&0&f\\end{bmatrix}$  \n",
    "here $det(A) = a\\times d\\times f =$ product of diagonal elements  \n",
    "similarly this property is valid for lower triangular matrix"
   ]
  },
  {
   "cell_type": "markdown",
   "metadata": {},
   "source": [
    "## Cramer's rule"
   ]
  },
  {
   "cell_type": "markdown",
   "metadata": {},
   "source": [
    "Consider the following system of linear equations  \n",
    "$4x_1-3x_2 = 11$  \n",
    "$6x_1+5x_2=7$  \n",
    "Matrix representation: $Ax=b$ where  \n",
    "the matrix $A$ is given by $A=\\begin{bmatrix} 4 & -3\\\\6&5\\end{bmatrix}, b=\\begin{bmatrix} 11\\\\7 \\end{bmatrix}$.  \n",
    "Unique solution: $x_1=2, x_2=-1$"
   ]
  },
  {
   "cell_type": "markdown",
   "metadata": {},
   "source": [
    "* Coefficient matrix $A=\\begin{bmatrix} 4 & -3 \\\\ 6&5\\end{bmatrix}$\n",
    "* Calculate $det(A)$.\n",
    "* Replace the first column of $A$ by the column vector $b$ and call it $A_{x_1}$. $A_{x_1} = \\begin{bmatrix} 11 & -3\\\\7 & 5\\end{bmatrix}$\n",
    "* Replace the second column of $A$ by the column vector $b$ and call it $A_{x_2}$. $A_{x_2} = \\begin{bmatrix} 4 & 11\\\\6 & 7\\end{bmatrix}$\n",
    "* Calculate $det(A_{x_1})=76$.\n",
    "* Calculate $det(A_{x_2})=-38$.\n",
    "* Calculate $\\displaystyle\\frac{det(A_{x_1})}{det(A)}, \\frac{det(A_{x_2})}{det(A)}$  \n",
    "The solutions are:  \n",
    "$x_1=\\displaystyle\\frac{det(A_{x_1})}{det(A)}=\\frac{76}{38}=2, \\frac{det(A_{x_2})}{det(A)}=\\frac{-38}{38}=-1$"
   ]
  },
  {
   "cell_type": "markdown",
   "metadata": {},
   "source": [
    "### Cramer's rule for invertible $3\\times3$ matrices"
   ]
  },
  {
   "cell_type": "markdown",
   "metadata": {},
   "source": [
    "Consider the following system of linear equations in 3 variables:  \n",
    "$a_{11}x_1+a_{12}x_2+a_{13}x_3=b_1$  \n",
    "$a_{21}x_1+a_{22}x_2+a_{23}x_3=b_2$  \n",
    "$a_{31}x_1+a_{32}x_2+a_{33}x_3=b_3$  \n",
    "Matrix representation : $Ax=b$  \n",
    "$A=\\begin{bmatrix} a_{11} & a_{12} & a_{13} \\\\ a_{21} & a_{22} & a_{23} \\\\ a_{31} & a_{32} & a_{33} \\end{bmatrix}$, $b=\\begin{bmatrix}b_1 \\\\ b_2\\\\b_3\\end{bmatrix}$  \n",
    "Define $A=\\begin{bmatrix} b_1 & a_{12} & a_{13} \\\\ b_2 & a_{22} & a_{23} \\\\ b_3 & a_{32} & a_{33} \\end{bmatrix}$,  $A=\\begin{bmatrix} a_{11} & b_1 & a_{13} \\\\ a_{21} & b_2 & a_{23} \\\\ a_{31} & b_3 & a_{33} \\end{bmatrix}$, $A=\\begin{bmatrix} a_{11} & a_{12} & b_1 \\\\ a_{21} & a_{22} & b_2 \\\\ a_{31} & a_{32} & b_3 \\end{bmatrix}$  \n",
    "The solution of the system of equations of 3 variables is:  \n",
    "$x_1=\\displaystyle\\frac{det(A_{x_1})}{det(A)}, x_2=\\frac{det(A_{x_2})}{det(A)}, x_3=\\frac{det(A_{x_3})}{det(A)}$"
   ]
  },
  {
   "cell_type": "markdown",
   "metadata": {},
   "source": [
    "### Cramer's rule for invertible $n\\times n$ matrices"
   ]
  },
  {
   "cell_type": "markdown",
   "metadata": {},
   "source": [
    "Consider the system of linear equations $Ax=b$ where $A$ is an $n\\times n$ invertible matrix and $b$ is a column vector with $n$ entries.  \n",
    "$A=\\begin{bmatrix} a_{11} & a_{12} & \\dots & a_{1n} \\\\\n",
    "a_{21} & a_{22} & \\dots & a_{2n} \\\\\n",
    "\\vdots & \\vdots & \\dots & \\vdots\\\\\n",
    "a_{m1} & a_{m2} & \\dots & a_{mn}\\end{bmatrix}_{m\\times n} \\text{~~~~~~~~~~~~~}\n",
    "x = \\begin{bmatrix} x_1 \\\\ x_2 \\\\ \\vdots \\\\ x_n\\end{bmatrix}_{n\\times 1} \\text{~~~~~~~~}\n",
    "b = \\begin{bmatrix} b_1 \\\\ b_2 \\\\ \\vdots \\\\ b_m\\end{bmatrix}_{m\\times 1}$  \n",
    "\n",
    "Define $A_{x_i}$ to be the matrix obtained by replacing the $i^{th}$ column of $A$ by the column vector $b$. Crammer's rule states that the (unique) solution is:  $x_i=\\displaystyle\\frac{det(A_{x_i})}{det(A)}$."
   ]
  },
  {
   "cell_type": "markdown",
   "metadata": {},
   "source": [
    "## Inverse of a Square Matrix"
   ]
  },
  {
   "cell_type": "markdown",
   "metadata": {},
   "source": [
    "Let $A$ be an $n\\times n$ matrix. The inverse of $A$ is another $n\\times n$ matrix $B$ such that $AB=BA=I_{n\\times n}$ and is denoted by $A^{-1}$.  \n",
    "E.g.,  $\\begin{bmatrix}4&7\\\\2&6\\end{bmatrix}\\begin{bmatrix}0.6&-0.7\\\\-0.2&0.4\\end{bmatrix}=\\begin{bmatrix}1&0\\\\0&1\\end{bmatrix}=\\begin{bmatrix}0.6&-0.7\\\\-0.2&0.4\\end{bmatrix}\\begin{bmatrix}4&7\\\\2&6\\end{bmatrix}$"
   ]
  },
  {
   "cell_type": "markdown",
   "metadata": {},
   "source": [
    "$A^{-1}=\\frac 1{ad-bc}\\begin{bmatrix}d&-b\\\\-c&a\\end{bmatrix}$"
   ]
  },
  {
   "cell_type": "markdown",
   "metadata": {},
   "source": [
    "Recall that $det(A)det(A^{-1})=1$ and hence $det(A^{-1})=\\frac 1{det(A)}$.  \n",
    "Conclustion: inveser of $A$ exists $\\implies$ $det(A)$ has to be non-zero.   \n",
    "What about the convese i.e., does $det(A) \\neq 0\\implies A$ is invertible?"
   ]
  },
  {
   "cell_type": "markdown",
   "metadata": {},
   "source": [
    "### The adjugate of a square matrix"
   ]
  },
  {
   "cell_type": "markdown",
   "metadata": {},
   "source": [
    "Recall that the $(i,j)^{th}$ minor is the determinant of the submatrix formed by deleting the $i^{th}$ row and $j^{th}$ column. Notation: $M_{ij}$.  \n",
    "The $(i,j)^{th}$ cofactor is defined as : $C_{ij} :=(-1)^{i+j}M_{ij}$.  \n",
    "The cofactor matrix $C$ is the Matrix whose $(i,j)^{th}$ entry is $C_{ij}$.   \n",
    "Definition:  \n",
    "The adjugate matrix of $A$ is defined as: $adj(A):=C^T$."
   ]
  },
  {
   "cell_type": "markdown",
   "metadata": {},
   "source": [
    "### $3\\times3$ example of adjugate and inverse\n"
   ]
  },
  {
   "cell_type": "markdown",
   "metadata": {},
   "source": [
    "$A=\\begin{bmatrix}1&2&3\\\\0&2&8\\\\5&6&0\\end{bmatrix}$   \n",
    "$det(A)=2$  \n",
    "$M_{11}=-48, M_{12}=-40, M_{13}=-10$  \n",
    "$M_{21}=-18, M_{22}=-15, M_{23}=-4$  \n",
    "$M_{31}=10, M_{32}=8, M_{33}=2$  \n",
    "The cofactor matrix $C=\\begin{bmatrix}-48&40&-10\\\\18&-15&4\\\\10&-8&2\\end{bmatrix}$  \n",
    "The adjugate matrix $adj(A)=\\begin{bmatrix}-48&18&10\\\\40&-15&-8\\\\-10&4&2\\end{bmatrix}$.<br>  \n",
    "Let us compute $A\\frac 1{det(A)}adj(A)$ and $\\frac 1{det(A)}adj(A)A$.<br>  \n",
    "$\\begin{bmatrix}1&2&3\\\\0&2&8\\\\5&6&0\\end{bmatrix}\\begin{bmatrix}-24&9&5\\\\20&-15/2&-4\\\\-5&2&1\\end{bmatrix}=\\begin{bmatrix}1&0&0\\\\0&1&0\\\\0&0&1\\end{bmatrix}=\\begin{bmatrix}-24&9&5\\\\20&-15/2&-4\\\\-5&2&1\\end{bmatrix}\\begin{bmatrix}1&2&3\\\\0&2&8\\\\5&6&0\\end{bmatrix}$<br><br>  \n",
    "Hence $A^{-1}=\\frac 1{det(A)}adj(A)$."
   ]
  },
  {
   "cell_type": "markdown",
   "metadata": {},
   "source": [
    "### Adjugate and Inverse"
   ]
  },
  {
   "cell_type": "markdown",
   "metadata": {},
   "source": [
    "If $A$ is a $n\\times n$ matrix and $det(A)\\neq 0$, then $A^{-1}$ exists and equals  \n",
    "$A^{-1}=\\displaystyle\\frac 1{det(A)}adj(A)$.  "
   ]
  },
  {
   "cell_type": "markdown",
   "metadata": {},
   "source": [
    "### The solution of a system of linear equations with an invertible coefficient matrix"
   ]
  },
  {
   "cell_type": "markdown",
   "metadata": {},
   "source": [
    "Consider the system of linear equations $Ax=b$ where the coefficient matrix $A$ is an invertible matrix.  \n",
    "Multiplying both sides by $A^{-1}$ we obtain:  \n",
    "$$Ax=b$$  \n",
    "$$A^{-1}Ax=A^{-1}b$$  \n",
    "$$I_nx=A^{-1}b$$  \n",
    "$$x=A^{-1}b$$"
   ]
  },
  {
   "cell_type": "markdown",
   "metadata": {},
   "source": [
    "###  Homogeneous System of Linear Equations"
   ]
  },
  {
   "cell_type": "markdown",
   "metadata": {},
   "source": [
    "A system of linear equations is homogeneous if all of the constant terms are 0 i.e. $b=0$  \n",
    "$$a_{11}x_1+a_{12}x_2+\\dots+a_{1n}x_n=0$$\n",
    "$$a_{21}x_1+a_{22}x_2+\\dots+a_{2n}x_n=0$$\n",
    "$$\\dots$$\n",
    "$$\\dots$$\n",
    "$$a_{m1}x_1+a_{m2}x_2+\\dots+a_{mn}x_n=0$$"
   ]
  },
  {
   "cell_type": "markdown",
   "metadata": {},
   "source": [
    "The matrix form of a homogeneous system is $Ax=0$.  \n",
    "If $A$ is an invertible matrix then multiplying both sides by $A^{-1}$, we obtain $x=A^{-1}0=0$.  \n",
    "A homogeneous system of linear equations with $n$ equations in $n$ unknowns:  \n",
    "* has a unique solution $0$ if its coefficient matrix is invertible,   \n",
    "i.e. its determinant is non-zero.\n",
    "* has an infinite number of solutions if its coefficient matrix is not invertible  \n",
    "i.e. its determinant is $0$."
   ]
  },
  {
   "cell_type": "markdown",
   "metadata": {},
   "source": [
    "### System of Linear Equations"
   ]
  },
  {
   "cell_type": "markdown",
   "metadata": {},
   "source": [
    "A general system of $m$ linear equations with $n$ unknowns can be written as  \n",
    "$$a_{11}x_1+a_{12}x_2+\\dots+a_{1n}x_n=b_1$$\n",
    "$$a_{21}x_1+a_{22}x_2+\\dots+a_{2n}x_n=b_2$$\n",
    "$$\\dots$$\n",
    "$$\\dots$$\n",
    "$$a_{m1}x_1+a_{m2}x_2+\\dots+a_{mn}x_n=b_m$$"
   ]
  },
  {
   "cell_type": "markdown",
   "metadata": {},
   "source": [
    "## (Reduced) Row echelon form"
   ]
  },
  {
   "cell_type": "markdown",
   "metadata": {},
   "source": [
    "A matrix is in row echelon form if:\n",
    "* The first non-zero element in each row, called the leading entry, is 1.\n",
    "* Each leading entry is in a column to the right of the leading entry in the previouis row.\n",
    "* Rows with all zero elements, if any, are below rows having a non-zero element.\n",
    "* For a non-zero row, the leading entry in the row is the only non-zero entry in its column."
   ]
  },
  {
   "cell_type": "markdown",
   "metadata": {},
   "source": [
    "Examples:  \n",
    "$A_{ref}=\\begin{bmatrix}1&2&3&4\\\\0&0&1&3\\\\0&0&0&1\\end{bmatrix}$  $A_{rref}=\\begin{bmatrix}1&2&0&0\\\\0&0&1&0\\\\0&0&0&1\\end{bmatrix}$  \n",
    "$\\because A_{rref}x=b$  \n",
    "$x_1+2x_2=b_1 \\implies x_1=b_1-2x_2$  \n",
    "$x_3=b_2$  \n",
    "$x_4=b_3$  \n",
    "let $x_2=c\\implies x_1=b_1-2c$  \n",
    "$x=\\begin{bmatrix}b_1-2c\\\\c\\\\b_2\\\\b_3\\end{bmatrix}$"
   ]
  },
  {
   "cell_type": "markdown",
   "metadata": {},
   "source": [
    "Let $Ax=b$ be a system of linear equations and suppose $A$ is in reduced row echelon form.<br>  \n",
    "\n",
    "Suppose for some $i$, the $i^{th}$ row of $A$ is a zero row but $b_i\\neq0$.  \n",
    "Then this system has no solution.<br>  \n",
    "\n",
    "Reason: This means if we write the corresponding system of linear equations, the $i^{th}$ equation reads  \n",
    "$$0x_1+0x_2+\\dots+0x_n=b_i$$  \n",
    "Since $b_i\\neq0$ this equation cannot be satisfied."
   ]
  },
  {
   "cell_type": "markdown",
   "metadata": {},
   "source": [
    "### Solutions of $Ax=b$ when $A$ is in reduced row echelon form"
   ]
  },
  {
   "cell_type": "markdown",
   "metadata": {},
   "source": [
    "Let $Ax=b$ be a system of linear equations and suppose $A$ is in reduced row echelon form.<br>  \n",
    "\n",
    "Assume that for every zero row of $A$, the corresponding entry of $b$ is also $0$(i.e. if the $i^{th}$ row of $A$ is zero, then so is $b_i$).\n",
    "* If the $i^{th}$ column has the leading entry of some row, we call $x_i$ a __dependent__ variable.\n",
    "* If the $i^{th}$ column does not have the leading entry of some row, we call $x_i$ an __independent__ variable."
   ]
  },
  {
   "cell_type": "markdown",
   "metadata": {},
   "source": [
    "e.g., $\\begin{bmatrix}1&0&2\\\\0&1&3\\end{bmatrix}$  \n",
    "here $x_1, x_2 \\rightarrow$ dependent variable  \n",
    "$x_3 \\rightarrow$ independent variable<br><br>  \n",
    "\n",
    "$\\begin{bmatrix}1&2&0&0\\\\0&0&1&0\\\\0&0&0&1\\end{bmatrix}$  \n",
    "here $x_1,x_3,x_4 \\rightarrow$ dependent variable  \n",
    "$x_2 \\rightarrow$ independent variable"
   ]
  },
  {
   "cell_type": "markdown",
   "metadata": {},
   "source": [
    "* Assign arbitrary values to independent variables.\n",
    "* For a dependent variable, there is a unique equation in which it occurs. All other variables in that equation are independent variables and thus have values assigned. Hence, we can compute the value of the dependent variable from this equation substituting the assigned values for the other independent variables in the equation.\n",
    "* The obtained values for $x_i$ give a solution to the system.\n",
    "* In fact every solution is obtained in this way.  \n",
    "\n",
    "__Conclusion__: If $A$ is in reduced row echelon form, this easy procedure provides us with __ALL the solutions__ of $Ax=b$."
   ]
  },
  {
   "cell_type": "markdown",
   "metadata": {},
   "source": [
    "### Elementary Row operations"
   ]
  },
  {
   "cell_type": "markdown",
   "metadata": {},
   "source": [
    "|Type|Action|Example and notation|\n",
    "|--|--|--|\n",
    "|1|Interchange two rows|$\\begin{bmatrix}3&2&1&1\\\\1&1&0&0\\\\0&7&1&1\\end{bmatrix}\\underrightarrow{R_1\\leftrightarrow R_2}\\begin{bmatrix}1&1&0&0\\\\3&2&1&1\\\\0&7&1&1\\end{bmatrix}$|\n",
    "|2|Scalar multiplication of a row by a constant t.|$\\begin{bmatrix}3&2&1&1\\\\1&1&0&0\\\\0&7&1&1\\end{bmatrix}\\underrightarrow{R_1/3}\\begin{bmatrix}1&2/3&1/3&1/3\\\\1&1&0&0\\\\0&7&1&1\\end{bmatrix}$|\n",
    "|3|Adding multiples of a row to another row.|$\\begin{bmatrix}3&2&1&1\\\\1&1&0&0\\\\0&7&1&1\\end{bmatrix}\\underrightarrow{R_1-3R_2}\\begin{bmatrix}0&-1&1&1\\\\1&1&0&0\\\\0&7&1&1\\end{bmatrix}$|"
   ]
  },
  {
   "cell_type": "markdown",
   "metadata": {},
   "source": [
    "### Row reduction: Row echelon form"
   ]
  },
  {
   "cell_type": "markdown",
   "metadata": {},
   "source": [
    "|Action|Example and notation|\n",
    "|--|--|\n",
    "|Find the left most non-zero column|$\\begin{bmatrix}3&2&1&1\\\\1&1&0&0\\\\0&7&1&1\\end{bmatrix}$|\n",
    "|Use elementary row operations to get 1 in the top position of that column|$\\begin{bmatrix}3&2&1&1\\\\1&1&0&0\\\\0&7&1&1\\end{bmatrix} \\underrightarrow{R_1/3}\\begin{bmatrix}1&2/3&1/3&1/3\\\\1&1&0&0\\\\0&7&1&1\\end{bmatrix}$|\n",
    "|Use type 3 elementary row operations to make the entries below the 1 into 0.|$\\begin{bmatrix}1&2/3&1/3&1/3\\\\1&1&0&0\\\\0&7&1&1\\end{bmatrix}\\underrightarrow{R_2-R_1}\\begin{bmatrix}1&2/3&1/3&1/3\\\\0&1/3&-1/3&-1/3\\\\0&7&1&1\\end{bmatrix}$|\n",
    "|If there are no non-zero rows below the current row, the matrix is in row echelon row. Else find the next non-zero row and by switching rows (type 1 elementary operation), move all the zero rows between the current row and that row to below the non-zero row. Repeat the above steps for the submatrix below the current row.|$$\\begin{bmatrix}1&2/3&1/3&1/3\\\\0&1/3&-1/3&-1/3\\\\0&7&1&1\\end{bmatrix}$$ $$\\downarrow 3R_2 \\downarrow$$ $$\\begin{bmatrix}1&2/3&1/3&1/3\\\\0&1&-1&-1\\\\0&7&1&1\\end{bmatrix}$$ $$\\downarrow R_3-7R_2\\downarrow$$ $$\\begin{bmatrix}1&2/3&1/3&1/3\\\\0&1&-1&-1\\\\0&0&8&8\\end{bmatrix}$$ $$\\downarrow R_3/8 \\downarrow$$ $$\\begin{bmatrix}1&2/3&1/3&1/3\\\\0&1&-1&-1\\\\0&0&1&1\\end{bmatrix}$$|\n",
    "|Take the columns containing a 1 in the leading position of some row. Use type 3 elementary row operations to make all the entries in those columns 0.|$$\\begin{bmatrix}1&2/3&1/3&1/3\\\\0&1&-1&-1\\\\0&0&1&1\\end{bmatrix}$$ $$\\downarrow R_2+R_3,R_1-\\frac13R_3 \\downarrow$$ $$\\begin{bmatrix}1&2/3&0&0\\\\0&1&0&0\\\\0&0&1&1\\end{bmatrix}$$ $$\\downarrow R_1-\\frac23R_2\\downarrow$$ $$\\begin{bmatrix}1&0&0&0\\\\0&1&0&0\\\\0&0&1&1\\end{bmatrix}$$|"
   ]
  },
  {
   "cell_type": "markdown",
   "metadata": {},
   "source": [
    "### Recall from determinants"
   ]
  },
  {
   "cell_type": "markdown",
   "metadata": {},
   "source": [
    "$A=\\begin{bmatrix}2&4&1\\\\3&3&7\\\\5&6&9\\end{bmatrix}$  \n",
    "$det(A)=70$  \n",
    "|Type|Notation|Effect on determinant|\n",
    "|--|--|--|\n",
    "|1|$A \\xrightarrow{R_i\\leftrightarrow R_j} B $|$det(A)=-det(B)$|\n",
    "|2|$A \\xrightarrow{R_i/c} B$|$det(A)=cdet(B)$|\n",
    "|3|$A \\xrightarrow{R_i+cR_j} B$|$det(A)=det(B)$|"
   ]
  },
  {
   "cell_type": "markdown",
   "metadata": {},
   "source": [
    "### Homogeneous system of linear equations"
   ]
  },
  {
   "cell_type": "markdown",
   "metadata": {},
   "source": [
    "$0$ is always a solution of a homogeneous system of linear equations $Ax=0$. This solution is called the _trivail solution_.  \n",
    "For a homogeneous system, there are only two different possibilities:  \n",
    "* $0$ is the unique solution.\n",
    "* there are infinitely many solutions other than $0$.  \n",
    "\n",
    "In a homogenous system of equations, if there are more variables than equations, then it is guaranteed to have nontrivial solutions."
   ]
  },
  {
   "cell_type": "markdown",
   "metadata": {},
   "source": [
    "## Vector space"
   ]
  },
  {
   "cell_type": "markdown",
   "metadata": {},
   "source": [
    "### properties of addition and scalar multiplication"
   ]
  },
  {
   "cell_type": "markdown",
   "metadata": {},
   "source": [
    "Let v, w and v' be vectors in $\\mathbb{R}^n$ and a,b $\\in \\mathbb{R}$.\n",
    "1) v+w=w+v\n",
    "2) (v+w)+v'=v+(w+v')\n",
    "3) The $0$ vector satisfies that v+$0$ =$0$+v=v.\n",
    "4) The vector -v satisfies that v+(-v)=0\n",
    "5) 1v=v.\n",
    "6) (ab)v=a(bv).\n",
    "7) a(v+w)=av+aw.\n",
    "8) (a+b)v=av+bv"
   ]
  },
  {
   "cell_type": "markdown",
   "metadata": {},
   "source": [
    "### Cancellation law of vector addition"
   ]
  },
  {
   "cell_type": "markdown",
   "metadata": {},
   "source": [
    "If $v_1, v_2, v_3 \\in V$ such that $v_1+v_3=v_2+v_3$, then $v_1=v_2$."
   ]
  },
  {
   "cell_type": "markdown",
   "metadata": {},
   "source": [
    "### Linear dependence"
   ]
  },
  {
   "cell_type": "markdown",
   "metadata": {},
   "source": [
    "A set of vectors $v_1,v_2,...,v_n$ from a vector space $V$ is said to be __linearly dependent__ if there exists scalars $a_1,a_2,...,a_n$ not all zero, such that  \n",
    "$$a_1v_1+a_2v_2+\\dots+a_nv_n=0$$\n",
    "Equivalently: $v_1,v_2,...,v_n$ are __linearly dependent__ if the $0$ vector can be expressed as a linear combination of $v_1,v_2,...,v_n$ with non-zero coefficients (i.e. at least one coefficient is non-zero)."
   ]
  },
  {
   "cell_type": "markdown",
   "metadata": {},
   "source": [
    "### Definition of linear independence"
   ]
  },
  {
   "cell_type": "markdown",
   "metadata": {},
   "source": [
    "A set of vectors $v_1,v_2,...,v_n$ from a vector space $V$ is said to be __linearly independent__ if $v_1,v_2,...,v_n$ are not linearly dependent.  \n",
    "_Equivalently_: A set of vectors $v_1,v_2,...,v_n$ from a vector space $V$ is said to be __linearly independent__, if the equation  \n",
    "$$a_1v_1+a_2v_2+\\dots+a_nv_n=0$$\n",
    "can only be satisfied when $a_i=0$ for all $i=1,2,...,n$.<br>  \n",
    "_Equivalently_: A set of vectors $v_1,v_2,...,v_n$ from a vector space $V$ is said to be __linearly independent__ if the only linear combination of $v_1,v_2,...,v_n$ which equals $0$ is the linear combination with all coefficients $0$."
   ]
  },
  {
   "cell_type": "markdown",
   "metadata": {},
   "source": [
    "### 0 vector"
   ]
  },
  {
   "cell_type": "markdown",
   "metadata": {},
   "source": [
    "If there is one zero vector then that combination cannot be called a linearly independent vectors"
   ]
  },
  {
   "cell_type": "markdown",
   "metadata": {},
   "source": [
    "### When are two non-zero vectors linearly independent?"
   ]
  },
  {
   "cell_type": "markdown",
   "metadata": {},
   "source": [
    "Two non-zero vectors are __linearly independent__ precisely when they are __not multiples of each other__"
   ]
  },
  {
   "cell_type": "markdown",
   "metadata": {},
   "source": [
    "### Relationship with determinant"
   ]
  },
  {
   "cell_type": "markdown",
   "metadata": {},
   "source": [
    "$V$ is a __square matrix__, it has unique solution $x=0$ if and only if $V$ is invertible if and only if $det(V)\\neq 0$"
   ]
  }
 ],
 "metadata": {
  "language_info": {
   "name": "python"
  },
  "orig_nbformat": 4
 },
 "nbformat": 4,
 "nbformat_minor": 2
}
